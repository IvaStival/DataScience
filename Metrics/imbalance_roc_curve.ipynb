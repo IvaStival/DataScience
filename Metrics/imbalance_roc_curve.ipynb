{
 "cells": [
  {
   "cell_type": "code",
   "execution_count": 11,
   "id": "ee3d959b-98aa-42b8-8f01-2e3e3da76e6f",
   "metadata": {},
   "outputs": [],
   "source": [
    "from sklearn.datasets import make_classification\n",
    "from sklearn.model_selection import train_test_split\n",
    "from sklearn.metrics import roc_curve, roc_auc_score\n",
    "from sklearn.linear_model import LogisticRegression\n",
    "import matplotlib.pyplot as plt\n",
    "\n",
    "import pandas as pd"
   ]
  },
  {
   "cell_type": "code",
   "execution_count": 4,
   "id": "a457ea28-b04f-4d33-916e-96497b01a7f9",
   "metadata": {},
   "outputs": [],
   "source": [
    "X, y = make_classification(n_samples=1000, n_classes=2, weights=[0.99, 0.01], random_state=1)"
   ]
  },
  {
   "cell_type": "code",
   "execution_count": 10,
   "id": "325a9a2b-a9ae-4b16-8c5d-5dd9991742cb",
   "metadata": {},
   "outputs": [
    {
     "data": {
      "text/plain": [
       "0    985\n",
       "1     15\n",
       "dtype: int64"
      ]
     },
     "execution_count": 10,
     "metadata": {},
     "output_type": "execute_result"
    }
   ],
   "source": [
    "pd.DataFrame(y).value_counts()"
   ]
  },
  {
   "cell_type": "code",
   "execution_count": 12,
   "id": "fe145dd5-cb7f-4df0-b178-8a6d79eb906d",
   "metadata": {},
   "outputs": [],
   "source": [
    "X_Train, X_Test, Y_Train, Y_Test = train_test_split(X, y, test_size=0.5, random_state=2)"
   ]
  },
  {
   "cell_type": "code",
   "execution_count": 13,
   "id": "63ad962e-6244-448e-95a5-64149e8ac336",
   "metadata": {},
   "outputs": [],
   "source": [
    "ns_prob = [0 for _ in range(len(Y_Test))]"
   ]
  },
  {
   "cell_type": "code",
   "execution_count": 14,
   "id": "36076a30-caad-4947-a960-cff4dbb3471e",
   "metadata": {},
   "outputs": [],
   "source": [
    "model = LogisticRegression(solver=\"lbfgs\")"
   ]
  },
  {
   "cell_type": "code",
   "execution_count": 16,
   "id": "6b0b9180-fb06-446c-b170-4bc9190c4262",
   "metadata": {},
   "outputs": [
    {
     "data": {
      "text/plain": [
       "LogisticRegression()"
      ]
     },
     "execution_count": 16,
     "metadata": {},
     "output_type": "execute_result"
    }
   ],
   "source": [
    "model.fit(X_Train, Y_Train)"
   ]
  },
  {
   "cell_type": "code",
   "execution_count": 25,
   "id": "a7f32587-ce60-4b4d-b35e-9038951b772e",
   "metadata": {},
   "outputs": [],
   "source": [
    "lr_prob = model.predict_log_proba(X_Test)\n",
    "lr_pred = model.predict(X_Test)"
   ]
  },
  {
   "cell_type": "code",
   "execution_count": 18,
   "id": "d9a84116-3113-449d-ae60-6237bbcf4b06",
   "metadata": {},
   "outputs": [],
   "source": [
    "lr_prob = lr_prob[:, 1]"
   ]
  },
  {
   "cell_type": "code",
   "execution_count": 19,
   "id": "76162e2d-6248-4033-8e28-21a2042a2a1a",
   "metadata": {},
   "outputs": [],
   "source": [
    "ns_auc = roc_auc_score(Y_Test, ns_prob)\n",
    "lr_auc = roc_auc_score(Y_Test, lr_prob)"
   ]
  },
  {
   "cell_type": "code",
   "execution_count": 28,
   "id": "72ed647e-f94d-458c-b0e5-8d2c7872adc4",
   "metadata": {},
   "outputs": [
    {
     "name": "stdout",
     "output_type": "stream",
     "text": [
      "No Skill: 0.50\n",
      "Logisti: 0.72\n",
      "ACC: 0.978\n"
     ]
    }
   ],
   "source": [
    "from sklearn.metrics import accuracy_score\n",
    "print(f\"No Skill: {ns_auc:.2f}\")\n",
    "print(f\"Logisti: {lr_auc:.2f}\")\n",
    "print(f\"ACC: {accuracy_score(Y_Test, lr_pred)}\")"
   ]
  },
  {
   "cell_type": "code",
   "execution_count": 22,
   "id": "9fe0e351-386d-4222-b40a-1c5c654f1bbd",
   "metadata": {},
   "outputs": [],
   "source": [
    "ns_fpr, ns_tpr, _ = roc_curve(Y_Test, ns_prob)\n",
    "lr_fpr, lr_tpr, _ = roc_curve(Y_Test, lr_prob)"
   ]
  },
  {
   "cell_type": "code",
   "execution_count": 23,
   "id": "54a43395-f570-4975-b87c-8bde6bb97295",
   "metadata": {},
   "outputs": [
    {
     "data": {
      "image/png": "[encoded data removed]",
      "text/plain": [
       "<Figure size 432x288 with 1 Axes>"
      ]
     },
     "metadata": {
      "needs_background": "light"
     },
     "output_type": "display_data"
    }
   ],
   "source": [
    "plt.plot(ns_fpr, ns_tpr, linestyle=\"--\", label=\"No Skill\")\n",
    "plt.plot(lr_fpr, lr_tpr, marker=\".\", label=\"Logistic\")\n",
    "plt.xlabel(\"False Positive Rate\")\n",
    "plt.ylabel(\"True Positive Rate\")\n",
    "plt.legend()\n",
    "plt.show()"
   ]
  },
  {
   "cell_type": "code",
   "execution_count": null,
   "id": "51a06339-37c9-4d4b-8d2c-ec75cd21d3fe",
   "metadata": {},
   "outputs": [],
   "source": [
    "# HERE WE CAN SEE THE ROC CURVE WITH A DATASET WITH 100:1 RATIO (Class 0 = 985 | Class 1 = 15)\n",
    "# IT HAS SKIL BUT THAT SKILL IS MEASURED AS MAKING CORRECT TRUE NEGATIVE PREDICTIONS AND THERE ARE A LOT OF \n",
    "# NEGATIVE PREDICTIONS TO MAKE\n",
    "# IF WE REVIEWS THE PREDICTIONS, WE WILL SEE THAT THE MODEL PREDICTS THE MAJORITY CLASS (Class 0) IN ALL CASES\n",
    "# ON THE TEST SET. THE SCORE IS VERY MISLEADING"
   ]
  }
 ],
 "metadata": {
  "kernelspec": {
   "display_name": "Python 3",
   "language": "python",
   "name": "python3"
  },
  "language_info": {
   "codemirror_mode": {
    "name": "ipython",
    "version": 3
   },
   "file_extension": ".py",
   "mimetype": "text/x-python",
   "name": "python",
   "nbconvert_exporter": "python",
   "pygments_lexer": "ipython3",
   "version": "3.7.1"
  }
 },
 "nbformat": 4,
 "nbformat_minor": 5
}
