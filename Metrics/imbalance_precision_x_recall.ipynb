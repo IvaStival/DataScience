{
 "cells": [
  {
   "cell_type": "code",
   "execution_count": 2,
   "id": "57a87d3d-fefa-4033-8bca-094ccf0171c9",
   "metadata": {},
   "outputs": [],
   "source": [
    "from sklearn.datasets import make_classification\n",
    "from sklearn.model_selection import train_test_split\n",
    "from sklearn.metrics import precision_recall_curve\n",
    "from sklearn.metrics import f1_score\n",
    "from sklearn.metrics import auc\n",
    "from sklearn.linear_model import LogisticRegression\n",
    "import matplotlib.pyplot as plt"
   ]
  },
  {
   "cell_type": "code",
   "execution_count": 3,
   "id": "71095eb9-63f3-4ce3-8582-4d743d87c089",
   "metadata": {},
   "outputs": [],
   "source": [
    "X, y = make_classification(n_samples=1000, n_classes=2, weights=[0.99, 0.01], random_state=1)"
   ]
  },
  {
   "cell_type": "code",
   "execution_count": 4,
   "id": "fc179534-cd25-4a7e-a055-6d321565d101",
   "metadata": {},
   "outputs": [],
   "source": [
    "X_Train, X_Test, Y_Train, Y_Test = train_test_split(X, y, test_size=0.5, random_state=2)"
   ]
  },
  {
   "cell_type": "code",
   "execution_count": 5,
   "id": "d10e027c-3fba-4afe-b2b7-ed8fc066cd37",
   "metadata": {},
   "outputs": [],
   "source": [
    "model = LogisticRegression(solver=\"lbfgs\")"
   ]
  },
  {
   "cell_type": "code",
   "execution_count": 8,
   "id": "f41acb49-3808-425a-803b-7a6d6d5d61d5",
   "metadata": {},
   "outputs": [
    {
     "data": {
      "text/plain": [
       "LogisticRegression()"
      ]
     },
     "execution_count": 8,
     "metadata": {},
     "output_type": "execute_result"
    }
   ],
   "source": [
    "model.fit(X_Train, Y_Train)"
   ]
  },
  {
   "cell_type": "code",
   "execution_count": 9,
   "id": "0c511b17-702c-48cd-baf7-d78172a6e649",
   "metadata": {},
   "outputs": [],
   "source": [
    "lr_probs = model.predict_proba(X_Test)"
   ]
  },
  {
   "cell_type": "code",
   "execution_count": 10,
   "id": "f2b23349-3644-463b-9a14-ce54e9a4c5a9",
   "metadata": {},
   "outputs": [],
   "source": [
    "lr_probs = lr_probs[:, 1]"
   ]
  },
  {
   "cell_type": "code",
   "execution_count": 11,
   "id": "94dcea7b-2dd6-4d3a-894a-92d2c62196fa",
   "metadata": {},
   "outputs": [],
   "source": [
    "y_hat = model.predict(X_Test)"
   ]
  },
  {
   "cell_type": "code",
   "execution_count": 12,
   "id": "c6605959-eeaa-4d04-b79a-f8a7e02a8382",
   "metadata": {},
   "outputs": [],
   "source": [
    "lr_precision, lr_recall, _ = precision_recall_curve(Y_Test, lr_probs)"
   ]
  },
  {
   "cell_type": "code",
   "execution_count": 14,
   "id": "af4bc278-4fad-4f13-9dc0-9b2816c0577d",
   "metadata": {},
   "outputs": [],
   "source": [
    "lr_f1, lr_auc = f1_score(Y_Test, y_hat), auc(lr_recall, lr_precision)"
   ]
  },
  {
   "cell_type": "code",
   "execution_count": 16,
   "id": "9426eb7f-9891-4342-aba3-27f0990b41aa",
   "metadata": {},
   "outputs": [
    {
     "name": "stdout",
     "output_type": "stream",
     "text": [
      "Logistic: f1=0.0 auc=0.054\n"
     ]
    }
   ],
   "source": [
    "print(f\"Logistic: f1={lr_f1} auc={lr_auc:.3f}\")"
   ]
  },
  {
   "cell_type": "code",
   "execution_count": 18,
   "id": "e3233c75-a564-4050-956c-bc7f7cf665cd",
   "metadata": {},
   "outputs": [],
   "source": [
    "no_skill = len(Y_Test[Y_Test == 1]) / len(Y_Test)"
   ]
  },
  {
   "cell_type": "code",
   "execution_count": 19,
   "id": "c96cf005-614a-4f53-90c1-48b5f6ae7fb1",
   "metadata": {},
   "outputs": [
    {
     "data": {
      "image/png": "[encoded data removed]",
      "text/plain": [
       "<Figure size 432x288 with 1 Axes>"
      ]
     },
     "metadata": {
      "needs_background": "light"
     },
     "output_type": "display_data"
    }
   ],
   "source": [
    "plt.plot([0, 1], [no_skill, no_skill], linestyle=\"--\", label=\"No Skill\")\n",
    "plt.plot(lr_recall, lr_precision, marker=\".\", label=\"Logistic\")\n",
    "plt.xlabel(\"Recall\")\n",
    "plt.ylabel(\"Precision\")\n",
    "plt.legend()\n",
    "plt.show()"
   ]
  },
  {
   "cell_type": "code",
   "execution_count": null,
   "id": "d8d98f51-8982-4707-bb97-6eb5284a470f",
   "metadata": {},
   "outputs": [],
   "source": [
    "# WE CAN SEE THAT THE MODEL IS PENALIZED FOR PREDICTING THE MAJORITY CLASS IN ALL CASES. THE SCORES SHOW THAT THE\n",
    "# MODEL THAT LOOKED GOOD ACCORDING TO THE ROC CURVE IS IN FACT BARELY SKILLFUL WHEN CONSIDERED USING PRECISION AND RECALL\n",
    "# THAT FOCUS ON THE POSITIVE CLASS."
   ]
  }
 ],
 "metadata": {
  "kernelspec": {
   "display_name": "Python 3",
   "language": "python",
   "name": "python3"
  },
  "language_info": {
   "codemirror_mode": {
    "name": "ipython",
    "version": 3
   },
   "file_extension": ".py",
   "mimetype": "text/x-python",
   "name": "python",
   "nbconvert_exporter": "python",
   "pygments_lexer": "ipython3",
   "version": "3.7.1"
  }
 },
 "nbformat": 4,
 "nbformat_minor": 5
}
