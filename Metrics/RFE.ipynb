{
 "cells": [
  {
   "cell_type": "code",
   "execution_count": 15,
   "id": "952d34b6-b2aa-43c7-83d6-053888584fb6",
   "metadata": {},
   "outputs": [],
   "source": [
    "import pandas as pd\n",
    "import numpy as np\n",
    "\n",
    "from sklearn.datasets import make_classification\n",
    "from sklearn.model_selection import cross_val_score\n",
    "from sklearn.model_selection import RepeatedStratifiedKFold\n",
    "from sklearn.feature_selection import RFE\n",
    "from sklearn.tree import DecisionTreeClassifier\n",
    "from sklearn.pipeline import Pipeline\n"
   ]
  },
  {
   "cell_type": "markdown",
   "id": "f117abfd-d9e8-4859-92aa-4f5dde554309",
   "metadata": {},
   "source": [
    "# RFE for Classification"
   ]
  },
  {
   "cell_type": "code",
   "execution_count": 23,
   "id": "099e5fb7-209b-4171-ba90-ec3a3cfe0f2c",
   "metadata": {},
   "outputs": [],
   "source": [
    "x, y = make_classification(n_samples=1000, n_features=10, n_informative=5, n_redundant=5, random_state=1)"
   ]
  },
  {
   "cell_type": "code",
   "execution_count": 35,
   "id": "7172a05f-28d6-43cf-8cae-d343eb40caf9",
   "metadata": {},
   "outputs": [
    {
     "data": {
      "text/html": [
       "<div>\n",
       "<style scoped>\n",
       "    .dataframe tbody tr th:only-of-type {\n",
       "        vertical-align: middle;\n",
       "    }\n",
       "\n",
       "    .dataframe tbody tr th {\n",
       "        vertical-align: top;\n",
       "    }\n",
       "\n",
       "    .dataframe thead th {\n",
       "        text-align: right;\n",
       "    }\n",
       "</style>\n",
       "<table border=\"1\" class=\"dataframe\">\n",
       "  <thead>\n",
       "    <tr style=\"text-align: right;\">\n",
       "      <th></th>\n",
       "      <th>fet_0</th>\n",
       "      <th>fet_1</th>\n",
       "      <th>fet_2</th>\n",
       "      <th>fet_3</th>\n",
       "      <th>fet_4</th>\n",
       "      <th>fet_5</th>\n",
       "      <th>fet_6</th>\n",
       "      <th>fet_7</th>\n",
       "      <th>fet_8</th>\n",
       "      <th>fet_9</th>\n",
       "    </tr>\n",
       "  </thead>\n",
       "  <tbody>\n",
       "    <tr>\n",
       "      <th>0</th>\n",
       "      <td>2.569995</td>\n",
       "      <td>-0.130200</td>\n",
       "      <td>3.160751</td>\n",
       "      <td>-4.359364</td>\n",
       "      <td>-1.612720</td>\n",
       "      <td>-1.393521</td>\n",
       "      <td>-2.489249</td>\n",
       "      <td>-1.930941</td>\n",
       "      <td>3.261304</td>\n",
       "      <td>2.056921</td>\n",
       "    </tr>\n",
       "    <tr>\n",
       "      <th>1</th>\n",
       "      <td>0.341293</td>\n",
       "      <td>2.513214</td>\n",
       "      <td>-0.804166</td>\n",
       "      <td>1.291966</td>\n",
       "      <td>2.057731</td>\n",
       "      <td>-3.110983</td>\n",
       "      <td>1.465830</td>\n",
       "      <td>6.247344</td>\n",
       "      <td>-1.927694</td>\n",
       "      <td>2.950315</td>\n",
       "    </tr>\n",
       "    <tr>\n",
       "      <th>2</th>\n",
       "      <td>2.275400</td>\n",
       "      <td>3.365615</td>\n",
       "      <td>0.171644</td>\n",
       "      <td>1.248620</td>\n",
       "      <td>0.302498</td>\n",
       "      <td>-1.137814</td>\n",
       "      <td>-1.608199</td>\n",
       "      <td>2.746938</td>\n",
       "      <td>0.134924</td>\n",
       "      <td>2.003395</td>\n",
       "    </tr>\n",
       "    <tr>\n",
       "      <th>3</th>\n",
       "      <td>0.357846</td>\n",
       "      <td>0.905176</td>\n",
       "      <td>-0.259241</td>\n",
       "      <td>0.930414</td>\n",
       "      <td>0.112336</td>\n",
       "      <td>0.143484</td>\n",
       "      <td>-0.367149</td>\n",
       "      <td>0.658955</td>\n",
       "      <td>-0.269128</td>\n",
       "      <td>0.155807</td>\n",
       "    </tr>\n",
       "    <tr>\n",
       "      <th>4</th>\n",
       "      <td>-2.722477</td>\n",
       "      <td>0.324236</td>\n",
       "      <td>2.906472</td>\n",
       "      <td>-0.021218</td>\n",
       "      <td>-2.867399</td>\n",
       "      <td>1.591744</td>\n",
       "      <td>0.620849</td>\n",
       "      <td>3.383528</td>\n",
       "      <td>0.945621</td>\n",
       "      <td>3.498071</td>\n",
       "    </tr>\n",
       "  </tbody>\n",
       "</table>\n",
       "</div>"
      ],
      "text/plain": [
       "      fet_0     fet_1     fet_2     fet_3     fet_4     fet_5     fet_6  \\\n",
       "0  2.569995 -0.130200  3.160751 -4.359364 -1.612720 -1.393521 -2.489249   \n",
       "1  0.341293  2.513214 -0.804166  1.291966  2.057731 -3.110983  1.465830   \n",
       "2  2.275400  3.365615  0.171644  1.248620  0.302498 -1.137814 -1.608199   \n",
       "3  0.357846  0.905176 -0.259241  0.930414  0.112336  0.143484 -0.367149   \n",
       "4 -2.722477  0.324236  2.906472 -0.021218 -2.867399  1.591744  0.620849   \n",
       "\n",
       "      fet_7     fet_8     fet_9  \n",
       "0 -1.930941  3.261304  2.056921  \n",
       "1  6.247344 -1.927694  2.950315  \n",
       "2  2.746938  0.134924  2.003395  \n",
       "3  0.658955 -0.269128  0.155807  \n",
       "4  3.383528  0.945621  3.498071  "
      ]
     },
     "execution_count": 35,
     "metadata": {},
     "output_type": "execute_result"
    }
   ],
   "source": [
    "X = pd.DataFrame(x, columns=[f\"fet_{i}\" for i in range(0,10)])\n",
    "X.head()"
   ]
  },
  {
   "cell_type": "code",
   "execution_count": 11,
   "id": "f12816d5-ef75-4a88-86c9-7174a34c5097",
   "metadata": {},
   "outputs": [],
   "source": [
    "# EXECUTE THE PREDICTION REMOVING THE REDUNTANT FEATURES\n",
    "rfe = RFE(estimator=DecisionTreeClassifier(), n_features_to_select=5)\n",
    "model = DecisionTreeClassifier()\n",
    "pipeline = Pipeline(steps=[('s', rfe), ('m', model)])\n",
    "\n",
    "cv = RepeatedStratifiedKFold(n_splits=10, n_repeats=3, random_state=1)\n",
    "n_scores = cross_val_score(pipeline, x, y, scoring=\"accuracy\", cv=cv, n_jobs=-1, error_score=\"raise\")"
   ]
  },
  {
   "cell_type": "code",
   "execution_count": 17,
   "id": "9639cc81-2169-4e72-bfbf-8a2441290f27",
   "metadata": {},
   "outputs": [
    {
     "name": "stdout",
     "output_type": "stream",
     "text": [
      "Mean: 0.89, Std: 0.03\n"
     ]
    }
   ],
   "source": [
    "print(f\"Mean: {np.mean(n_scores):.2f}, Std: {np.std(n_scores):.2f}\")"
   ]
  },
  {
   "cell_type": "code",
   "execution_count": 18,
   "id": "254802a4-0654-48ba-bd03-1d40e3f28513",
   "metadata": {},
   "outputs": [],
   "source": [
    "# EXECUTE THE PREDICTION WITHOUT REMOVING THE REDUNTANT FEATURES\n",
    "rfe = RFE(estimator=DecisionTreeClassifier(), n_features_to_select=5)\n",
    "model = DecisionTreeClassifier()\n",
    "pipeline = Pipeline(steps=[('m', model)])\n",
    "\n",
    "cv = RepeatedStratifiedKFold(n_splits=10, n_repeats=3, random_state=1)\n",
    "n_scores = cross_val_score(pipeline, x, y, scoring=\"accuracy\", cv=cv, n_jobs=-1, error_score=\"raise\")"
   ]
  },
  {
   "cell_type": "code",
   "execution_count": 19,
   "id": "af8afa04-d13a-4b94-8315-abc7089460a7",
   "metadata": {},
   "outputs": [
    {
     "name": "stdout",
     "output_type": "stream",
     "text": [
      "Mean: 0.88, Std: 0.03\n"
     ]
    }
   ],
   "source": [
    "print(f\"Mean: {np.mean(n_scores):.2f}, Std: {np.std(n_scores):.2f}\")"
   ]
  },
  {
   "cell_type": "code",
   "execution_count": 25,
   "id": "685709c3-a3e1-456f-99c7-eef3fe75a7db",
   "metadata": {},
   "outputs": [],
   "source": [
    "# ONLY SEE THE RFE RESULT \n",
    "rfe = RFE(estimator=DecisionTreeClassifier(), n_features_to_select=5)\n",
    "rfe.fit(x,y)\n",
    "n_x = rfe.transform(x)"
   ]
  },
  {
   "cell_type": "code",
   "execution_count": 34,
   "id": "756bdcb5-f973-495a-997e-d0616fd8683f",
   "metadata": {},
   "outputs": [
    {
     "data": {
      "text/html": [
       "<div>\n",
       "<style scoped>\n",
       "    .dataframe tbody tr th:only-of-type {\n",
       "        vertical-align: middle;\n",
       "    }\n",
       "\n",
       "    .dataframe tbody tr th {\n",
       "        vertical-align: top;\n",
       "    }\n",
       "\n",
       "    .dataframe thead th {\n",
       "        text-align: right;\n",
       "    }\n",
       "</style>\n",
       "<table border=\"1\" class=\"dataframe\">\n",
       "  <thead>\n",
       "    <tr style=\"text-align: right;\">\n",
       "      <th></th>\n",
       "      <th>fet_0</th>\n",
       "      <th>fet_1</th>\n",
       "      <th>fet_2</th>\n",
       "      <th>fet_3</th>\n",
       "      <th>fet_4</th>\n",
       "    </tr>\n",
       "  </thead>\n",
       "  <tbody>\n",
       "    <tr>\n",
       "      <th>0</th>\n",
       "      <td>3.160751</td>\n",
       "      <td>-4.359364</td>\n",
       "      <td>-1.612720</td>\n",
       "      <td>-2.489249</td>\n",
       "      <td>3.261304</td>\n",
       "    </tr>\n",
       "    <tr>\n",
       "      <th>1</th>\n",
       "      <td>-0.804166</td>\n",
       "      <td>1.291966</td>\n",
       "      <td>2.057731</td>\n",
       "      <td>1.465830</td>\n",
       "      <td>-1.927694</td>\n",
       "    </tr>\n",
       "    <tr>\n",
       "      <th>2</th>\n",
       "      <td>0.171644</td>\n",
       "      <td>1.248620</td>\n",
       "      <td>0.302498</td>\n",
       "      <td>-1.608199</td>\n",
       "      <td>0.134924</td>\n",
       "    </tr>\n",
       "    <tr>\n",
       "      <th>3</th>\n",
       "      <td>-0.259241</td>\n",
       "      <td>0.930414</td>\n",
       "      <td>0.112336</td>\n",
       "      <td>-0.367149</td>\n",
       "      <td>-0.269128</td>\n",
       "    </tr>\n",
       "    <tr>\n",
       "      <th>4</th>\n",
       "      <td>2.906472</td>\n",
       "      <td>-0.021218</td>\n",
       "      <td>-2.867399</td>\n",
       "      <td>0.620849</td>\n",
       "      <td>0.945621</td>\n",
       "    </tr>\n",
       "  </tbody>\n",
       "</table>\n",
       "</div>"
      ],
      "text/plain": [
       "      fet_0     fet_1     fet_2     fet_3     fet_4\n",
       "0  3.160751 -4.359364 -1.612720 -2.489249  3.261304\n",
       "1 -0.804166  1.291966  2.057731  1.465830 -1.927694\n",
       "2  0.171644  1.248620  0.302498 -1.608199  0.134924\n",
       "3 -0.259241  0.930414  0.112336 -0.367149 -0.269128\n",
       "4  2.906472 -0.021218 -2.867399  0.620849  0.945621"
      ]
     },
     "execution_count": 34,
     "metadata": {},
     "output_type": "execute_result"
    }
   ],
   "source": [
    "pd.DataFrame(n_x, columns=[f\"fet_{i}\" for i in range(5)]).head()"
   ]
  },
  {
   "cell_type": "markdown",
   "id": "30f843a9-3854-471d-84dc-f5c0bca09e7b",
   "metadata": {},
   "source": [
    "# RFE for Regression"
   ]
  },
  {
   "cell_type": "code",
   "execution_count": 38,
   "id": "decc9947-60c0-4c8e-a20d-15b0122999d6",
   "metadata": {},
   "outputs": [],
   "source": [
    "from sklearn.datasets import make_regression\n",
    "from sklearn.model_selection import RepeatedKFold\n",
    "from sklearn.tree import DecisionTreeRegressor"
   ]
  },
  {
   "cell_type": "code",
   "execution_count": 37,
   "id": "6f29ff42-d755-49e1-99cd-b2b2b01d5734",
   "metadata": {},
   "outputs": [],
   "source": [
    "x, y = make_regression(n_samples=1000, n_features=10, n_informative=5, random_state=1)"
   ]
  },
  {
   "cell_type": "code",
   "execution_count": 39,
   "id": "0cfcd4db-468d-4f3c-a93f-3fdf9143249d",
   "metadata": {},
   "outputs": [],
   "source": [
    "rfe = RFE(estimator=DecisionTreeRegressor(), n_features_to_select=5)\n",
    "model = DecisionTreeRegressor()\n",
    "pipeline = Pipeline(steps=[(\"s\", rfe), (\"m\", model)])\n",
    "\n",
    "cv = RepeatedKFold(n_splits=10, n_repeats=3, random_state=1)\n",
    "n_scores = cross_val_score(pipeline, x, y, scoring=\"neg_mean_absolute_error\", cv=cv, n_jobs=-1, error_score=\"raise\")"
   ]
  },
  {
   "cell_type": "code",
   "execution_count": 42,
   "id": "d29e35f1-2aa2-40f6-89d6-50def524a1ff",
   "metadata": {},
   "outputs": [
    {
     "name": "stdout",
     "output_type": "stream",
     "text": [
      "-27.14, 2.34\n"
     ]
    }
   ],
   "source": [
    "# THE MAE (MEAN ABSOLUTE ERROR) ON SKLEARN IS NEGATIVE, SO THAT IT IS MAXIMIZED INSTEAD OF MINIMIZED. THIS MEANS THAT \n",
    "# LARGER MAE ARE BETTER\n",
    "print(f\"{np.mean(n_scores):.2f}, {np.std(n_scores):.2f}\")"
   ]
  },
  {
   "cell_type": "markdown",
   "id": "7357e0d7-3b62-422c-b94a-63609d7ee308",
   "metadata": {},
   "source": [
    "# Explore Number of Features"
   ]
  },
  {
   "cell_type": "code",
   "execution_count": 54,
   "id": "6663b773-2724-4601-95ac-bd17892738b9",
   "metadata": {},
   "outputs": [],
   "source": [
    "import pandas as pd\n",
    "import numpy as np \n",
    "\n",
    "from sklearn.datasets import make_classification\n",
    "from sklearn.model_selection import cross_val_score\n",
    "from sklearn.model_selection import RepeatedStratifiedKFold\n",
    "from sklearn.feature_selection import RFE\n",
    "from sklearn.tree import DecisionTreeClassifier\n",
    "from sklearn.pipeline import Pipeline\n",
    "\n",
    "import matplotlib.pyplot as plt"
   ]
  },
  {
   "cell_type": "code",
   "execution_count": 46,
   "id": "f327bcad-71b5-4738-8c79-c41137339775",
   "metadata": {},
   "outputs": [],
   "source": [
    "def get_dataset():\n",
    "    x, y = make_classification(n_samples=1000, n_features=10, n_informative=5, n_redundant=5, random_state=1)\n",
    "    return x, y"
   ]
  },
  {
   "cell_type": "code",
   "execution_count": 49,
   "id": "312a32b1-3de9-4597-b88c-81f998caa2ab",
   "metadata": {},
   "outputs": [],
   "source": [
    "def get_models():\n",
    "    models = dict()\n",
    "    for i in range(2, 10):\n",
    "        rfe = RFE(estimator=DecisionTreeClassifier(), n_features_to_select=i)\n",
    "        model = DecisionTreeClassifier()\n",
    "        pipeline = Pipeline(steps=[(\"s\", rfe), (\"m\", model)])\n",
    "        \n",
    "        models[str(i)] = pipeline\n",
    "    return models"
   ]
  },
  {
   "cell_type": "code",
   "execution_count": 50,
   "id": "beeeb861-8ec8-494b-87b2-5f27b85eb5fb",
   "metadata": {},
   "outputs": [],
   "source": [
    "def evaluate_model(mode, x, y):\n",
    "    cv = RepeatedStratifiedKFold(n_splits=10, n_repeats=3, random_state=1)\n",
    "    scores = cross_val_score(model, x, y, scoring=\"accuracy\", cv=cv, n_jobs=-1, error_score=\"raise\")\n",
    "    return scores"
   ]
  },
  {
   "cell_type": "code",
   "execution_count": 53,
   "id": "b154cc13-513f-4271-b866-c51140568115",
   "metadata": {},
   "outputs": [
    {
     "name": "stdout",
     "output_type": "stream",
     "text": [
      ">2 Mean: 0.72, std: 0.05\n",
      ">3 Mean: 0.82, std: 0.03\n",
      ">4 Mean: 0.88, std: 0.03\n",
      ">5 Mean: 0.89, std: 0.03\n",
      ">6 Mean: 0.89, std: 0.03\n",
      ">7 Mean: 0.89, std: 0.02\n",
      ">8 Mean: 0.89, std: 0.02\n",
      ">9 Mean: 0.89, std: 0.02\n"
     ]
    }
   ],
   "source": [
    "x, y = get_dataset()\n",
    "models = get_models()\n",
    "\n",
    "results = []\n",
    "names = []\n",
    "\n",
    "for name, model in models.items():\n",
    "    score = evaluate_model(model, x, y)\n",
    "    results.append(score)\n",
    "    names.append(name)\n",
    "    print(f\">{name} Mean: {np.mean(score):.2f}, std: {np.std(score):.2f}\")\n",
    "    "
   ]
  },
  {
   "cell_type": "code",
   "execution_count": 57,
   "id": "78d697ec-421f-4028-b2b8-e5b8e5ad2b8f",
   "metadata": {},
   "outputs": [
    {
     "data": {
      "image/png": "[encoded data removed]",
      "text/plain": [
       "<Figure size 720x576 with 1 Axes>"
      ]
     },
     "metadata": {
      "needs_background": "light"
     },
     "output_type": "display_data"
    }
   ],
   "source": [
    "fig = plt.figure(figsize=(10,8))\n",
    "plt.boxplot(results, labels=names, showmeans=True)\n",
    "plt.show()"
   ]
  },
  {
   "cell_type": "markdown",
   "id": "ac975edf-8f35-4dc8-b721-8240a2db6569",
   "metadata": {},
   "source": [
    "# Automatically Select the Number of Features"
   ]
  },
  {
   "cell_type": "code",
   "execution_count": 58,
   "id": "d0bc23a4-9d45-4273-bb6e-c83d4ed1e3c5",
   "metadata": {},
   "outputs": [],
   "source": [
    "import pandas as pd\n",
    "import numpy as np \n",
    "\n",
    "from sklearn.datasets import make_classification\n",
    "from sklearn.model_selection import cross_val_score\n",
    "from sklearn.model_selection import RepeatedStratifiedKFold\n",
    "from sklearn.feature_selection import RFECV\n",
    "from sklearn.tree import DecisionTreeClassifier\n",
    "from sklearn.pipeline import Pipeline\n",
    "\n",
    "import matplotlib.pyplot as plt"
   ]
  },
  {
   "cell_type": "code",
   "execution_count": 75,
   "id": "08a68c37-f87d-45d6-a230-9bf5157af872",
   "metadata": {},
   "outputs": [],
   "source": [
    "x, y = make_classification(n_samples=1000, n_features=10, n_informative=5, n_redundant=5, random_state=12)"
   ]
  },
  {
   "cell_type": "code",
   "execution_count": 61,
   "id": "67b1afe9-1a3d-4509-be16-d844f009d6d3",
   "metadata": {},
   "outputs": [
    {
     "name": "stdout",
     "output_type": "stream",
     "text": [
      "Mean: 0.88, Std: 0.03\n"
     ]
    }
   ],
   "source": [
    "rfe = RFECV(estimator=DecisionTreeClassifier())\n",
    "model = DecisionTreeClassifier()\n",
    "pipeline = Pipeline(steps=[(\"s\", rfe), (\"m\", model)])\n",
    "\n",
    "cv = RepeatedStratifiedKFold(n_splits=10, n_repeats=3, random_state=1)\n",
    "n_score = cross_val_score(pipeline, x, y, scoring=\"accuracy\", cv=cv, n_jobs=-1, error_score=\"raise\")\n",
    "\n",
    "print(f\"Mean: {np.mean(n_score):.2f}, Std: {np.std(n_score):.2f}\")"
   ]
  },
  {
   "cell_type": "code",
   "execution_count": 76,
   "id": "e6cc4aff-0fcb-4a58-af2f-30af12eb47dc",
   "metadata": {},
   "outputs": [
    {
     "name": "stdout",
     "output_type": "stream",
     "text": [
      "Column: 0, Selected: True, Rank: 1\n",
      "Column: 1, Selected: True, Rank: 1\n",
      "Column: 2, Selected: True, Rank: 1\n",
      "Column: 3, Selected: True, Rank: 1\n",
      "Column: 4, Selected: True, Rank: 1\n",
      "Column: 5, Selected: True, Rank: 1\n",
      "Column: 6, Selected: True, Rank: 1\n",
      "Column: 7, Selected: True, Rank: 1\n",
      "Column: 8, Selected: False, Rank: 2\n",
      "Column: 9, Selected: True, Rank: 1\n"
     ]
    }
   ],
   "source": [
    "rfe.fit(x,y)\n",
    "for i in range(x.shape[1]):\n",
    "    print(f\"Column: {i}, Selected: {rfe.support_[i]}, Rank: {rfe.ranking_[i]}\")"
   ]
  },
  {
   "cell_type": "markdown",
   "id": "f29af66d-88bd-47f9-852e-90b4bfef29af",
   "metadata": {},
   "source": [
    "# Test Base Algorithms"
   ]
  },
  {
   "cell_type": "code",
   "execution_count": 80,
   "id": "27d61ddb-68a8-4cf7-a131-228dc6947d4e",
   "metadata": {},
   "outputs": [
    {
     "name": "stdout",
     "output_type": "stream",
     "text": [
      ">lr 0.889 (0.033)\n",
      ">per 0.850 (0.039)\n",
      ">cart 0.887 (0.034)\n",
      ">rf 0.858 (0.032)\n",
      ">gbm 0.887 (0.030)\n"
     ]
    },
    {
     "data": {
      "image/png": "[encoded data removed]",
      "text/plain": [
       "<Figure size 432x288 with 1 Axes>"
      ]
     },
     "metadata": {
      "needs_background": "light"
     },
     "output_type": "display_data"
    }
   ],
   "source": [
    "# explore the algorithm wrapped by RFE\n",
    "from numpy import mean\n",
    "from numpy import std\n",
    "from sklearn.datasets import make_classification\n",
    "from sklearn.model_selection import cross_val_score\n",
    "from sklearn.model_selection import RepeatedStratifiedKFold\n",
    "from sklearn.feature_selection import RFE\n",
    "from sklearn.linear_model import LogisticRegression\n",
    "from sklearn.linear_model import Perceptron\n",
    "from sklearn.tree import DecisionTreeClassifier\n",
    "from sklearn.ensemble import RandomForestClassifier\n",
    "from sklearn.ensemble import GradientBoostingClassifier\n",
    "from sklearn.pipeline import Pipeline\n",
    "from matplotlib import pyplot\n",
    "\n",
    "# get the dataset\n",
    "def get_dataset():\n",
    "\tX, y = make_classification(n_samples=1000, n_features=10, n_informative=5, n_redundant=5, random_state=1)\n",
    "\treturn X, y\n",
    "\n",
    "# get a list of models to evaluate\n",
    "def get_models():\n",
    "\tmodels = dict()\n",
    "\t# lr\n",
    "\trfe = RFE(estimator=LogisticRegression(), n_features_to_select=5)\n",
    "\tmodel = DecisionTreeClassifier()\n",
    "\tmodels['lr'] = Pipeline(steps=[('s',rfe),('m',model)])\n",
    "\t# perceptron\n",
    "\trfe = RFE(estimator=Perceptron(), n_features_to_select=5)\n",
    "\tmodel = DecisionTreeClassifier()\n",
    "\tmodels['per'] = Pipeline(steps=[('s',rfe),('m',model)])\n",
    "\t# cart\n",
    "\trfe = RFE(estimator=DecisionTreeClassifier(), n_features_to_select=5)\n",
    "\tmodel = DecisionTreeClassifier()\n",
    "\tmodels['cart'] = Pipeline(steps=[('s',rfe),('m',model)])\n",
    "\t# rf\n",
    "\trfe = RFE(estimator=RandomForestClassifier(), n_features_to_select=5)\n",
    "\tmodel = DecisionTreeClassifier()\n",
    "\tmodels['rf'] = Pipeline(steps=[('s',rfe),('m',model)])\n",
    "\t# gbm\n",
    "\trfe = RFE(estimator=GradientBoostingClassifier(), n_features_to_select=5)\n",
    "\tmodel = DecisionTreeClassifier()\n",
    "\tmodels['gbm'] = Pipeline(steps=[('s',rfe),('m',model)])\n",
    "\treturn models\n",
    "\n",
    "# evaluate a give model using cross-validation\n",
    "def evaluate_model(model, X, y):\n",
    "\tcv = RepeatedStratifiedKFold(n_splits=10, n_repeats=3, random_state=1)\n",
    "\tscores = cross_val_score(model, X, y, scoring='accuracy', cv=cv, n_jobs=-1)\n",
    "\treturn scores\n",
    "\n",
    "# define dataset\n",
    "X, y = get_dataset()\n",
    "# get the models to evaluate\n",
    "models = get_models()\n",
    "# evaluate the models and store results\n",
    "results, names = list(), list()\n",
    "for name, model in models.items():\n",
    "\tscores = evaluate_model(model, X, y)\n",
    "\tresults.append(scores)\n",
    "\tnames.append(name)\n",
    "\tprint('>%s %.3f (%.3f)' % (name, mean(scores), std(scores)))\n",
    "# plot model performance for comparison\n",
    "pyplot.boxplot(results, labels=names, showmeans=True)\n",
    "pyplot.show()"
   ]
  },
  {
   "cell_type": "code",
   "execution_count": null,
   "id": "a016390f-f52e-49ba-aa31-601c7d6de2d7",
   "metadata": {},
   "outputs": [],
   "source": []
  }
 ],
 "metadata": {
  "kernelspec": {
   "display_name": "Python 3",
   "language": "python",
   "name": "python3"
  },
  "language_info": {
   "codemirror_mode": {
    "name": "ipython",
    "version": 3
   },
   "file_extension": ".py",
   "mimetype": "text/x-python",
   "name": "python",
   "nbconvert_exporter": "python",
   "pygments_lexer": "ipython3",
   "version": "3.7.1"
  }
 },
 "nbformat": 4,
 "nbformat_minor": 5
}
