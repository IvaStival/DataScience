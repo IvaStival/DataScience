{
 "cells": [
  {
   "cell_type": "code",
   "execution_count": 89,
   "id": "e7532525-0366-4272-b1e4-5cfd9421a7aa",
   "metadata": {},
   "outputs": [],
   "source": [
    "import numpy as np\n",
    "import matplotlib.pyplot as plt"
   ]
  },
  {
   "cell_type": "code",
   "execution_count": 90,
   "id": "b8a58614-1b2f-45d1-a9db-d52cc28f5ce6",
   "metadata": {},
   "outputs": [],
   "source": [
    "# R_SQUARE IS THE RESULT OF 1 - (SUM OF RESIDUALS SQUARED(SSR)) / (SUM OF DISTANCES THE DATA IS AWAY FROM THE MEAN SQUARED (SST))\n",
    "def r_square(y_line, y):\n",
    "    # SSR\n",
    "    sum_error = [errorFunc(y_line[i], y[i]) for i in range(len(y))]\n",
    "    error_r = np.sum(sum_error)\n",
    "    print(f\"Errors: {sum_error}\")\n",
    "    print(f\"Sum Errors: {error_r}\")   \n",
    "    \n",
    "    # SST\n",
    "    mean = np.mean(y)\n",
    "    sum_mean_error = [meanError(y_line[i],  mean) for i in range(len(y))]\n",
    "    mean_r = np.sum(sum_mean_error)\n",
    "    print(f\"Errors Mean: {sum_mean_error}\")\n",
    "    print(f\"Sum Mean Errors: {mean_r}\")   \n",
    "        \n",
    "    result = 1 - (error_r / mean_r)\n",
    "    print(f\"R-Square: {result}\")"
   ]
  },
  {
   "cell_type": "code",
   "execution_count": 91,
   "id": "0c4e19fe-4d7b-4a41-ae79-0554cc1d6908",
   "metadata": {},
   "outputs": [],
   "source": [
    "def errorFunc(y_line, y):\n",
    "    return (y_line - y)**2"
   ]
  },
  {
   "cell_type": "code",
   "execution_count": 92,
   "id": "9e1b4632-3af9-49f1-b81d-253f013e3209",
   "metadata": {},
   "outputs": [],
   "source": [
    "def meanError(y_line, mean):\n",
    "    return (y_line - mean)**2"
   ]
  },
  {
   "cell_type": "code",
   "execution_count": 93,
   "id": "b5417a29-9153-4566-bbc4-807a6a3e199c",
   "metadata": {},
   "outputs": [],
   "source": [
    "def linearFunc(x): \n",
    "    return 0.143 + 1.229*x"
   ]
  },
  {
   "cell_type": "code",
   "execution_count": 94,
   "id": "944552e2-a9b8-4e2d-bf69-a531680b321b",
   "metadata": {},
   "outputs": [],
   "source": [
    "p = [[2,2], [3,4], [4,6], [6,7]]\n",
    "\n",
    "r = [[i[j] for i in p] for j in range(2)]\n",
    "x = r[0]\n",
    "y = r[1]\n",
    "\n",
    "y_line = [linearFunc(v) for v in x]"
   ]
  },
  {
   "cell_type": "code",
   "execution_count": 95,
   "id": "c3b54f93-5a74-400b-b96c-56c80abd0084",
   "metadata": {},
   "outputs": [
    {
     "name": "stdout",
     "output_type": "stream",
     "text": [
      "Errors: [0.361201, 0.028899999999999974, 0.8854809999999997, 0.2672890000000004]\n",
      "Sum Errors: 1.542871\n",
      "Errors Mean: [4.618201, 0.8463999999999998, 0.09548100000000011, 7.656289000000002]\n",
      "Sum Mean Errors: 13.216371000000002\n",
      "R-Square: 0.883260616700303\n"
     ]
    }
   ],
   "source": [
    "r_square(y_line, y)"
   ]
  },
  {
   "cell_type": "code",
   "execution_count": 72,
   "id": "57abe9b6-b886-4b11-b68b-4ddcc943ced0",
   "metadata": {},
   "outputs": [
    {
     "data": {
      "text/plain": [
       "[2.601, 3.83, 5.059, 7.517]"
      ]
     },
     "execution_count": 72,
     "metadata": {},
     "output_type": "execute_result"
    }
   ],
   "source": [
    "y_line"
   ]
  },
  {
   "cell_type": "code",
   "execution_count": 71,
   "id": "c2f6d600-9b7d-4701-9d96-3dae8284ae93",
   "metadata": {},
   "outputs": [
    {
     "data": {
      "text/plain": [
       "[2, 3, 4, 6]"
      ]
     },
     "execution_count": 71,
     "metadata": {},
     "output_type": "execute_result"
    }
   ],
   "source": []
  },
  {
   "cell_type": "code",
   "execution_count": null,
   "id": "f3ddf1b4-053b-46e4-88e3-f328e8236729",
   "metadata": {},
   "outputs": [],
   "source": []
  }
 ],
 "metadata": {
  "kernelspec": {
   "display_name": "Python 3",
   "language": "python",
   "name": "python3"
  },
  "language_info": {
   "codemirror_mode": {
    "name": "ipython",
    "version": 3
   },
   "file_extension": ".py",
   "mimetype": "text/x-python",
   "name": "python",
   "nbconvert_exporter": "python",
   "pygments_lexer": "ipython3",
   "version": "3.7.1"
  }
 },
 "nbformat": 4,
 "nbformat_minor": 5
}
