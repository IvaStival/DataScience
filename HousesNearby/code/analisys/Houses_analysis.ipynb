{
 "cells": [
  {
   "cell_type": "code",
   "execution_count": 2,
   "id": "aedfe454-e603-4c1d-b32e-a78746f8189d",
   "metadata": {},
   "outputs": [],
   "source": [
    "# LIBS IMPORT\n",
    "import pandas as pd\n",
    "import matplotlib.pyplot as plt\n",
    "import seaborn as sns"
   ]
  },
  {
   "cell_type": "code",
   "execution_count": 413,
   "id": "34202535-dd5f-43c1-a015-69b4a1a3995e",
   "metadata": {},
   "outputs": [],
   "source": [
    "# READ DATASET\n",
    "df = pd.read_csv(\"../../dataset/data_vivareal_21_03_2022_18_38_14.csv\").drop(0)"
   ]
  },
  {
   "cell_type": "code",
   "execution_count": 414,
   "id": "176d146a-115f-41ac-bcfd-39dbad0177c3",
   "metadata": {},
   "outputs": [
    {
     "data": {
      "text/html": [
       "<div>\n",
       "<style scoped>\n",
       "    .dataframe tbody tr th:only-of-type {\n",
       "        vertical-align: middle;\n",
       "    }\n",
       "\n",
       "    .dataframe tbody tr th {\n",
       "        vertical-align: top;\n",
       "    }\n",
       "\n",
       "    .dataframe thead th {\n",
       "        text-align: right;\n",
       "    }\n",
       "</style>\n",
       "<table border=\"1\" class=\"dataframe\">\n",
       "  <thead>\n",
       "    <tr style=\"text-align: right;\">\n",
       "      <th></th>\n",
       "      <th>id</th>\n",
       "      <th>url</th>\n",
       "      <th>address</th>\n",
       "      <th>area</th>\n",
       "      <th>rooms</th>\n",
       "      <th>batrooms</th>\n",
       "      <th>garage</th>\n",
       "      <th>amenities</th>\n",
       "      <th>value</th>\n",
       "      <th>condominium</th>\n",
       "      <th>date</th>\n",
       "    </tr>\n",
       "  </thead>\n",
       "  <tbody>\n",
       "    <tr>\n",
       "      <th>1</th>\n",
       "      <td>2553339688</td>\n",
       "      <td>https://www.vivareal.com.br/imovel/apartamento...</td>\n",
       "      <td>Rua Monsenhor Manoel Vicente, 597 - Água Verde...</td>\n",
       "      <td>51 m²</td>\n",
       "      <td>2 Quartos</td>\n",
       "      <td>1 Banheiro</td>\n",
       "      <td>1 Vaga</td>\n",
       "      <td>Aceita animais\\nCozinha americana\\nMobiliado\\n...</td>\n",
       "      <td>R$ 325.000</td>\n",
       "      <td>Condomínio: R$ 350</td>\n",
       "      <td>2022-03-21 18:38:38</td>\n",
       "    </tr>\n",
       "    <tr>\n",
       "      <th>2</th>\n",
       "      <td>2074895474</td>\n",
       "      <td>https://www.vivareal.com.br/imoveis-lancamento...</td>\n",
       "      <td>Rua Professor Guido Straube, 775 - Vila Izabel...</td>\n",
       "      <td>72-78 m²</td>\n",
       "      <td>3 Quartos</td>\n",
       "      <td>2 Banheiros</td>\n",
       "      <td>2 Vagas</td>\n",
       "      <td>NaN</td>\n",
       "      <td>R$ 598.000</td>\n",
       "      <td>NaN</td>\n",
       "      <td>2022-03-21 18:38:38</td>\n",
       "    </tr>\n",
       "    <tr>\n",
       "      <th>3</th>\n",
       "      <td>2540019474</td>\n",
       "      <td>https://www.vivareal.com.br/imovel/apartamento...</td>\n",
       "      <td>Rua Monsenhor Manoel Vicente, 316 - Água Verde...</td>\n",
       "      <td>94 m²</td>\n",
       "      <td>3 Quartos</td>\n",
       "      <td>2 Banheiros</td>\n",
       "      <td>2 Vagas</td>\n",
       "      <td>Mobiliado\\nChurrasqueira\\nElevador\\nCondomínio...</td>\n",
       "      <td>R$ 680.000</td>\n",
       "      <td>Condomínio: R$ 530</td>\n",
       "      <td>2022-03-21 18:38:38</td>\n",
       "    </tr>\n",
       "    <tr>\n",
       "      <th>4</th>\n",
       "      <td>2518442439</td>\n",
       "      <td>https://www.vivareal.com.br/imovel/apartamento...</td>\n",
       "      <td>Rua Coronel Dulcídio, 1756 - Água Verde, Curit...</td>\n",
       "      <td>54 m²</td>\n",
       "      <td>2 Quartos</td>\n",
       "      <td>1 Banheiro</td>\n",
       "      <td>-- Vaga</td>\n",
       "      <td>Mobiliado\\nPortão eletrônico\\nAceita animais\\n...</td>\n",
       "      <td>R$ 215.000</td>\n",
       "      <td>Condomínio: R$ 345</td>\n",
       "      <td>2022-03-21 18:38:39</td>\n",
       "    </tr>\n",
       "    <tr>\n",
       "      <th>5</th>\n",
       "      <td>2477728884</td>\n",
       "      <td>https://www.vivareal.com.br/imovel/apartamento...</td>\n",
       "      <td>Avenida Iguaçu, 2960 - Água Verde, Curitiba - PR</td>\n",
       "      <td>102 m²</td>\n",
       "      <td>3 Quartos</td>\n",
       "      <td>3 Banheiros</td>\n",
       "      <td>2 Vagas</td>\n",
       "      <td>Piscina\\nMobiliado\\nChurrasqueira\\nElevador\\nC...</td>\n",
       "      <td>R$ 650.000</td>\n",
       "      <td>Condomínio: R$ 1.000</td>\n",
       "      <td>2022-03-21 18:38:39</td>\n",
       "    </tr>\n",
       "  </tbody>\n",
       "</table>\n",
       "</div>"
      ],
      "text/plain": [
       "           id                                                url  \\\n",
       "1  2553339688  https://www.vivareal.com.br/imovel/apartamento...   \n",
       "2  2074895474  https://www.vivareal.com.br/imoveis-lancamento...   \n",
       "3  2540019474  https://www.vivareal.com.br/imovel/apartamento...   \n",
       "4  2518442439  https://www.vivareal.com.br/imovel/apartamento...   \n",
       "5  2477728884  https://www.vivareal.com.br/imovel/apartamento...   \n",
       "\n",
       "                                             address      area      rooms  \\\n",
       "1  Rua Monsenhor Manoel Vicente, 597 - Água Verde...     51 m²  2 Quartos   \n",
       "2  Rua Professor Guido Straube, 775 - Vila Izabel...  72-78 m²  3 Quartos   \n",
       "3  Rua Monsenhor Manoel Vicente, 316 - Água Verde...     94 m²  3 Quartos   \n",
       "4  Rua Coronel Dulcídio, 1756 - Água Verde, Curit...     54 m²  2 Quartos   \n",
       "5   Avenida Iguaçu, 2960 - Água Verde, Curitiba - PR    102 m²  3 Quartos   \n",
       "\n",
       "      batrooms   garage                                          amenities  \\\n",
       "1   1 Banheiro   1 Vaga  Aceita animais\\nCozinha americana\\nMobiliado\\n...   \n",
       "2  2 Banheiros  2 Vagas                                                NaN   \n",
       "3  2 Banheiros  2 Vagas  Mobiliado\\nChurrasqueira\\nElevador\\nCondomínio...   \n",
       "4   1 Banheiro  -- Vaga  Mobiliado\\nPortão eletrônico\\nAceita animais\\n...   \n",
       "5  3 Banheiros  2 Vagas  Piscina\\nMobiliado\\nChurrasqueira\\nElevador\\nC...   \n",
       "\n",
       "        value           condominium                 date  \n",
       "1  R$ 325.000    Condomínio: R$ 350  2022-03-21 18:38:38  \n",
       "2  R$ 598.000                   NaN  2022-03-21 18:38:38  \n",
       "3  R$ 680.000    Condomínio: R$ 530  2022-03-21 18:38:38  \n",
       "4  R$ 215.000    Condomínio: R$ 345  2022-03-21 18:38:39  \n",
       "5  R$ 650.000  Condomínio: R$ 1.000  2022-03-21 18:38:39  "
      ]
     },
     "execution_count": 414,
     "metadata": {},
     "output_type": "execute_result"
    }
   ],
   "source": [
    "df.head()"
   ]
  },
  {
   "cell_type": "code",
   "execution_count": 415,
   "id": "cbce65fe-d839-4eb5-b8ac-7196beb47aad",
   "metadata": {},
   "outputs": [
    {
     "name": "stdout",
     "output_type": "stream",
     "text": [
      "<class 'pandas.core.frame.DataFrame'>\n",
      "Int64Index: 36617 entries, 1 to 36617\n",
      "Data columns (total 11 columns):\n",
      " #   Column       Non-Null Count  Dtype \n",
      "---  ------       --------------  ----- \n",
      " 0   id           36617 non-null  object\n",
      " 1   url          36617 non-null  object\n",
      " 2   address      36617 non-null  object\n",
      " 3   area         36617 non-null  object\n",
      " 4   rooms        36617 non-null  object\n",
      " 5   batrooms     36617 non-null  object\n",
      " 6   garage       36617 non-null  object\n",
      " 7   amenities    26952 non-null  object\n",
      " 8   value        36617 non-null  object\n",
      " 9   condominium  16795 non-null  object\n",
      " 10  date         36617 non-null  object\n",
      "dtypes: object(11)\n",
      "memory usage: 3.4+ MB\n"
     ]
    }
   ],
   "source": [
    "df.info()"
   ]
  },
  {
   "cell_type": "markdown",
   "id": "1d47365c-50c5-4326-9c15-8ec8b49e13e1",
   "metadata": {},
   "source": [
    "# Cleaning data"
   ]
  },
  {
   "cell_type": "code",
   "execution_count": 416,
   "id": "65ba6e35-c0eb-43c0-9f0e-c8508cf9bd83",
   "metadata": {},
   "outputs": [],
   "source": [
    "def cleanData(df, feature, split_character, idx):\n",
    "    return df[feature].apply(lambda x : x.split(split_character)[idx])"
   ]
  },
  {
   "cell_type": "markdown",
   "id": "2a1c5738-8282-4474-8610-58b866203fb4",
   "metadata": {},
   "source": [
    "### Area\n",
    "51m^2 -> 51"
   ]
  },
  {
   "cell_type": "code",
   "execution_count": 417,
   "id": "130bc55b-a1b5-461b-923f-bfba65beb2a9",
   "metadata": {},
   "outputs": [],
   "source": [
    "# The area column have the m^2 string, remove it and let only the number\n",
    "# 51m^2 -> 51\n",
    "df[\"area\"] = cleanData(df, \"area\", \" \", 0)\n",
    "\n",
    "# EXISTS SOME NEW APARTMENTS WITH area WITH TWO NUMBERS: 72-78, I WILL GET THE SMALL VALUE BECAUSE THE APARTMENT VALUE INIT \n",
    "# THE SMALL VALUE\n",
    "df[\"area\"] = cleanData(df, \"area\", \"-\", 0)"
   ]
  },
  {
   "cell_type": "code",
   "execution_count": null,
   "id": "73075245-599c-41fc-b7e9-67aafe2fd8fb",
   "metadata": {},
   "outputs": [],
   "source": []
  },
  {
   "cell_type": "markdown",
   "id": "341bb483-945e-4ec8-aa76-e7264d9fba8f",
   "metadata": {},
   "source": [
    "### Rooms"
   ]
  },
  {
   "cell_type": "code",
   "execution_count": 418,
   "id": "3ee48e26-5a93-4862-9722-c988464faf82",
   "metadata": {},
   "outputs": [
    {
     "data": {
      "text/plain": [
       "rooms\n",
       "3        15708\n",
       "2        11187\n",
       "1         4364\n",
       "4         2795\n",
       "2-3        994\n",
       "3-4        519\n",
       "1-3        424\n",
       "1-2        331\n",
       "5          102\n",
       "rooms       69\n",
       "2-4         61\n",
       "--          49\n",
       "6           10\n",
       "20           2\n",
       "12           1\n",
       "19           1\n",
       "dtype: int64"
      ]
     },
     "execution_count": 418,
     "metadata": {},
     "output_type": "execute_result"
    }
   ],
   "source": [
    "# rooms:\n",
    "# 2 Quantos -> 2\n",
    "# And remove strange rooms lines\n",
    "df[\"rooms\"] = cleanData(df, \"rooms\", \" \", 0)\n",
    "df[[\"rooms\"]].value_counts()"
   ]
  },
  {
   "cell_type": "code",
   "execution_count": 419,
   "id": "dd61f06e-0e94-4101-a970-55c015662ae9",
   "metadata": {},
   "outputs": [
    {
     "data": {
      "text/plain": [
       "rooms\n",
       "3        16227\n",
       "2        12242\n",
       "1         5119\n",
       "4         2795\n",
       "5          102\n",
       "6           10\n",
       "20           2\n",
       "12           1\n",
       "19           1\n",
       "dtype: int64"
      ]
     },
     "execution_count": 419,
     "metadata": {},
     "output_type": "execute_result"
    }
   ],
   "source": [
    "df[\"rooms\"] = cleanData(df, \"rooms\", \"-\", 0)\n",
    "df = df.loc[~(df[\"rooms\"] == \"rooms\") & ~(df[\"rooms\"] == \"\")]\n",
    "df[[\"rooms\"]].value_counts()\n",
    "\n",
    "# WE CAN SEE SOME OUTLIERS, A HOUSE WITH 20 ROOMS IS STRANGE. AFTER WE WILL REMOVE ALL THE OUTLIERS"
   ]
  },
  {
   "cell_type": "markdown",
   "id": "0796ee8a-0147-4183-9547-af08f088bc9e",
   "metadata": {},
   "source": [
    "### Batrooms"
   ]
  },
  {
   "cell_type": "code",
   "execution_count": 420,
   "id": "8db59e2c-fe47-40c2-87af-5852eadceded",
   "metadata": {},
   "outputs": [],
   "source": [
    "df[\"batrooms\"] = cleanData(df, \"batrooms\", \" \", 0)\n",
    "df[\"batrooms\"] = cleanData(df, \"batrooms\", \"-\", 0)\n",
    "df = df.loc[~(df[\"batrooms\"] == \"\")]"
   ]
  },
  {
   "cell_type": "code",
   "execution_count": 421,
   "id": "c7ec7bd3-a623-41e1-94e9-11f571f421a5",
   "metadata": {},
   "outputs": [
    {
     "data": {
      "text/plain": [
       "1     12037\n",
       "2     11956\n",
       "3      5540\n",
       "4      3237\n",
       "5      2541\n",
       "6       811\n",
       "7       147\n",
       "8        97\n",
       "9        27\n",
       "10       27\n",
       "11       16\n",
       "16        3\n",
       "20        2\n",
       "Name: batrooms, dtype: int64"
      ]
     },
     "execution_count": 421,
     "metadata": {},
     "output_type": "execute_result"
    }
   ],
   "source": [
    "df[\"batrooms\"].value_counts()\n",
    "# HERE WE HAVE OUTLIER TO"
   ]
  },
  {
   "cell_type": "markdown",
   "id": "125af548-fa90-4855-8da1-f001c19677d2",
   "metadata": {},
   "source": [
    "### Garage"
   ]
  },
  {
   "cell_type": "code",
   "execution_count": 422,
   "id": "fcaf5629-783a-4eef-8f2a-a4e16af70609",
   "metadata": {},
   "outputs": [],
   "source": [
    "df[\"garage\"] = cleanData(df, \"garage\", \" \", 0)\n",
    "df[\"garage\"] = cleanData(df, \"garage\", \"-\", 0)"
   ]
  },
  {
   "cell_type": "code",
   "execution_count": 423,
   "id": "09120599-dae7-490c-b38f-d4650750a8a2",
   "metadata": {},
   "outputs": [
    {
     "data": {
      "text/plain": [
       "1     15899\n",
       "2     10037\n",
       "       5460\n",
       "3      3139\n",
       "4      1609\n",
       "5       225\n",
       "6        45\n",
       "10        6\n",
       "40        3\n",
       "8         3\n",
       "7         3\n",
       "52        2\n",
       "9         2\n",
       "12        1\n",
       "11        1\n",
       "14        1\n",
       "80        1\n",
       "30        1\n",
       "18        1\n",
       "16        1\n",
       "36        1\n",
       "Name: garage, dtype: int64"
      ]
     },
     "execution_count": 423,
     "metadata": {},
     "output_type": "execute_result"
    }
   ],
   "source": [
    "df[\"garage\"].value_counts()"
   ]
  },
  {
   "cell_type": "code",
   "execution_count": 424,
   "id": "92743418-bf46-4993-a5ac-98754acc3c6c",
   "metadata": {},
   "outputs": [],
   "source": [
    "# I WILL ADD 0 TO THE MISSING, AFTER I WILL ADD A VALUE THAT REPRESENT BETTER THIS FEATURES, LIKE MEAN FOR EXAMPLE\n",
    "# I NOT WANT TO REMOVE THIS LINE BECAUSE EXISTS 5460 ITENS, IT IS A BIG AMOUNT OF INFORMATION\n",
    "df.loc[df[\"garage\"] == \"\", [\"garage\"]] = 0"
   ]
  },
  {
   "cell_type": "markdown",
   "id": "abc94f19-80f3-427b-8eb9-a6d9226f045a",
   "metadata": {},
   "source": [
    "### Value"
   ]
  },
  {
   "cell_type": "code",
   "execution_count": 425,
   "id": "70b0c2c0-4315-4858-b6ae-9299dd08e640",
   "metadata": {},
   "outputs": [],
   "source": [
    "# GET THE FIRST ELEMENT OF THE \n",
    "value_temp_list = df[\"value\"].apply(lambda x : x.split(\" \")[0])"
   ]
  },
  {
   "cell_type": "code",
   "execution_count": 426,
   "id": "0390dfe5-b9fb-44a6-b9b9-0e50cc24aee0",
   "metadata": {},
   "outputs": [
    {
     "data": {
      "text/plain": [
       "R$     35504\n",
       "De       734\n",
       "Sob      170\n",
       "A         33\n",
       "Name: value, dtype: int64"
      ]
     },
     "execution_count": 426,
     "metadata": {},
     "output_type": "execute_result"
    }
   ],
   "source": [
    "# EXISTS SOM DIFFERENTS FORMATATION VALUES, THE R$, De AND Sob I WILL KEEP, THE OTHERS HAVE A SMALL NUMBER SO I WILL REMOVE THEM\n",
    "value_temp_list.value_counts()"
   ]
  },
  {
   "cell_type": "code",
   "execution_count": 427,
   "id": "fd17ac81-ccb9-4c63-84b1-c80ed5673778",
   "metadata": {},
   "outputs": [
    {
     "data": {
      "text/html": [
       "<div>\n",
       "<style scoped>\n",
       "    .dataframe tbody tr th:only-of-type {\n",
       "        vertical-align: middle;\n",
       "    }\n",
       "\n",
       "    .dataframe tbody tr th {\n",
       "        vertical-align: top;\n",
       "    }\n",
       "\n",
       "    .dataframe thead th {\n",
       "        text-align: right;\n",
       "    }\n",
       "</style>\n",
       "<table border=\"1\" class=\"dataframe\">\n",
       "  <thead>\n",
       "    <tr style=\"text-align: right;\">\n",
       "      <th></th>\n",
       "      <th>id</th>\n",
       "      <th>url</th>\n",
       "      <th>address</th>\n",
       "      <th>area</th>\n",
       "      <th>rooms</th>\n",
       "      <th>batrooms</th>\n",
       "      <th>garage</th>\n",
       "      <th>amenities</th>\n",
       "      <th>value</th>\n",
       "      <th>condominium</th>\n",
       "      <th>date</th>\n",
       "    </tr>\n",
       "  </thead>\n",
       "  <tbody>\n",
       "  </tbody>\n",
       "</table>\n",
       "</div>"
      ],
      "text/plain": [
       "Empty DataFrame\n",
       "Columns: [id, url, address, area, rooms, batrooms, garage, amenities, value, condominium, date]\n",
       "Index: []"
      ]
     },
     "execution_count": 427,
     "metadata": {},
     "output_type": "execute_result"
    }
   ],
   "source": [
    "df.loc[value_temp_list == \"value\"].head(5)"
   ]
  },
  {
   "cell_type": "code",
   "execution_count": 428,
   "id": "6e978d8f-bef5-49d0-9cb7-c4856b412684",
   "metadata": {},
   "outputs": [
    {
     "data": {
      "text/html": [
       "<div>\n",
       "<style scoped>\n",
       "    .dataframe tbody tr th:only-of-type {\n",
       "        vertical-align: middle;\n",
       "    }\n",
       "\n",
       "    .dataframe tbody tr th {\n",
       "        vertical-align: top;\n",
       "    }\n",
       "\n",
       "    .dataframe thead th {\n",
       "        text-align: right;\n",
       "    }\n",
       "</style>\n",
       "<table border=\"1\" class=\"dataframe\">\n",
       "  <thead>\n",
       "    <tr style=\"text-align: right;\">\n",
       "      <th></th>\n",
       "      <th>id</th>\n",
       "      <th>url</th>\n",
       "      <th>address</th>\n",
       "      <th>area</th>\n",
       "      <th>rooms</th>\n",
       "      <th>batrooms</th>\n",
       "      <th>garage</th>\n",
       "      <th>amenities</th>\n",
       "      <th>value</th>\n",
       "      <th>condominium</th>\n",
       "      <th>date</th>\n",
       "    </tr>\n",
       "  </thead>\n",
       "  <tbody>\n",
       "    <tr>\n",
       "      <th>4031</th>\n",
       "      <td>2499477414</td>\n",
       "      <td>https://www.vivareal.com.br/imoveis-lancamento...</td>\n",
       "      <td>Avenida Anita Garibaldi, 1282 - Cabral, Curiti...</td>\n",
       "      <td>78</td>\n",
       "      <td>3</td>\n",
       "      <td>2</td>\n",
       "      <td>2</td>\n",
       "      <td>NaN</td>\n",
       "      <td>A partir de\\nR$ 615.000</td>\n",
       "      <td>NaN</td>\n",
       "      <td>2022-03-21 19:23:48</td>\n",
       "    </tr>\n",
       "    <tr>\n",
       "      <th>4701</th>\n",
       "      <td>2545075918</td>\n",
       "      <td>https://www.vivareal.com.br/imoveis-lancamento...</td>\n",
       "      <td>Rua Doutor Motta Júnior, 2600 - Centro, São Jo...</td>\n",
       "      <td>49</td>\n",
       "      <td>2</td>\n",
       "      <td>1</td>\n",
       "      <td>1</td>\n",
       "      <td>NaN</td>\n",
       "      <td>A partir de\\nR$ 198.000</td>\n",
       "      <td>NaN</td>\n",
       "      <td>2022-03-21 19:28:41</td>\n",
       "    </tr>\n",
       "    <tr>\n",
       "      <th>5823</th>\n",
       "      <td>2549432009</td>\n",
       "      <td>https://www.vivareal.com.br/imoveis-lancamento...</td>\n",
       "      <td>Rua João Américo de Oliveira, 922 - Cabral, Cu...</td>\n",
       "      <td>180</td>\n",
       "      <td>3</td>\n",
       "      <td>5</td>\n",
       "      <td>3</td>\n",
       "      <td>NaN</td>\n",
       "      <td>A partir de\\nR$ 2.597.770</td>\n",
       "      <td>NaN</td>\n",
       "      <td>2022-03-21 19:36:13</td>\n",
       "    </tr>\n",
       "    <tr>\n",
       "      <th>5830</th>\n",
       "      <td>2520668057</td>\n",
       "      <td>https://www.vivareal.com.br/imoveis-lancamento...</td>\n",
       "      <td>Rua Moyses Marcondes, 53 - Juvevê, Curitiba - PR</td>\n",
       "      <td>105</td>\n",
       "      <td>3</td>\n",
       "      <td>3</td>\n",
       "      <td>2</td>\n",
       "      <td>NaN</td>\n",
       "      <td>A partir de\\nR$ 1.030.000</td>\n",
       "      <td>NaN</td>\n",
       "      <td>2022-03-21 19:36:15</td>\n",
       "    </tr>\n",
       "    <tr>\n",
       "      <th>10640</th>\n",
       "      <td>2549435659</td>\n",
       "      <td>https://www.vivareal.com.br/imoveis-lancamento...</td>\n",
       "      <td>Rua Manoel Eufrásio, 1270 - Juvevê, Curitiba - PR</td>\n",
       "      <td>128</td>\n",
       "      <td>3</td>\n",
       "      <td>4</td>\n",
       "      <td>2</td>\n",
       "      <td>NaN</td>\n",
       "      <td>A partir de\\nR$ 1.352.418</td>\n",
       "      <td>NaN</td>\n",
       "      <td>2022-03-21 20:08:38</td>\n",
       "    </tr>\n",
       "  </tbody>\n",
       "</table>\n",
       "</div>"
      ],
      "text/plain": [
       "               id                                                url  \\\n",
       "4031   2499477414  https://www.vivareal.com.br/imoveis-lancamento...   \n",
       "4701   2545075918  https://www.vivareal.com.br/imoveis-lancamento...   \n",
       "5823   2549432009  https://www.vivareal.com.br/imoveis-lancamento...   \n",
       "5830   2520668057  https://www.vivareal.com.br/imoveis-lancamento...   \n",
       "10640  2549435659  https://www.vivareal.com.br/imoveis-lancamento...   \n",
       "\n",
       "                                                 address area rooms batrooms  \\\n",
       "4031   Avenida Anita Garibaldi, 1282 - Cabral, Curiti...   78     3        2   \n",
       "4701   Rua Doutor Motta Júnior, 2600 - Centro, São Jo...   49     2        1   \n",
       "5823   Rua João Américo de Oliveira, 922 - Cabral, Cu...  180     3        5   \n",
       "5830    Rua Moyses Marcondes, 53 - Juvevê, Curitiba - PR  105     3        3   \n",
       "10640  Rua Manoel Eufrásio, 1270 - Juvevê, Curitiba - PR  128     3        4   \n",
       "\n",
       "      garage amenities                      value condominium  \\\n",
       "4031       2       NaN    A partir de\\nR$ 615.000         NaN   \n",
       "4701       1       NaN    A partir de\\nR$ 198.000         NaN   \n",
       "5823       3       NaN  A partir de\\nR$ 2.597.770         NaN   \n",
       "5830       2       NaN  A partir de\\nR$ 1.030.000         NaN   \n",
       "10640      2       NaN  A partir de\\nR$ 1.352.418         NaN   \n",
       "\n",
       "                      date  \n",
       "4031   2022-03-21 19:23:48  \n",
       "4701   2022-03-21 19:28:41  \n",
       "5823   2022-03-21 19:36:13  \n",
       "5830   2022-03-21 19:36:15  \n",
       "10640  2022-03-21 20:08:38  "
      ]
     },
     "execution_count": 428,
     "metadata": {},
     "output_type": "execute_result"
    }
   ],
   "source": [
    "df.loc[value_temp_list == \"A\"].head(5)"
   ]
  },
  {
   "cell_type": "code",
   "execution_count": 429,
   "id": "2a6c6e17-7995-4c89-9e83-41835c0fa9eb",
   "metadata": {},
   "outputs": [
    {
     "name": "stdout",
     "output_type": "stream",
     "text": [
      "0\n",
      "33\n"
     ]
    }
   ],
   "source": [
    "print(df.loc[value_temp_list == \"value\"].shape[0])\n",
    "print(df.loc[value_temp_list == \"A\"].shape[0])"
   ]
  },
  {
   "cell_type": "code",
   "execution_count": 430,
   "id": "e6841770-98cd-42ba-883c-791d8269de1b",
   "metadata": {},
   "outputs": [
    {
     "name": "stdout",
     "output_type": "stream",
     "text": [
      "0\n",
      "0\n"
     ]
    }
   ],
   "source": [
    "# REMOVE ROWS WITH \"value\" AND \"A\"\n",
    "df = df.loc[~(value_temp_list == \"value\")]\n",
    "df = df.loc[~(value_temp_list == \"A\")]\n",
    "print(df.loc[value_temp_list == \"value\"].shape[0])\n",
    "print(df.loc[value_temp_list == \"A\"].shape[0])"
   ]
  },
  {
   "cell_type": "code",
   "execution_count": 431,
   "id": "4007f906-cd1f-43c6-bc8c-30bec7c18a8e",
   "metadata": {},
   "outputs": [],
   "source": [
    "df[\"value\"] = cleanData(df, \"value\", \" \", -1)"
   ]
  },
  {
   "cell_type": "code",
   "execution_count": 432,
   "id": "7d541f54-ede5-4caf-b0ab-501b12772c5d",
   "metadata": {},
   "outputs": [],
   "source": [
    "# REMOVE ALL LINES WITH THE VALUE Consulta\n",
    "df = df.loc[~(df[\"value\"] == \"Consulta\")]"
   ]
  },
  {
   "cell_type": "code",
   "execution_count": 433,
   "id": "114c939e-658c-4ebb-a761-14b0de884857",
   "metadata": {},
   "outputs": [
    {
     "data": {
      "text/html": [
       "<div>\n",
       "<style scoped>\n",
       "    .dataframe tbody tr th:only-of-type {\n",
       "        vertical-align: middle;\n",
       "    }\n",
       "\n",
       "    .dataframe tbody tr th {\n",
       "        vertical-align: top;\n",
       "    }\n",
       "\n",
       "    .dataframe thead th {\n",
       "        text-align: right;\n",
       "    }\n",
       "</style>\n",
       "<table border=\"1\" class=\"dataframe\">\n",
       "  <thead>\n",
       "    <tr style=\"text-align: right;\">\n",
       "      <th></th>\n",
       "      <th>id</th>\n",
       "      <th>url</th>\n",
       "      <th>address</th>\n",
       "      <th>area</th>\n",
       "      <th>rooms</th>\n",
       "      <th>batrooms</th>\n",
       "      <th>garage</th>\n",
       "      <th>amenities</th>\n",
       "      <th>value</th>\n",
       "      <th>condominium</th>\n",
       "      <th>date</th>\n",
       "    </tr>\n",
       "  </thead>\n",
       "  <tbody>\n",
       "  </tbody>\n",
       "</table>\n",
       "</div>"
      ],
      "text/plain": [
       "Empty DataFrame\n",
       "Columns: [id, url, address, area, rooms, batrooms, garage, amenities, value, condominium, date]\n",
       "Index: []"
      ]
     },
     "execution_count": 433,
     "metadata": {},
     "output_type": "execute_result"
    }
   ],
   "source": [
    "# CHECK IF EXISTS SOME RENT APARTMENT\n",
    "df.loc[df[\"value\"].apply(lambda x : int(x.replace(\".\", \"\")) < 5000)]"
   ]
  },
  {
   "cell_type": "code",
   "execution_count": 434,
   "id": "675d89c5-c733-4be7-b00c-52a500b36918",
   "metadata": {},
   "outputs": [],
   "source": [
    "df[\"value\"] = df[\"value\"].apply(lambda x : int(x.replace(\".\", \"\")))"
   ]
  },
  {
   "cell_type": "markdown",
   "id": "31e174f5-b911-4be5-8576-d014f64f611f",
   "metadata": {},
   "source": [
    "### Condominium"
   ]
  },
  {
   "cell_type": "code",
   "execution_count": 435,
   "id": "f339425e-f52e-4d55-af99-d5538492bbd0",
   "metadata": {},
   "outputs": [],
   "source": [
    "# ALL NULL SET TO 0\n",
    "df.loc[df[\"condominium\"].isnull(), \"condominium\"] = \"0\""
   ]
  },
  {
   "cell_type": "code",
   "execution_count": 437,
   "id": "f019f62f-617f-499e-baf4-743f80795d46",
   "metadata": {},
   "outputs": [],
   "source": [
    "df[\"condominium\"] = cleanData(df, \"condominium\", \" \", -1)"
   ]
  },
  {
   "cell_type": "markdown",
   "id": "42aa9b71-b2f7-46c0-930c-2b7f8df08b6d",
   "metadata": {},
   "source": [
    "### District"
   ]
  },
  {
   "cell_type": "code",
   "execution_count": 439,
   "id": "8f4b399a-bc04-4329-bf84-b138c2f23a4c",
   "metadata": {},
   "outputs": [
    {
     "data": {
      "text/plain": [
       "1        Rua Monsenhor Manoel Vicente, 597 - Água Verde...\n",
       "2        Rua Professor Guido Straube, 775 - Vila Izabel...\n",
       "3        Rua Monsenhor Manoel Vicente, 316 - Água Verde...\n",
       "4        Rua Coronel Dulcídio, 1756 - Água Verde, Curit...\n",
       "5         Avenida Iguaçu, 2960 - Água Verde, Curitiba - PR\n",
       "                               ...                        \n",
       "36613    Rua João Batista Zagonel Passos, 484 - Xaxim, ...\n",
       "36614    Rua Professor Guido Straube, 775 - Vila Izabel...\n",
       "36615    Rua João Batista Zagonel Passos, 484 - Xaxim, ...\n",
       "36616          Rua Santo Bozzi, 770 - Xaxim, Curitiba - PR\n",
       "36617    Rua Tenente Olderico Gabardo, 311 - Xaxim, Cur...\n",
       "Name: address, Length: 36238, dtype: object"
      ]
     },
     "execution_count": 439,
     "metadata": {},
     "output_type": "execute_result"
    }
   ],
   "source": [
    "df[\"address\"]"
   ]
  },
  {
   "cell_type": "code",
   "execution_count": 451,
   "id": "b48a0ae8-297e-4b0e-b7f8-c8ea548aa9c8",
   "metadata": {},
   "outputs": [],
   "source": [
    "def test(input: str) -> int:\n",
    "    return input"
   ]
  },
  {
   "cell_type": "code",
   "execution_count": 454,
   "id": "d7a08cef-001b-4569-aa26-3ef4fabeca1c",
   "metadata": {},
   "outputs": [
    {
     "data": {
      "text/plain": [
       "'a'"
      ]
     },
     "execution_count": 454,
     "metadata": {},
     "output_type": "execute_result"
    }
   ],
   "source": [
    "test(\"a\")"
   ]
  },
  {
   "cell_type": "code",
   "execution_count": null,
   "id": "9373e14c-3a5b-4e8f-a2d7-3afc052278e6",
   "metadata": {},
   "outputs": [],
   "source": []
  }
 ],
 "metadata": {
  "kernelspec": {
   "display_name": "Python 3",
   "language": "python",
   "name": "python3"
  },
  "language_info": {
   "codemirror_mode": {
    "name": "ipython",
    "version": 3
   },
   "file_extension": ".py",
   "mimetype": "text/x-python",
   "name": "python",
   "nbconvert_exporter": "python",
   "pygments_lexer": "ipython3",
   "version": "3.7.1"
  }
 },
 "nbformat": 4,
 "nbformat_minor": 5
}
