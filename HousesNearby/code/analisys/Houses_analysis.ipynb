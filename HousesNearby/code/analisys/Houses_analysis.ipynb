{
 "cells": [
  {
   "cell_type": "code",
   "execution_count": 2,
   "id": "aedfe454-e603-4c1d-b32e-a78746f8189d",
   "metadata": {},
   "outputs": [],
   "source": [
    "# LIBS IMPORT\n",
    "import pandas as pd\n",
    "import matplotlib.pyplot as plt\n",
    "import seaborn as sns"
   ]
  },
  {
   "cell_type": "code",
   "execution_count": 13,
   "id": "34202535-dd5f-43c1-a015-69b4a1a3995e",
   "metadata": {},
   "outputs": [],
   "source": [
    "# READ DATASET\n",
    "df = pd.read_csv(\"../../dataset/data_vivareal_21_03_2022_18_38_14.csv\").drop(0)"
   ]
  },
  {
   "cell_type": "code",
   "execution_count": 14,
   "id": "176d146a-115f-41ac-bcfd-39dbad0177c3",
   "metadata": {},
   "outputs": [
    {
     "data": {
      "text/html": [
       "<div>\n",
       "<style scoped>\n",
       "    .dataframe tbody tr th:only-of-type {\n",
       "        vertical-align: middle;\n",
       "    }\n",
       "\n",
       "    .dataframe tbody tr th {\n",
       "        vertical-align: top;\n",
       "    }\n",
       "\n",
       "    .dataframe thead th {\n",
       "        text-align: right;\n",
       "    }\n",
       "</style>\n",
       "<table border=\"1\" class=\"dataframe\">\n",
       "  <thead>\n",
       "    <tr style=\"text-align: right;\">\n",
       "      <th></th>\n",
       "      <th>id</th>\n",
       "      <th>url</th>\n",
       "      <th>address</th>\n",
       "      <th>area</th>\n",
       "      <th>rooms</th>\n",
       "      <th>batrooms</th>\n",
       "      <th>garage</th>\n",
       "      <th>amenities</th>\n",
       "      <th>value</th>\n",
       "      <th>condominium</th>\n",
       "      <th>date</th>\n",
       "    </tr>\n",
       "  </thead>\n",
       "  <tbody>\n",
       "    <tr>\n",
       "      <th>1</th>\n",
       "      <td>2553339688</td>\n",
       "      <td>https://www.vivareal.com.br/imovel/apartamento...</td>\n",
       "      <td>Rua Monsenhor Manoel Vicente, 597 - Água Verde...</td>\n",
       "      <td>51 m²</td>\n",
       "      <td>2 Quartos</td>\n",
       "      <td>1 Banheiro</td>\n",
       "      <td>1 Vaga</td>\n",
       "      <td>Aceita animais\\nCozinha americana\\nMobiliado\\n...</td>\n",
       "      <td>R$ 325.000</td>\n",
       "      <td>Condomínio: R$ 350</td>\n",
       "      <td>2022-03-21 18:38:38</td>\n",
       "    </tr>\n",
       "    <tr>\n",
       "      <th>2</th>\n",
       "      <td>2074895474</td>\n",
       "      <td>https://www.vivareal.com.br/imoveis-lancamento...</td>\n",
       "      <td>Rua Professor Guido Straube, 775 - Vila Izabel...</td>\n",
       "      <td>72-78 m²</td>\n",
       "      <td>3 Quartos</td>\n",
       "      <td>2 Banheiros</td>\n",
       "      <td>2 Vagas</td>\n",
       "      <td>NaN</td>\n",
       "      <td>R$ 598.000</td>\n",
       "      <td>NaN</td>\n",
       "      <td>2022-03-21 18:38:38</td>\n",
       "    </tr>\n",
       "    <tr>\n",
       "      <th>3</th>\n",
       "      <td>2540019474</td>\n",
       "      <td>https://www.vivareal.com.br/imovel/apartamento...</td>\n",
       "      <td>Rua Monsenhor Manoel Vicente, 316 - Água Verde...</td>\n",
       "      <td>94 m²</td>\n",
       "      <td>3 Quartos</td>\n",
       "      <td>2 Banheiros</td>\n",
       "      <td>2 Vagas</td>\n",
       "      <td>Mobiliado\\nChurrasqueira\\nElevador\\nCondomínio...</td>\n",
       "      <td>R$ 680.000</td>\n",
       "      <td>Condomínio: R$ 530</td>\n",
       "      <td>2022-03-21 18:38:38</td>\n",
       "    </tr>\n",
       "    <tr>\n",
       "      <th>4</th>\n",
       "      <td>2518442439</td>\n",
       "      <td>https://www.vivareal.com.br/imovel/apartamento...</td>\n",
       "      <td>Rua Coronel Dulcídio, 1756 - Água Verde, Curit...</td>\n",
       "      <td>54 m²</td>\n",
       "      <td>2 Quartos</td>\n",
       "      <td>1 Banheiro</td>\n",
       "      <td>-- Vaga</td>\n",
       "      <td>Mobiliado\\nPortão eletrônico\\nAceita animais\\n...</td>\n",
       "      <td>R$ 215.000</td>\n",
       "      <td>Condomínio: R$ 345</td>\n",
       "      <td>2022-03-21 18:38:39</td>\n",
       "    </tr>\n",
       "    <tr>\n",
       "      <th>5</th>\n",
       "      <td>2477728884</td>\n",
       "      <td>https://www.vivareal.com.br/imovel/apartamento...</td>\n",
       "      <td>Avenida Iguaçu, 2960 - Água Verde, Curitiba - PR</td>\n",
       "      <td>102 m²</td>\n",
       "      <td>3 Quartos</td>\n",
       "      <td>3 Banheiros</td>\n",
       "      <td>2 Vagas</td>\n",
       "      <td>Piscina\\nMobiliado\\nChurrasqueira\\nElevador\\nC...</td>\n",
       "      <td>R$ 650.000</td>\n",
       "      <td>Condomínio: R$ 1.000</td>\n",
       "      <td>2022-03-21 18:38:39</td>\n",
       "    </tr>\n",
       "  </tbody>\n",
       "</table>\n",
       "</div>"
      ],
      "text/plain": [
       "           id                                                url  \\\n",
       "1  2553339688  https://www.vivareal.com.br/imovel/apartamento...   \n",
       "2  2074895474  https://www.vivareal.com.br/imoveis-lancamento...   \n",
       "3  2540019474  https://www.vivareal.com.br/imovel/apartamento...   \n",
       "4  2518442439  https://www.vivareal.com.br/imovel/apartamento...   \n",
       "5  2477728884  https://www.vivareal.com.br/imovel/apartamento...   \n",
       "\n",
       "                                             address      area      rooms  \\\n",
       "1  Rua Monsenhor Manoel Vicente, 597 - Água Verde...     51 m²  2 Quartos   \n",
       "2  Rua Professor Guido Straube, 775 - Vila Izabel...  72-78 m²  3 Quartos   \n",
       "3  Rua Monsenhor Manoel Vicente, 316 - Água Verde...     94 m²  3 Quartos   \n",
       "4  Rua Coronel Dulcídio, 1756 - Água Verde, Curit...     54 m²  2 Quartos   \n",
       "5   Avenida Iguaçu, 2960 - Água Verde, Curitiba - PR    102 m²  3 Quartos   \n",
       "\n",
       "      batrooms   garage                                          amenities  \\\n",
       "1   1 Banheiro   1 Vaga  Aceita animais\\nCozinha americana\\nMobiliado\\n...   \n",
       "2  2 Banheiros  2 Vagas                                                NaN   \n",
       "3  2 Banheiros  2 Vagas  Mobiliado\\nChurrasqueira\\nElevador\\nCondomínio...   \n",
       "4   1 Banheiro  -- Vaga  Mobiliado\\nPortão eletrônico\\nAceita animais\\n...   \n",
       "5  3 Banheiros  2 Vagas  Piscina\\nMobiliado\\nChurrasqueira\\nElevador\\nC...   \n",
       "\n",
       "        value           condominium                 date  \n",
       "1  R$ 325.000    Condomínio: R$ 350  2022-03-21 18:38:38  \n",
       "2  R$ 598.000                   NaN  2022-03-21 18:38:38  \n",
       "3  R$ 680.000    Condomínio: R$ 530  2022-03-21 18:38:38  \n",
       "4  R$ 215.000    Condomínio: R$ 345  2022-03-21 18:38:39  \n",
       "5  R$ 650.000  Condomínio: R$ 1.000  2022-03-21 18:38:39  "
      ]
     },
     "execution_count": 14,
     "metadata": {},
     "output_type": "execute_result"
    }
   ],
   "source": [
    "df.head()"
   ]
  },
  {
   "cell_type": "code",
   "execution_count": 57,
   "id": "cbce65fe-d839-4eb5-b8ac-7196beb47aad",
   "metadata": {},
   "outputs": [
    {
     "name": "stdout",
     "output_type": "stream",
     "text": [
      "<class 'pandas.core.frame.DataFrame'>\n",
      "Int64Index: 36617 entries, 1 to 36617\n",
      "Data columns (total 12 columns):\n",
      " #   Column       Non-Null Count  Dtype \n",
      "---  ------       --------------  ----- \n",
      " 0   id           36617 non-null  object\n",
      " 1   url          36617 non-null  object\n",
      " 2   address      36617 non-null  object\n",
      " 3   area         36617 non-null  object\n",
      " 4   rooms        36617 non-null  object\n",
      " 5   batrooms     36617 non-null  object\n",
      " 6   garage       36617 non-null  object\n",
      " 7   amenities    26952 non-null  object\n",
      " 8   value        36617 non-null  object\n",
      " 9   condominium  16795 non-null  object\n",
      " 10  date         36617 non-null  object\n",
      " 11  area_clean   36617 non-null  object\n",
      "dtypes: object(12)\n",
      "memory usage: 4.6+ MB\n"
     ]
    }
   ],
   "source": [
    "df.info()"
   ]
  },
  {
   "cell_type": "markdown",
   "id": "1d47365c-50c5-4326-9c15-8ec8b49e13e1",
   "metadata": {},
   "source": [
    "# Cleaning data"
   ]
  },
  {
   "cell_type": "code",
   "execution_count": 30,
   "id": "130bc55b-a1b5-461b-923f-bfba65beb2a9",
   "metadata": {},
   "outputs": [],
   "source": [
    "# The area column have the m^2 string, remove it and let only the number\n",
    "# df[\"area_clean\"] = [x.split(\" \")[0] for x in df[\"area\"]]\n",
    "df[\"area\"] = df[\"area\"].apply(lambda x : x.split(\" \")[0])"
   ]
  },
  {
   "cell_type": "code",
   "execution_count": 50,
   "id": "d3c569be-a558-4302-908e-07df505e4bd4",
   "metadata": {},
   "outputs": [],
   "source": [
    "# df.loc[\"-\" in df[\"area\"], \"area\"]"
   ]
  },
  {
   "cell_type": "code",
   "execution_count": 55,
   "id": "bbd9d284-3a48-400e-81ea-67a965705581",
   "metadata": {},
   "outputs": [
    {
     "data": {
      "text/plain": [
       "3185"
      ]
     },
     "execution_count": 55,
     "metadata": {},
     "output_type": "execute_result"
    }
   ],
   "source": [
    "df.loc[df[\"area\"].str.contains('-'), \"url\"].count()"
   ]
  },
  {
   "cell_type": "code",
   "execution_count": null,
   "id": "dd61f06e-0e94-4101-a970-55c015662ae9",
   "metadata": {},
   "outputs": [],
   "source": []
  }
 ],
 "metadata": {
  "kernelspec": {
   "display_name": "Python 3",
   "language": "python",
   "name": "python3"
  },
  "language_info": {
   "codemirror_mode": {
    "name": "ipython",
    "version": 3
   },
   "file_extension": ".py",
   "mimetype": "text/x-python",
   "name": "python",
   "nbconvert_exporter": "python",
   "pygments_lexer": "ipython3",
   "version": "3.7.1"
  }
 },
 "nbformat": 4,
 "nbformat_minor": 5
}
