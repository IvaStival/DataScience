{
 "cells": [
  {
   "cell_type": "code",
   "execution_count": 1,
   "id": "aedfe454-e603-4c1d-b32e-a78746f8189d",
   "metadata": {},
   "outputs": [],
   "source": [
    "import re\n",
    "\n",
    "# LIBS IMPORT\n",
    "import pandas as pd\n",
    "import matplotlib.pyplot as plt\n",
    "import seaborn as sns"
   ]
  },
  {
   "cell_type": "code",
   "execution_count": 2,
   "id": "34202535-dd5f-43c1-a015-69b4a1a3995e",
   "metadata": {},
   "outputs": [],
   "source": [
    "# READ DATASET\n",
    "df = pd.read_csv(\"../../dataset/data_vivareal_21_03_2022_18_38_14.csv\").drop(0)"
   ]
  },
  {
   "cell_type": "code",
   "execution_count": 3,
   "id": "176d146a-115f-41ac-bcfd-39dbad0177c3",
   "metadata": {},
   "outputs": [
    {
     "data": {
      "text/html": [
       "<div>\n",
       "<style scoped>\n",
       "    .dataframe tbody tr th:only-of-type {\n",
       "        vertical-align: middle;\n",
       "    }\n",
       "\n",
       "    .dataframe tbody tr th {\n",
       "        vertical-align: top;\n",
       "    }\n",
       "\n",
       "    .dataframe thead th {\n",
       "        text-align: right;\n",
       "    }\n",
       "</style>\n",
       "<table border=\"1\" class=\"dataframe\">\n",
       "  <thead>\n",
       "    <tr style=\"text-align: right;\">\n",
       "      <th></th>\n",
       "      <th>id</th>\n",
       "      <th>url</th>\n",
       "      <th>address</th>\n",
       "      <th>area</th>\n",
       "      <th>rooms</th>\n",
       "      <th>batrooms</th>\n",
       "      <th>garage</th>\n",
       "      <th>amenities</th>\n",
       "      <th>value</th>\n",
       "      <th>condominium</th>\n",
       "      <th>date</th>\n",
       "    </tr>\n",
       "  </thead>\n",
       "  <tbody>\n",
       "    <tr>\n",
       "      <th>1</th>\n",
       "      <td>2553339688</td>\n",
       "      <td>https://www.vivareal.com.br/imovel/apartamento...</td>\n",
       "      <td>Rua Monsenhor Manoel Vicente, 597 - Água Verde...</td>\n",
       "      <td>51 m²</td>\n",
       "      <td>2 Quartos</td>\n",
       "      <td>1 Banheiro</td>\n",
       "      <td>1 Vaga</td>\n",
       "      <td>Aceita animais\\nCozinha americana\\nMobiliado\\n...</td>\n",
       "      <td>R$ 325.000</td>\n",
       "      <td>Condomínio: R$ 350</td>\n",
       "      <td>2022-03-21 18:38:38</td>\n",
       "    </tr>\n",
       "    <tr>\n",
       "      <th>2</th>\n",
       "      <td>2074895474</td>\n",
       "      <td>https://www.vivareal.com.br/imoveis-lancamento...</td>\n",
       "      <td>Rua Professor Guido Straube, 775 - Vila Izabel...</td>\n",
       "      <td>72-78 m²</td>\n",
       "      <td>3 Quartos</td>\n",
       "      <td>2 Banheiros</td>\n",
       "      <td>2 Vagas</td>\n",
       "      <td>NaN</td>\n",
       "      <td>R$ 598.000</td>\n",
       "      <td>NaN</td>\n",
       "      <td>2022-03-21 18:38:38</td>\n",
       "    </tr>\n",
       "    <tr>\n",
       "      <th>3</th>\n",
       "      <td>2540019474</td>\n",
       "      <td>https://www.vivareal.com.br/imovel/apartamento...</td>\n",
       "      <td>Rua Monsenhor Manoel Vicente, 316 - Água Verde...</td>\n",
       "      <td>94 m²</td>\n",
       "      <td>3 Quartos</td>\n",
       "      <td>2 Banheiros</td>\n",
       "      <td>2 Vagas</td>\n",
       "      <td>Mobiliado\\nChurrasqueira\\nElevador\\nCondomínio...</td>\n",
       "      <td>R$ 680.000</td>\n",
       "      <td>Condomínio: R$ 530</td>\n",
       "      <td>2022-03-21 18:38:38</td>\n",
       "    </tr>\n",
       "    <tr>\n",
       "      <th>4</th>\n",
       "      <td>2518442439</td>\n",
       "      <td>https://www.vivareal.com.br/imovel/apartamento...</td>\n",
       "      <td>Rua Coronel Dulcídio, 1756 - Água Verde, Curit...</td>\n",
       "      <td>54 m²</td>\n",
       "      <td>2 Quartos</td>\n",
       "      <td>1 Banheiro</td>\n",
       "      <td>-- Vaga</td>\n",
       "      <td>Mobiliado\\nPortão eletrônico\\nAceita animais\\n...</td>\n",
       "      <td>R$ 215.000</td>\n",
       "      <td>Condomínio: R$ 345</td>\n",
       "      <td>2022-03-21 18:38:39</td>\n",
       "    </tr>\n",
       "    <tr>\n",
       "      <th>5</th>\n",
       "      <td>2477728884</td>\n",
       "      <td>https://www.vivareal.com.br/imovel/apartamento...</td>\n",
       "      <td>Avenida Iguaçu, 2960 - Água Verde, Curitiba - PR</td>\n",
       "      <td>102 m²</td>\n",
       "      <td>3 Quartos</td>\n",
       "      <td>3 Banheiros</td>\n",
       "      <td>2 Vagas</td>\n",
       "      <td>Piscina\\nMobiliado\\nChurrasqueira\\nElevador\\nC...</td>\n",
       "      <td>R$ 650.000</td>\n",
       "      <td>Condomínio: R$ 1.000</td>\n",
       "      <td>2022-03-21 18:38:39</td>\n",
       "    </tr>\n",
       "  </tbody>\n",
       "</table>\n",
       "</div>"
      ],
      "text/plain": [
       "           id                                                url  \\\n",
       "1  2553339688  https://www.vivareal.com.br/imovel/apartamento...   \n",
       "2  2074895474  https://www.vivareal.com.br/imoveis-lancamento...   \n",
       "3  2540019474  https://www.vivareal.com.br/imovel/apartamento...   \n",
       "4  2518442439  https://www.vivareal.com.br/imovel/apartamento...   \n",
       "5  2477728884  https://www.vivareal.com.br/imovel/apartamento...   \n",
       "\n",
       "                                             address      area      rooms  \\\n",
       "1  Rua Monsenhor Manoel Vicente, 597 - Água Verde...     51 m²  2 Quartos   \n",
       "2  Rua Professor Guido Straube, 775 - Vila Izabel...  72-78 m²  3 Quartos   \n",
       "3  Rua Monsenhor Manoel Vicente, 316 - Água Verde...     94 m²  3 Quartos   \n",
       "4  Rua Coronel Dulcídio, 1756 - Água Verde, Curit...     54 m²  2 Quartos   \n",
       "5   Avenida Iguaçu, 2960 - Água Verde, Curitiba - PR    102 m²  3 Quartos   \n",
       "\n",
       "      batrooms   garage                                          amenities  \\\n",
       "1   1 Banheiro   1 Vaga  Aceita animais\\nCozinha americana\\nMobiliado\\n...   \n",
       "2  2 Banheiros  2 Vagas                                                NaN   \n",
       "3  2 Banheiros  2 Vagas  Mobiliado\\nChurrasqueira\\nElevador\\nCondomínio...   \n",
       "4   1 Banheiro  -- Vaga  Mobiliado\\nPortão eletrônico\\nAceita animais\\n...   \n",
       "5  3 Banheiros  2 Vagas  Piscina\\nMobiliado\\nChurrasqueira\\nElevador\\nC...   \n",
       "\n",
       "        value           condominium                 date  \n",
       "1  R$ 325.000    Condomínio: R$ 350  2022-03-21 18:38:38  \n",
       "2  R$ 598.000                   NaN  2022-03-21 18:38:38  \n",
       "3  R$ 680.000    Condomínio: R$ 530  2022-03-21 18:38:38  \n",
       "4  R$ 215.000    Condomínio: R$ 345  2022-03-21 18:38:39  \n",
       "5  R$ 650.000  Condomínio: R$ 1.000  2022-03-21 18:38:39  "
      ]
     },
     "execution_count": 3,
     "metadata": {},
     "output_type": "execute_result"
    }
   ],
   "source": [
    "df.head()"
   ]
  },
  {
   "cell_type": "code",
   "execution_count": 4,
   "id": "cbce65fe-d839-4eb5-b8ac-7196beb47aad",
   "metadata": {},
   "outputs": [
    {
     "name": "stdout",
     "output_type": "stream",
     "text": [
      "<class 'pandas.core.frame.DataFrame'>\n",
      "RangeIndex: 36617 entries, 1 to 36617\n",
      "Data columns (total 11 columns):\n",
      " #   Column       Non-Null Count  Dtype \n",
      "---  ------       --------------  ----- \n",
      " 0   id           36617 non-null  object\n",
      " 1   url          36617 non-null  object\n",
      " 2   address      36617 non-null  object\n",
      " 3   area         36617 non-null  object\n",
      " 4   rooms        36617 non-null  object\n",
      " 5   batrooms     36617 non-null  object\n",
      " 6   garage       36617 non-null  object\n",
      " 7   amenities    26952 non-null  object\n",
      " 8   value        36617 non-null  object\n",
      " 9   condominium  16795 non-null  object\n",
      " 10  date         36617 non-null  object\n",
      "dtypes: object(11)\n",
      "memory usage: 3.1+ MB\n"
     ]
    }
   ],
   "source": [
    "df.info()"
   ]
  },
  {
   "cell_type": "code",
   "execution_count": 11,
   "id": "a50a9c4d-cce2-4a12-a61a-09d0c1489ce4",
   "metadata": {},
   "outputs": [
    {
     "data": {
      "text/plain": [
       "5949"
      ]
     },
     "execution_count": 11,
     "metadata": {},
     "output_type": "execute_result"
    }
   ],
   "source": [
    "df.duplicated(subset=[\"id\", \"address\",\"area\", \"rooms\", \"value\"]).sum()"
   ]
  },
  {
   "cell_type": "code",
   "execution_count": 12,
   "id": "9875b1e9-6312-4f5e-8454-6ed4678ee6a9",
   "metadata": {},
   "outputs": [],
   "source": [
    "df = df.drop_duplicates(subset=[\"id\", \"address\",\"area\", \"rooms\", \"value\"], keep=\"first\")\n",
    "df = df.reset_index(drop=True)"
   ]
  },
  {
   "cell_type": "markdown",
   "id": "1d47365c-50c5-4326-9c15-8ec8b49e13e1",
   "metadata": {},
   "source": [
    "# Cleaning data"
   ]
  },
  {
   "cell_type": "code",
   "execution_count": 13,
   "id": "65ba6e35-c0eb-43c0-9f0e-c8508cf9bd83",
   "metadata": {},
   "outputs": [],
   "source": [
    "def cleanData(df, feature, split_character, idx):\n",
    "    return df[feature].apply(lambda x : x.split(split_character)[idx])"
   ]
  },
  {
   "cell_type": "code",
   "execution_count": 18,
   "id": "95818e2d-ac15-4625-a892-304ab06977fe",
   "metadata": {},
   "outputs": [],
   "source": [
    "df = df[~(df[\"area\"] == \"area\")]\n",
    "df = df.reset_index(drop=True)\n"
   ]
  },
  {
   "cell_type": "markdown",
   "id": "2a1c5738-8282-4474-8610-58b866203fb4",
   "metadata": {},
   "source": [
    "## Area\n",
    "51m^2 -> 51"
   ]
  },
  {
   "cell_type": "code",
   "execution_count": 59,
   "id": "130bc55b-a1b5-461b-923f-bfba65beb2a9",
   "metadata": {},
   "outputs": [],
   "source": [
    "# The area column have the m^2 string, remove it and let only the number\n",
    "# 51m^2 -> 51\n",
    "df[\"area\"] = cleanData(df, \"area\", \" \", 0)\n",
    "\n",
    "# EXISTS SOME NEW APARTMENTS WITH area WITH TWO NUMBERS: 72-78, I WILL GET THE SMALL VALUE BECAUSE THE APARTMENT VALUE INIT \n",
    "# THE SMALL VALUE\n",
    "df[\"area\"] = cleanData(df, \"area\", \"-\", 0)\n"
   ]
  },
  {
   "cell_type": "markdown",
   "id": "341bb483-945e-4ec8-aa76-e7264d9fba8f",
   "metadata": {},
   "source": [
    "## Rooms"
   ]
  },
  {
   "cell_type": "code",
   "execution_count": 60,
   "id": "3ee48e26-5a93-4862-9722-c988464faf82",
   "metadata": {},
   "outputs": [
    {
     "data": {
      "text/plain": [
       "rooms\n",
       "3        14011\n",
       "2         9994\n",
       "1         3973\n",
       "4         2488\n",
       "5           96\n",
       "2-3         41\n",
       "3-4         18\n",
       "1-3         15\n",
       "1-2         13\n",
       "6           10\n",
       "--           2\n",
       "2-4          2\n",
       "20           2\n",
       "12           1\n",
       "19           1\n",
       "dtype: int64"
      ]
     },
     "execution_count": 60,
     "metadata": {},
     "output_type": "execute_result"
    }
   ],
   "source": [
    "# rooms:\n",
    "# 2 Quartos -> 2\n",
    "# And remove strange rooms lines\n",
    "df[\"rooms\"] = cleanData(df, \"rooms\", \" \", 0)\n",
    "df[[\"rooms\"]].value_counts()"
   ]
  },
  {
   "cell_type": "code",
   "execution_count": 61,
   "id": "dd61f06e-0e94-4101-a970-55c015662ae9",
   "metadata": {},
   "outputs": [],
   "source": [
    "df[\"rooms\"] = cleanData(df, \"rooms\", \"-\", 0)\n",
    "df = df.loc[~(df[\"rooms\"] == \"rooms\") & ~(df[\"rooms\"] == \"\")]\n",
    "df[[\"rooms\"]].value_counts()\n",
    "df[\"rooms\"] = df[\"rooms\"].astype(int)\n",
    "# WE CAN SEE SOME OUTLIERS, A HOUSE WITH 20 ROOMS IS STRANGE. AFTER WE WILL REMOVE ALL THE OUTLIERS"
   ]
  },
  {
   "cell_type": "markdown",
   "id": "0796ee8a-0147-4183-9547-af08f088bc9e",
   "metadata": {},
   "source": [
    "## Batrooms"
   ]
  },
  {
   "cell_type": "code",
   "execution_count": 62,
   "id": "8db59e2c-fe47-40c2-87af-5852eadceded",
   "metadata": {},
   "outputs": [],
   "source": [
    "df[\"batrooms\"] = cleanData(df, \"batrooms\", \" \", 0)\n",
    "df[\"batrooms\"] = cleanData(df, \"batrooms\", \"-\", 0)\n",
    "df = df.loc[~(df[\"batrooms\"] == \"\")]"
   ]
  },
  {
   "cell_type": "code",
   "execution_count": 63,
   "id": "c7ec7bd3-a623-41e1-94e9-11f571f421a5",
   "metadata": {},
   "outputs": [
    {
     "data": {
      "text/plain": [
       "2     10274\n",
       "1      9934\n",
       "3      4705\n",
       "4      2592\n",
       "5      2141\n",
       "6       713\n",
       "7       138\n",
       "8        90\n",
       "9        27\n",
       "10       27\n",
       "11       16\n",
       "16        3\n",
       "20        2\n",
       "Name: batrooms, dtype: int64"
      ]
     },
     "execution_count": 63,
     "metadata": {},
     "output_type": "execute_result"
    }
   ],
   "source": [
    "df[\"batrooms\"].value_counts()\n",
    "# HERE WE HAVE OUTLIER TO"
   ]
  },
  {
   "cell_type": "markdown",
   "id": "125af548-fa90-4855-8da1-f001c19677d2",
   "metadata": {},
   "source": [
    "## Garage"
   ]
  },
  {
   "cell_type": "code",
   "execution_count": 64,
   "id": "fcaf5629-783a-4eef-8f2a-a4e16af70609",
   "metadata": {},
   "outputs": [],
   "source": [
    "df[\"garage\"] = cleanData(df, \"garage\", \" \", 0)\n",
    "df[\"garage\"] = cleanData(df, \"garage\", \"-\", 0)"
   ]
  },
  {
   "cell_type": "code",
   "execution_count": 65,
   "id": "09120599-dae7-490c-b38f-d4650750a8a2",
   "metadata": {},
   "outputs": [
    {
     "data": {
      "text/plain": [
       "1     13426\n",
       "2      8390\n",
       "       4645\n",
       "3      2578\n",
       "4      1339\n",
       "5       215\n",
       "6        45\n",
       "10        5\n",
       "8         3\n",
       "7         3\n",
       "52        2\n",
       "9         2\n",
       "12        1\n",
       "40        1\n",
       "11        1\n",
       "14        1\n",
       "80        1\n",
       "30        1\n",
       "18        1\n",
       "16        1\n",
       "36        1\n",
       "Name: garage, dtype: int64"
      ]
     },
     "execution_count": 65,
     "metadata": {},
     "output_type": "execute_result"
    }
   ],
   "source": [
    "df[\"garage\"].value_counts()"
   ]
  },
  {
   "cell_type": "code",
   "execution_count": 66,
   "id": "92743418-bf46-4993-a5ac-98754acc3c6c",
   "metadata": {},
   "outputs": [],
   "source": [
    "# I WILL ADD 0 TO THE MISSING, AFTER I WILL ADD A VALUE THAT REPRESENT BETTER THIS FEATURES, LIKE MEAN FOR EXAMPLE\n",
    "# I NOT WANT TO REMOVE THIS LINE BECAUSE EXISTS 5460 ITENS, IT IS A BIG AMOUNT OF INFORMATION\n",
    "df.loc[df[\"garage\"] == \"\", [\"garage\"]] = 0"
   ]
  },
  {
   "cell_type": "markdown",
   "id": "abc94f19-80f3-427b-8eb9-a6d9226f045a",
   "metadata": {},
   "source": [
    "## Value"
   ]
  },
  {
   "cell_type": "code",
   "execution_count": 67,
   "id": "70b0c2c0-4315-4858-b6ae-9299dd08e640",
   "metadata": {},
   "outputs": [],
   "source": [
    "# GET THE FIRST ELEMENT OF THE \n",
    "value_temp_list = df[\"value\"].apply(lambda x : x.split(\" \")[0])"
   ]
  },
  {
   "cell_type": "code",
   "execution_count": 68,
   "id": "0390dfe5-b9fb-44a6-b9b9-0e50cc24aee0",
   "metadata": {},
   "outputs": [
    {
     "data": {
      "text/plain": [
       "R$     30617\n",
       "De        25\n",
       "A         14\n",
       "Sob        6\n",
       "Name: value, dtype: int64"
      ]
     },
     "execution_count": 68,
     "metadata": {},
     "output_type": "execute_result"
    }
   ],
   "source": [
    "# EXISTS SOME DIFFERENTS FORMATATION VALUES, THE R$, De AND Sob I WILL KEEP, THE OTHERS HAVE A SMALL NUMBER SO I WILL REMOVE THEM\n",
    "value_temp_list.value_counts()"
   ]
  },
  {
   "cell_type": "code",
   "execution_count": 69,
   "id": "15fc8138-cd1f-4e51-8cc4-408c07efff0f",
   "metadata": {},
   "outputs": [
    {
     "data": {
      "text/plain": [
       "0        R$\n",
       "1        R$\n",
       "2        R$\n",
       "3        R$\n",
       "4        R$\n",
       "         ..\n",
       "30662    R$\n",
       "30663    R$\n",
       "30664    R$\n",
       "30665    R$\n",
       "30666    R$\n",
       "Name: value, Length: 30662, dtype: object"
      ]
     },
     "execution_count": 69,
     "metadata": {},
     "output_type": "execute_result"
    }
   ],
   "source": [
    "value_temp_list"
   ]
  },
  {
   "cell_type": "code",
   "execution_count": 70,
   "id": "fd17ac81-ccb9-4c63-84b1-c80ed5673778",
   "metadata": {},
   "outputs": [
    {
     "data": {
      "text/html": [
       "<div>\n",
       "<style scoped>\n",
       "    .dataframe tbody tr th:only-of-type {\n",
       "        vertical-align: middle;\n",
       "    }\n",
       "\n",
       "    .dataframe tbody tr th {\n",
       "        vertical-align: top;\n",
       "    }\n",
       "\n",
       "    .dataframe thead th {\n",
       "        text-align: right;\n",
       "    }\n",
       "</style>\n",
       "<table border=\"1\" class=\"dataframe\">\n",
       "  <thead>\n",
       "    <tr style=\"text-align: right;\">\n",
       "      <th></th>\n",
       "      <th>id</th>\n",
       "      <th>url</th>\n",
       "      <th>address</th>\n",
       "      <th>area</th>\n",
       "      <th>rooms</th>\n",
       "      <th>batrooms</th>\n",
       "      <th>garage</th>\n",
       "      <th>amenities</th>\n",
       "      <th>value</th>\n",
       "      <th>condominium</th>\n",
       "      <th>date</th>\n",
       "    </tr>\n",
       "  </thead>\n",
       "  <tbody>\n",
       "  </tbody>\n",
       "</table>\n",
       "</div>"
      ],
      "text/plain": [
       "Empty DataFrame\n",
       "Columns: [id, url, address, area, rooms, batrooms, garage, amenities, value, condominium, date]\n",
       "Index: []"
      ]
     },
     "execution_count": 70,
     "metadata": {},
     "output_type": "execute_result"
    }
   ],
   "source": [
    "df.loc[value_temp_list == \"value\"].head(5)"
   ]
  },
  {
   "cell_type": "code",
   "execution_count": 71,
   "id": "6e978d8f-bef5-49d0-9cb7-c4856b412684",
   "metadata": {},
   "outputs": [
    {
     "data": {
      "text/html": [
       "<div>\n",
       "<style scoped>\n",
       "    .dataframe tbody tr th:only-of-type {\n",
       "        vertical-align: middle;\n",
       "    }\n",
       "\n",
       "    .dataframe tbody tr th {\n",
       "        vertical-align: top;\n",
       "    }\n",
       "\n",
       "    .dataframe thead th {\n",
       "        text-align: right;\n",
       "    }\n",
       "</style>\n",
       "<table border=\"1\" class=\"dataframe\">\n",
       "  <thead>\n",
       "    <tr style=\"text-align: right;\">\n",
       "      <th></th>\n",
       "      <th>id</th>\n",
       "      <th>url</th>\n",
       "      <th>address</th>\n",
       "      <th>area</th>\n",
       "      <th>rooms</th>\n",
       "      <th>batrooms</th>\n",
       "      <th>garage</th>\n",
       "      <th>amenities</th>\n",
       "      <th>value</th>\n",
       "      <th>condominium</th>\n",
       "      <th>date</th>\n",
       "    </tr>\n",
       "  </thead>\n",
       "  <tbody>\n",
       "    <tr>\n",
       "      <th>3257</th>\n",
       "      <td>2499477414</td>\n",
       "      <td>https://www.vivareal.com.br/imoveis-lancamento...</td>\n",
       "      <td>Avenida Anita Garibaldi, 1282 - Cabral, Curiti...</td>\n",
       "      <td>78</td>\n",
       "      <td>3</td>\n",
       "      <td>2</td>\n",
       "      <td>2</td>\n",
       "      <td>NaN</td>\n",
       "      <td>A partir de\\nR$ 615.000</td>\n",
       "      <td>NaN</td>\n",
       "      <td>2022-03-21 19:23:48</td>\n",
       "    </tr>\n",
       "    <tr>\n",
       "      <th>3827</th>\n",
       "      <td>2545075918</td>\n",
       "      <td>https://www.vivareal.com.br/imoveis-lancamento...</td>\n",
       "      <td>Rua Doutor Motta Júnior, 2600 - Centro, São Jo...</td>\n",
       "      <td>49</td>\n",
       "      <td>2</td>\n",
       "      <td>1</td>\n",
       "      <td>1</td>\n",
       "      <td>NaN</td>\n",
       "      <td>A partir de\\nR$ 198.000</td>\n",
       "      <td>NaN</td>\n",
       "      <td>2022-03-21 19:28:41</td>\n",
       "    </tr>\n",
       "    <tr>\n",
       "      <th>4743</th>\n",
       "      <td>2549432009</td>\n",
       "      <td>https://www.vivareal.com.br/imoveis-lancamento...</td>\n",
       "      <td>Rua João Américo de Oliveira, 922 - Cabral, Cu...</td>\n",
       "      <td>180</td>\n",
       "      <td>3</td>\n",
       "      <td>5</td>\n",
       "      <td>3</td>\n",
       "      <td>NaN</td>\n",
       "      <td>A partir de\\nR$ 2.597.770</td>\n",
       "      <td>NaN</td>\n",
       "      <td>2022-03-21 19:36:13</td>\n",
       "    </tr>\n",
       "    <tr>\n",
       "      <th>4750</th>\n",
       "      <td>2520668057</td>\n",
       "      <td>https://www.vivareal.com.br/imoveis-lancamento...</td>\n",
       "      <td>Rua Moyses Marcondes, 53 - Juvevê, Curitiba - PR</td>\n",
       "      <td>105</td>\n",
       "      <td>3</td>\n",
       "      <td>3</td>\n",
       "      <td>2</td>\n",
       "      <td>NaN</td>\n",
       "      <td>A partir de\\nR$ 1.030.000</td>\n",
       "      <td>NaN</td>\n",
       "      <td>2022-03-21 19:36:15</td>\n",
       "    </tr>\n",
       "    <tr>\n",
       "      <th>8854</th>\n",
       "      <td>2549435659</td>\n",
       "      <td>https://www.vivareal.com.br/imoveis-lancamento...</td>\n",
       "      <td>Rua Manoel Eufrásio, 1270 - Juvevê, Curitiba - PR</td>\n",
       "      <td>128</td>\n",
       "      <td>3</td>\n",
       "      <td>4</td>\n",
       "      <td>2</td>\n",
       "      <td>NaN</td>\n",
       "      <td>A partir de\\nR$ 1.352.418</td>\n",
       "      <td>NaN</td>\n",
       "      <td>2022-03-21 20:08:38</td>\n",
       "    </tr>\n",
       "  </tbody>\n",
       "</table>\n",
       "</div>"
      ],
      "text/plain": [
       "              id                                                url  \\\n",
       "3257  2499477414  https://www.vivareal.com.br/imoveis-lancamento...   \n",
       "3827  2545075918  https://www.vivareal.com.br/imoveis-lancamento...   \n",
       "4743  2549432009  https://www.vivareal.com.br/imoveis-lancamento...   \n",
       "4750  2520668057  https://www.vivareal.com.br/imoveis-lancamento...   \n",
       "8854  2549435659  https://www.vivareal.com.br/imoveis-lancamento...   \n",
       "\n",
       "                                                address area  rooms batrooms  \\\n",
       "3257  Avenida Anita Garibaldi, 1282 - Cabral, Curiti...   78      3        2   \n",
       "3827  Rua Doutor Motta Júnior, 2600 - Centro, São Jo...   49      2        1   \n",
       "4743  Rua João Américo de Oliveira, 922 - Cabral, Cu...  180      3        5   \n",
       "4750   Rua Moyses Marcondes, 53 - Juvevê, Curitiba - PR  105      3        3   \n",
       "8854  Rua Manoel Eufrásio, 1270 - Juvevê, Curitiba - PR  128      3        4   \n",
       "\n",
       "     garage amenities                      value condominium  \\\n",
       "3257      2       NaN    A partir de\\nR$ 615.000         NaN   \n",
       "3827      1       NaN    A partir de\\nR$ 198.000         NaN   \n",
       "4743      3       NaN  A partir de\\nR$ 2.597.770         NaN   \n",
       "4750      2       NaN  A partir de\\nR$ 1.030.000         NaN   \n",
       "8854      2       NaN  A partir de\\nR$ 1.352.418         NaN   \n",
       "\n",
       "                     date  \n",
       "3257  2022-03-21 19:23:48  \n",
       "3827  2022-03-21 19:28:41  \n",
       "4743  2022-03-21 19:36:13  \n",
       "4750  2022-03-21 19:36:15  \n",
       "8854  2022-03-21 20:08:38  "
      ]
     },
     "execution_count": 71,
     "metadata": {},
     "output_type": "execute_result"
    }
   ],
   "source": [
    "df.loc[value_temp_list == \"A\"].head(5)"
   ]
  },
  {
   "cell_type": "code",
   "execution_count": 72,
   "id": "2a6c6e17-7995-4c89-9e83-41835c0fa9eb",
   "metadata": {},
   "outputs": [
    {
     "name": "stdout",
     "output_type": "stream",
     "text": [
      "0\n",
      "14\n"
     ]
    }
   ],
   "source": [
    "print(df.loc[value_temp_list == \"value\"].shape[0])\n",
    "print(df.loc[value_temp_list == \"A\"].shape[0])"
   ]
  },
  {
   "cell_type": "code",
   "execution_count": 73,
   "id": "e6841770-98cd-42ba-883c-791d8269de1b",
   "metadata": {},
   "outputs": [
    {
     "name": "stdout",
     "output_type": "stream",
     "text": [
      "0\n",
      "0\n"
     ]
    }
   ],
   "source": [
    "# REMOVE ROWS WITH \"value\" AND \"A\"\n",
    "df = df.loc[~(value_temp_list == \"value\")]\n",
    "df = df.loc[~(value_temp_list == \"A\")]\n",
    "print(df.loc[value_temp_list == \"value\"].shape[0])\n",
    "print(df.loc[value_temp_list == \"A\"].shape[0])"
   ]
  },
  {
   "cell_type": "code",
   "execution_count": 74,
   "id": "4007f906-cd1f-43c6-bc8c-30bec7c18a8e",
   "metadata": {},
   "outputs": [],
   "source": [
    "df[\"value\"] = cleanData(df, \"value\", \" \", -1)"
   ]
  },
  {
   "cell_type": "code",
   "execution_count": 75,
   "id": "7d541f54-ede5-4caf-b0ab-501b12772c5d",
   "metadata": {},
   "outputs": [],
   "source": [
    "# REMOVE ALL LINES WITH THE VALUE Consulta\n",
    "df = df.loc[~(df[\"value\"] == \"Consulta\")]"
   ]
  },
  {
   "cell_type": "code",
   "execution_count": 76,
   "id": "114c939e-658c-4ebb-a761-14b0de884857",
   "metadata": {},
   "outputs": [
    {
     "data": {
      "text/html": [
       "<div>\n",
       "<style scoped>\n",
       "    .dataframe tbody tr th:only-of-type {\n",
       "        vertical-align: middle;\n",
       "    }\n",
       "\n",
       "    .dataframe tbody tr th {\n",
       "        vertical-align: top;\n",
       "    }\n",
       "\n",
       "    .dataframe thead th {\n",
       "        text-align: right;\n",
       "    }\n",
       "</style>\n",
       "<table border=\"1\" class=\"dataframe\">\n",
       "  <thead>\n",
       "    <tr style=\"text-align: right;\">\n",
       "      <th></th>\n",
       "      <th>id</th>\n",
       "      <th>url</th>\n",
       "      <th>address</th>\n",
       "      <th>area</th>\n",
       "      <th>rooms</th>\n",
       "      <th>batrooms</th>\n",
       "      <th>garage</th>\n",
       "      <th>amenities</th>\n",
       "      <th>value</th>\n",
       "      <th>condominium</th>\n",
       "      <th>date</th>\n",
       "    </tr>\n",
       "  </thead>\n",
       "  <tbody>\n",
       "  </tbody>\n",
       "</table>\n",
       "</div>"
      ],
      "text/plain": [
       "Empty DataFrame\n",
       "Columns: [id, url, address, area, rooms, batrooms, garage, amenities, value, condominium, date]\n",
       "Index: []"
      ]
     },
     "execution_count": 76,
     "metadata": {},
     "output_type": "execute_result"
    }
   ],
   "source": [
    "# CHECK IF EXISTS SOME RENT APARTMENT\n",
    "df.loc[df[\"value\"].apply(lambda x : int(x.replace(\".\", \"\")) < 5000)]"
   ]
  },
  {
   "cell_type": "code",
   "execution_count": 77,
   "id": "675d89c5-c733-4be7-b00c-52a500b36918",
   "metadata": {},
   "outputs": [],
   "source": [
    "df[\"value\"] = df[\"value\"].apply(lambda x : int(x.replace(\".\", \"\")))"
   ]
  },
  {
   "cell_type": "code",
   "execution_count": 78,
   "id": "f1728e9d-cec2-43ee-ba14-39deb9d92061",
   "metadata": {},
   "outputs": [
    {
     "data": {
      "text/plain": [
       "30642"
      ]
     },
     "execution_count": 78,
     "metadata": {},
     "output_type": "execute_result"
    }
   ],
   "source": [
    "df[\"value\"].value_counts().sum()"
   ]
  },
  {
   "cell_type": "code",
   "execution_count": null,
   "id": "215a56ba-9137-43a4-ad2f-91cb2c098eaf",
   "metadata": {},
   "outputs": [],
   "source": []
  },
  {
   "cell_type": "markdown",
   "id": "31e174f5-b911-4be5-8576-d014f64f611f",
   "metadata": {},
   "source": [
    "## Condominium"
   ]
  },
  {
   "cell_type": "code",
   "execution_count": 79,
   "id": "f339425e-f52e-4d55-af99-d5538492bbd0",
   "metadata": {},
   "outputs": [],
   "source": [
    "# ALL NULL SET TO 0\n",
    "df.loc[df[\"condominium\"].isnull(), \"condominium\"] = \"0\""
   ]
  },
  {
   "cell_type": "code",
   "execution_count": 80,
   "id": "f019f62f-617f-499e-baf4-743f80795d46",
   "metadata": {},
   "outputs": [],
   "source": [
    "df[\"condominium\"] = cleanData(df, \"condominium\", \" \", -1)"
   ]
  },
  {
   "cell_type": "code",
   "execution_count": 81,
   "id": "1b54055d-ec12-4dfa-9d74-ba886630b8b8",
   "metadata": {},
   "outputs": [
    {
     "data": {
      "text/plain": [
       "0          15358\n",
       "350          744\n",
       "1            742\n",
       "300          663\n",
       "500          611\n",
       "           ...  \n",
       "1.153          1\n",
       "1.114          1\n",
       "1.552          1\n",
       "1.693          1\n",
       "400.000        1\n",
       "Name: condominium, Length: 1433, dtype: int64"
      ]
     },
     "execution_count": 81,
     "metadata": {},
     "output_type": "execute_result"
    }
   ],
   "source": [
    "df[\"condominium\"].value_counts()"
   ]
  },
  {
   "cell_type": "code",
   "execution_count": 82,
   "id": "9d36841f-3cd2-45ee-b2e4-136caab1d0d9",
   "metadata": {},
   "outputs": [],
   "source": [
    "df[\"condominium\"] = df[\"condominium\"].apply(lambda x : x.replace(\".\", \"\"))"
   ]
  },
  {
   "cell_type": "code",
   "execution_count": 83,
   "id": "e9bb1b5d-9f52-4db5-aa94-1928f3c642ac",
   "metadata": {},
   "outputs": [
    {
     "name": "stdout",
     "output_type": "stream",
     "text": [
      "<class 'pandas.core.frame.DataFrame'>\n",
      "Int64Index: 30642 entries, 0 to 30666\n",
      "Data columns (total 11 columns):\n",
      " #   Column       Non-Null Count  Dtype \n",
      "---  ------       --------------  ----- \n",
      " 0   id           30642 non-null  object\n",
      " 1   url          30642 non-null  object\n",
      " 2   address      30642 non-null  object\n",
      " 3   area         30642 non-null  object\n",
      " 4   rooms        30642 non-null  int64 \n",
      " 5   batrooms     30642 non-null  object\n",
      " 6   garage       30642 non-null  object\n",
      " 7   amenities    24946 non-null  object\n",
      " 8   value        30642 non-null  int64 \n",
      " 9   condominium  30642 non-null  object\n",
      " 10  date         30642 non-null  object\n",
      "dtypes: int64(2), object(9)\n",
      "memory usage: 2.8+ MB\n"
     ]
    }
   ],
   "source": [
    "df.info()"
   ]
  },
  {
   "cell_type": "markdown",
   "id": "42aa9b71-b2f7-46c0-930c-2b7f8df08b6d",
   "metadata": {},
   "source": [
    "## District"
   ]
  },
  {
   "cell_type": "code",
   "execution_count": 84,
   "id": "8f4b399a-bc04-4329-bf84-b138c2f23a4c",
   "metadata": {},
   "outputs": [
    {
     "data": {
      "text/plain": [
       "0        Rua Monsenhor Manoel Vicente, 597 - Água Verde...\n",
       "1        Rua Professor Guido Straube, 775 - Vila Izabel...\n",
       "2        Rua Monsenhor Manoel Vicente, 316 - Água Verde...\n",
       "3        Rua Coronel Dulcídio, 1756 - Água Verde, Curit...\n",
       "4         Avenida Iguaçu, 2960 - Água Verde, Curitiba - PR\n",
       "                               ...                        \n",
       "30662    Rua Francisco Derosso, 375 - Xaxim, Curitiba - PR\n",
       "30663    Rua Antônio Rebelatto, 288 - Xaxim, Curitiba - PR\n",
       "30664                                 Xaxim, Curitiba - PR\n",
       "30665         Rua Abrão Winter, 580 - Xaxim, Curitiba - PR\n",
       "30666          Rua David Tows, 1199 - Xaxim, Curitiba - PR\n",
       "Name: address, Length: 30642, dtype: object"
      ]
     },
     "execution_count": 84,
     "metadata": {},
     "output_type": "execute_result"
    }
   ],
   "source": [
    "df[\"address\"]"
   ]
  },
  {
   "cell_type": "code",
   "execution_count": 85,
   "id": "b48a0ae8-297e-4b0e-b7f8-c8ea548aa9c8",
   "metadata": {},
   "outputs": [],
   "source": [
    "df[\"address\"] = (df[\"address\"].str.normalize('NFKD')\n",
    "                             .str.encode('ascii', errors='ignore')\n",
    "                             .str.decode('utf-8'))"
   ]
  },
  {
   "cell_type": "code",
   "execution_count": 86,
   "id": "fefd87e1-a15e-4c27-9251-96ba0355ac95",
   "metadata": {},
   "outputs": [],
   "source": [
    "bairros = df[\"address\"].apply(lambda x : re.search(r\"- ([A-Za-z]+ [A-Za-z]+)(,)\", x))"
   ]
  },
  {
   "cell_type": "code",
   "execution_count": 87,
   "id": "f9799b81-92de-4fe6-88fd-4c512cf2e2c3",
   "metadata": {},
   "outputs": [],
   "source": [
    "result = []\n",
    "for bairro in df[\"address\"]:\n",
    "    try:\n",
    "        temp = re.search(r\"- (.*),\", bairro).group(1)\n",
    "        result.append(temp.replace(\" \",\"_\"))\n",
    "    except:\n",
    "        temp = re.search(r\"(.*),\", bairro).group(1)\n",
    "        result.append(temp.replace(\" \", \"_\"))"
   ]
  },
  {
   "cell_type": "code",
   "execution_count": 88,
   "id": "a7a274ed-a577-43da-86bb-9b1c9f36610a",
   "metadata": {},
   "outputs": [],
   "source": [
    "df[\"bairros\"] = result"
   ]
  },
  {
   "cell_type": "code",
   "execution_count": 89,
   "id": "fa984a4b-8284-4c96-9edf-8d28be439b39",
   "metadata": {},
   "outputs": [],
   "source": [
    "df.loc[df[\"bairros\"] == \"1_-_Portao\", \"bairros\"] = \"Portao\""
   ]
  },
  {
   "cell_type": "code",
   "execution_count": 90,
   "id": "58297fcc-ecff-4fc6-a5a7-a46ac8fd8de6",
   "metadata": {},
   "outputs": [
    {
     "name": "stdout",
     "output_type": "stream",
     "text": [
      "<class 'pandas.core.frame.DataFrame'>\n",
      "Int64Index: 30642 entries, 0 to 30666\n",
      "Data columns (total 12 columns):\n",
      " #   Column       Non-Null Count  Dtype \n",
      "---  ------       --------------  ----- \n",
      " 0   id           30642 non-null  object\n",
      " 1   url          30642 non-null  object\n",
      " 2   address      30642 non-null  object\n",
      " 3   area         30642 non-null  object\n",
      " 4   rooms        30642 non-null  int64 \n",
      " 5   batrooms     30642 non-null  object\n",
      " 6   garage       30642 non-null  object\n",
      " 7   amenities    24946 non-null  object\n",
      " 8   value        30642 non-null  int64 \n",
      " 9   condominium  30642 non-null  object\n",
      " 10  date         30642 non-null  object\n",
      " 11  bairros      30642 non-null  object\n",
      "dtypes: int64(2), object(10)\n",
      "memory usage: 3.0+ MB\n"
     ]
    }
   ],
   "source": [
    "df.info()"
   ]
  },
  {
   "cell_type": "code",
   "execution_count": 91,
   "id": "81bb487f-e7de-47db-b530-2d560083e882",
   "metadata": {},
   "outputs": [],
   "source": [
    "df[\"area\"] = df[\"area\"].astype(int)\n",
    "df[\"batrooms\"] = df[\"batrooms\"].astype(int)\n",
    "df[\"garage\"] = df[\"garage\"].astype(int)\n",
    "df[\"value\"] = df[\"value\"].astype(float)\n",
    "df[\"condominium\"] = df[\"condominium\"].astype(float)"
   ]
  },
  {
   "cell_type": "code",
   "execution_count": 92,
   "id": "3d60f00c-d527-4acc-8db5-67b2bededb7a",
   "metadata": {},
   "outputs": [
    {
     "name": "stdout",
     "output_type": "stream",
     "text": [
      "<class 'pandas.core.frame.DataFrame'>\n",
      "Int64Index: 30642 entries, 0 to 30666\n",
      "Data columns (total 12 columns):\n",
      " #   Column       Non-Null Count  Dtype  \n",
      "---  ------       --------------  -----  \n",
      " 0   id           30642 non-null  object \n",
      " 1   url          30642 non-null  object \n",
      " 2   address      30642 non-null  object \n",
      " 3   area         30642 non-null  int64  \n",
      " 4   rooms        30642 non-null  int64  \n",
      " 5   batrooms     30642 non-null  int64  \n",
      " 6   garage       30642 non-null  int64  \n",
      " 7   amenities    24946 non-null  object \n",
      " 8   value        30642 non-null  float64\n",
      " 9   condominium  30642 non-null  float64\n",
      " 10  date         30642 non-null  object \n",
      " 11  bairros      30642 non-null  object \n",
      "dtypes: float64(2), int64(4), object(6)\n",
      "memory usage: 3.0+ MB\n"
     ]
    }
   ],
   "source": [
    "df.info()"
   ]
  },
  {
   "cell_type": "markdown",
   "id": "62da8c3c-d571-474b-80ee-4848decbd415",
   "metadata": {},
   "source": [
    "## Amenities"
   ]
  },
  {
   "cell_type": "code",
   "execution_count": 93,
   "id": "21fc4e8a-7280-4e20-92a3-80ceb637719f",
   "metadata": {},
   "outputs": [],
   "source": [
    "df[\"amenities\"] = (df[\"amenities\"].str.normalize('NFKD')\n",
    "                                  .str.encode('ascii', errors='ignore')\n",
    "                                  .str.decode('utf-8')).str.replace(\" \", \"_\").str.replace(\"_/\", \"\").str.replace(\"_-\", \"\")"
   ]
  },
  {
   "cell_type": "code",
   "execution_count": 94,
   "id": "9c8e4655-a58c-4f4c-855b-cdf1f7be0f28",
   "metadata": {},
   "outputs": [],
   "source": [
    "df.loc[df[\"amenities\"].isnull(), \"amenities\"] = \"unknown\""
   ]
  },
  {
   "cell_type": "code",
   "execution_count": 95,
   "id": "ce194ab0-fb09-4852-aae7-748e54facd8b",
   "metadata": {},
   "outputs": [
    {
     "data": {
      "text/plain": [
       "Index(['Agua_Verde', 'Ahu', 'Alto_Boqueirao', 'Alto_da_Gloria',\n",
       "       'Alto_da_Rua_XV', 'Atuba', 'Bacacheri', 'Bairro_Alto', 'Batel',\n",
       "       'Bigorrilho', 'Boa_Vista', 'Bom_Retiro', 'Boqueirao', 'Cabral',\n",
       "       'Cachoeira', 'Cajuru', 'Campina_do_Siqueira', 'Campo_Comprido',\n",
       "       'Campo_de_Santana', 'Capao_Raso', 'Capao_da_Imbuia', 'Capela_Velha',\n",
       "       'Centro', 'Centro_Civico', 'Champagnat', 'Cidade_Industrial',\n",
       "       'Cristo_Rei', 'Ecoville', 'Fanny', 'Fazendinha', 'Guaira', 'Hauer',\n",
       "       'Hugo_Lange', 'Iguacu', 'Jardim_Botanico', 'Jardim_Social', 'Juveve',\n",
       "       'Lamenha_Grande', 'Lindoia', 'Merces', 'Mossungue', 'Novo_Mundo',\n",
       "       'Ouro_Verde', 'Parolin', 'Pedro_Moro', 'Pilarzinho', 'Pinheirinho',\n",
       "       'Portao', 'Prado_Velho', 'Reboucas', 'Santa_Candida',\n",
       "       'Santa_Felicidade', 'Santa_Quiteria', 'Santo_Antonio', 'Santo_Inacio',\n",
       "       'Sao_Francisco', 'Sao_Lourenco', 'Sao_Pedro', 'Seminario',\n",
       "       'Sitio_Cercado', 'Tangua', 'Taruma', 'Tatuquara', 'Tingui', 'Uberaba',\n",
       "       'Vargem_Grande', 'Vila_Izabel', 'Vista_Alegre', 'Xaxim'],\n",
       "      dtype='object')"
      ]
     },
     "execution_count": 95,
     "metadata": {},
     "output_type": "execute_result"
    }
   ],
   "source": [
    "df[\"bairros\"].value_counts().index.sort_values()"
   ]
  },
  {
   "cell_type": "code",
   "execution_count": 96,
   "id": "f3f9a4f7-689b-41ee-8998-7590bda8773e",
   "metadata": {},
   "outputs": [],
   "source": [
    "df = pd.concat([df, df[\"amenities\"].str.get_dummies(sep=\"\\n\")], axis=1)"
   ]
  },
  {
   "cell_type": "code",
   "execution_count": 97,
   "id": "a1001466-26d1-4390-a1b2-f527fb409aa5",
   "metadata": {},
   "outputs": [],
   "source": [
    "# df = pd.concat([df, df[\"bairros\"].str.get_dummies()], axis=1)"
   ]
  },
  {
   "cell_type": "code",
   "execution_count": 98,
   "id": "07cecdcc-5c3c-4007-8cdf-d635a59f0edb",
   "metadata": {},
   "outputs": [],
   "source": [
    "# df = df.drop([\"...\",\"amenities\", \"address\", \"id\", \"date\", \"bairros\"], axis=1)\n",
    "df = df.drop([\"...\",\"amenities\", \"address\", \"id\", \"date\"], axis=1)"
   ]
  },
  {
   "cell_type": "code",
   "execution_count": 99,
   "id": "dbefa151-af41-488b-8f2b-c75285ceb7ec",
   "metadata": {},
   "outputs": [],
   "source": [
    "url = df[\"url\"]\n",
    "df_clean = df.drop(\"url\", axis=1)"
   ]
  },
  {
   "cell_type": "code",
   "execution_count": null,
   "id": "30b2bae5-e4c3-4209-aa55-f2df7c23b1b9",
   "metadata": {},
   "outputs": [],
   "source": []
  },
  {
   "cell_type": "markdown",
   "id": "510ef2eb-64f4-4b28-abb3-6adc7f9c3c93",
   "metadata": {},
   "source": [
    "# Saving cleaning data"
   ]
  },
  {
   "cell_type": "code",
   "execution_count": 100,
   "id": "f91e1fa8-aff5-42b6-bb3e-8bd91bca3012",
   "metadata": {},
   "outputs": [],
   "source": [
    "df.to_csv(path_or_buf=\"../../dataset/data_vivareal_clean.csv\", index=False)"
   ]
  },
  {
   "cell_type": "code",
   "execution_count": null,
   "id": "564293a9-b004-4e63-be0d-846cfafa3f10",
   "metadata": {},
   "outputs": [],
   "source": []
  }
 ],
 "metadata": {
  "kernelspec": {
   "display_name": "Python 3 (ipykernel)",
   "language": "python",
   "name": "python3"
  },
  "language_info": {
   "codemirror_mode": {
    "name": "ipython",
    "version": 3
   },
   "file_extension": ".py",
   "mimetype": "text/x-python",
   "name": "python",
   "nbconvert_exporter": "python",
   "pygments_lexer": "ipython3",
   "version": "3.9.7"
  }
 },
 "nbformat": 4,
 "nbformat_minor": 5
}
