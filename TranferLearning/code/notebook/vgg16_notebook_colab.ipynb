{
  "cells": [
    {
      "cell_type": "code",
      "source": [
        "import tensorflow.keras, os\n",
        "from tensorflow.keras.models import Sequential\n",
        "from tensorflow.keras.layers import Dense, Conv2D, MaxPool2D, Flatten\n",
        "from tensorflow.keras.preprocessing.image import ImageDataGenerator\n",
        "from tensorflow.keras.optimizers import Adam\n",
        "from tensorflow.keras.metrics import categorical_crossentropy\n",
        "from tensorflow.keras.callbacks import ModelCheckpoint, EarlyStopping\n",
        "from sklearn.model_selection import train_test_split\n",
        "\n",
        "import pandas as pd\n",
        "import numpy as np\n",
        "import matplotlib.pyplot as plt\n",
        "\n",
        "import os\n",
        "import zipfile"
      ],
      "metadata": {
        "id": "jQtB3l8VP7-P"
      },
      "id": "jQtB3l8VP7-P",
      "execution_count": 1,
      "outputs": []
    },
    {
      "cell_type": "code",
      "source": [
        "from google.colab import drive\n",
        "drive.mount('/content/drive')"
      ],
      "metadata": {
        "id": "BYVERGidIKyx",
        "outputId": "084a2d76-d5e3-42bb-98c8-e8831985811f",
        "colab": {
          "base_uri": "https://localhost:8080/"
        }
      },
      "id": "BYVERGidIKyx",
      "execution_count": 3,
      "outputs": [
        {
          "output_type": "stream",
          "name": "stdout",
          "text": [
            "Mounted at /content/drive\n"
          ]
        }
      ]
    },
    {
      "cell_type": "code",
      "source": [
        "path = \"/content/drive/MyDrive/TransferLearning\"\n",
        "dataset_name = \"dogs-vs-cats\"\n",
        "unzip = False"
      ],
      "metadata": {
        "id": "YpUu49jfI3wo"
      },
      "id": "YpUu49jfI3wo",
      "execution_count": 14,
      "outputs": []
    },
    {
      "cell_type": "code",
      "source": [
        "def unzipDataSet(zipfile_name, directory):\n",
        "    with zipfile.ZipFile(f\"{path}/dataset/{dataset_name}/{zipfile_name}\", \"r\") as z:\n",
        "        z.extractall(f\"{path}/dataset/images/{directory}\")\n",
        "\n",
        "def createDataFrameFromDirectory(directory):\n",
        "    list_of_files = [os.path.join(f\"{path}/dataset/images/{directory}\", file) for file in os.listdir(f\"{path}/dataset/images/{directory}\")]\n",
        "\n",
        "    df = pd.DataFrame({\"Path\" : list_of_files})\n",
        "    df[\"animal\"] = np.where(df[\"Path\"].str.contains(\"dog\"), \"dog\", \"cat\")\n",
        "\n",
        "    return df"
      ],
      "metadata": {
        "colab": {
          "base_uri": "https://localhost:8080/"
        },
        "id": "RY-XrNukH09M",
        "outputId": "69b867cf-409b-4920-82a7-5c4fd2bf9b7a"
      },
      "id": "RY-XrNukH09M",
      "execution_count": 6,
      "outputs": [
        {
          "output_type": "stream",
          "name": "stdout",
          "text": [
            "/content/drive/MyDrive/TransferLearning\n"
          ]
        }
      ]
    },
    {
      "cell_type": "code",
      "source": [
        "def setModel():\n",
        "    model = Sequential()\n",
        "\n",
        "    model.add(Conv2D(input_shape = (64,64, 3), filters=64, kernel_size=(3,3), padding=\"same\", activation=\"relu\"))\n",
        "    model.add(Conv2D(filters=64, kernel_size=(3,3), padding=\"same\", activation=\"relu\"))\n",
        "\n",
        "    model.add(MaxPool2D(pool_size=(2,2), strides=(2,2)))\n",
        "\n",
        "    model.add(Conv2D(filters=128, kernel_size=(3,3), padding=\"same\", activation=\"relu\"))\n",
        "    model.add(Conv2D(filters=128, kernel_size=(3,3), padding=\"same\", activation=\"relu\"))\n",
        "\n",
        "    model.add(MaxPool2D(pool_size=(2,2), strides=(2,2)))\n",
        "\n",
        "    model.add(Conv2D(filters=256, kernel_size=(3,3), padding=\"same\", activation=\"relu\"))\n",
        "    model.add(Conv2D(filters=256, kernel_size=(3,3), padding=\"same\", activation=\"relu\"))\n",
        "    model.add(Conv2D(filters=256, kernel_size=(3,3), padding=\"same\", activation=\"relu\"))\n",
        "\n",
        "    model.add(MaxPool2D(pool_size=(2,2), strides=(2,2)))\n",
        "\n",
        "    model.add(Conv2D(filters=512, kernel_size=(3,3), padding=\"same\", activation=\"relu\"))\n",
        "    model.add(Conv2D(filters=512, kernel_size=(3,3), padding=\"same\", activation=\"relu\"))\n",
        "    model.add(Conv2D(filters=512, kernel_size=(3,3), padding=\"same\", activation=\"relu\"))\n",
        "\n",
        "    model.add(MaxPool2D(pool_size=(2,2), strides=(2,2)))\n",
        "\n",
        "    model.add(Conv2D(filters=512, kernel_size=(3,3), padding=\"same\", activation=\"relu\"))\n",
        "    model.add(Conv2D(filters=512, kernel_size=(3,3), padding=\"same\", activation=\"relu\"))\n",
        "    model.add(Conv2D(filters=512, kernel_size=(3,3), padding=\"same\", activation=\"relu\"))\n",
        "\n",
        "    model.add(MaxPool2D(pool_size=(2,2), strides=(2,2)))\n",
        "\n",
        "    model.add(Flatten())\n",
        "    model.add(Dense(units=4096, activation=\"relu\"))\n",
        "    model.add(Dense(units=4096, activation=\"relu\"))\n",
        "    model.add(Dense(units=2, activation=\"softmax\"))\n",
        "\n",
        "    return model"
      ],
      "metadata": {
        "id": "W5pNAOgaH713"
      },
      "id": "W5pNAOgaH713",
      "execution_count": 7,
      "outputs": []
    },
    {
      "cell_type": "code",
      "source": [
        "def run():\n",
        "    if unzip:\n",
        "        unzipDataSet(\"train.zip\", \"train\")\n",
        "        unzipDataSet(\"test1.zip\", \"test\")\n",
        "\n",
        "    df_train = createDataFrameFromDirectory(\"train/train\")\n",
        "    df_test = createDataFrameFromDirectory(\"test/test1\")\n",
        "\n",
        "    X_Train, X_Test = train_test_split(df_train, test_size=0.3)\n",
        "\n",
        "    print(X_Train.shape)\n",
        "\n",
        "    tr_datagen = ImageDataGenerator(rescale = 1./255,\n",
        "                                    shear_range = 0.2,\n",
        "                                    zoom_range = 0.2,\n",
        "                                    rotation_range=40,\n",
        "                                    width_shift_range=0.2,\n",
        "                                    height_shift_range=0.2,\n",
        "                                    horizontal_flip=True,\n",
        "                                    fill_mode='nearest')\n",
        "\n",
        "    ts_datagen = ImageDataGenerator(rescale = 1./255)\n",
        "\n",
        "    train_set = tr_datagen.flow_from_dataframe(dataframe=X_Train, x_col=\"Path\", y_col=\"animal\", class_mode=\"categorical\", target_size=(64,64), batch_size=128)\n",
        "    test_set  = ts_datagen.flow_from_dataframe(dataframe=X_Test,  x_col=\"Path\", y_col=\"animal\", class_mode=\"categorical\", target_size=(64,64), batch_size=128)\n",
        "\n",
        "    opt = Adam(learning_rate=0.001)\n",
        "    model = setModel()\n",
        "\n",
        "    model.compile(optimizer = opt, loss=categorical_crossentropy, metrics=[\"accuracy\"])\n",
        "\n",
        "    model.summary()\n",
        "\n",
        "    checkpoint = ModelCheckpoint(f\"{path}/models/vgg16_1.h5\", monitor=\"accuracy\", verbose=1, save_best_only=True, save_weights_only=False, mode=\"auto\", save_freq=1)\n",
        "    early = EarlyStopping(monitor=\"val_accuracy\", min_delta=0, patience=20, verbose=1, mode=\"auto\")\n",
        "\n",
        "    hist = model.fit_generator(steps_per_epoch=100, generator=train_set, validation_data=test_set, validation_steps=10, epochs=100, callbacks=[checkpoint, early])\n",
        "    \n",
        "    return hist"
      ],
      "metadata": {
        "colab": {
          "base_uri": "https://localhost:8080/",
          "height": 164
        },
        "id": "7HOh3cFQH959",
        "outputId": "30a56e53-c9ad-44e9-f7ea-65039446fd21"
      },
      "id": "7HOh3cFQH959",
      "execution_count": 15,
      "outputs": [
        {
          "output_type": "error",
          "ename": "SyntaxError",
          "evalue": "ignored",
          "traceback": [
            "\u001b[0;36m  File \u001b[0;32m\"<ipython-input-15-4eef3fd1e08b>\"\u001b[0;36m, line \u001b[0;32m37\u001b[0m\n\u001b[0;31m    hist = model.fit_generator(steps_per_epoch=100, generator=train_set, validation_data=test_set, validation_steps=10, epochs=10), callbacks=[checkpoint, early])\u001b[0m\n\u001b[0m                                                                                                                                                                 ^\u001b[0m\n\u001b[0;31mSyntaxError\u001b[0m\u001b[0;31m:\u001b[0m invalid syntax\n"
          ]
        }
      ]
    },
    {
      "cell_type": "code",
      "source": [
        "run()"
      ],
      "metadata": {
        "id": "N39sWbW1IwE9",
        "outputId": "00ce2844-4e47-41ce-8ad9-584dee541578",
        "colab": {
          "base_uri": "https://localhost:8080/"
        }
      },
      "id": "N39sWbW1IwE9",
      "execution_count": 13,
      "outputs": [
        {
          "output_type": "stream",
          "name": "stdout",
          "text": [
            "(17500, 2)\n",
            "Found 17500 validated image filenames belonging to 2 classes.\n",
            "Found 7500 validated image filenames belonging to 2 classes.\n",
            "Model: \"sequential\"\n",
            "_________________________________________________________________\n",
            " Layer (type)                Output Shape              Param #   \n",
            "=================================================================\n",
            " conv2d (Conv2D)             (None, 64, 64, 64)        1792      \n",
            "                                                                 \n",
            " conv2d_1 (Conv2D)           (None, 64, 64, 64)        36928     \n",
            "                                                                 \n",
            " max_pooling2d (MaxPooling2D  (None, 32, 32, 64)       0         \n",
            " )                                                               \n",
            "                                                                 \n",
            " conv2d_2 (Conv2D)           (None, 32, 32, 128)       73856     \n",
            "                                                                 \n",
            " conv2d_3 (Conv2D)           (None, 32, 32, 128)       147584    \n",
            "                                                                 \n",
            " max_pooling2d_1 (MaxPooling  (None, 16, 16, 128)      0         \n",
            " 2D)                                                             \n",
            "                                                                 \n",
            " conv2d_4 (Conv2D)           (None, 16, 16, 256)       295168    \n",
            "                                                                 \n",
            " conv2d_5 (Conv2D)           (None, 16, 16, 256)       590080    \n",
            "                                                                 \n",
            " conv2d_6 (Conv2D)           (None, 16, 16, 256)       590080    \n",
            "                                                                 \n",
            " max_pooling2d_2 (MaxPooling  (None, 8, 8, 256)        0         \n",
            " 2D)                                                             \n",
            "                                                                 \n",
            " conv2d_7 (Conv2D)           (None, 8, 8, 512)         1180160   \n",
            "                                                                 \n",
            " conv2d_8 (Conv2D)           (None, 8, 8, 512)         2359808   \n",
            "                                                                 \n",
            " conv2d_9 (Conv2D)           (None, 8, 8, 512)         2359808   \n",
            "                                                                 \n",
            " max_pooling2d_3 (MaxPooling  (None, 4, 4, 512)        0         \n",
            " 2D)                                                             \n",
            "                                                                 \n",
            " conv2d_10 (Conv2D)          (None, 4, 4, 512)         2359808   \n",
            "                                                                 \n",
            " conv2d_11 (Conv2D)          (None, 4, 4, 512)         2359808   \n",
            "                                                                 \n",
            " conv2d_12 (Conv2D)          (None, 4, 4, 512)         2359808   \n",
            "                                                                 \n",
            " max_pooling2d_4 (MaxPooling  (None, 2, 2, 512)        0         \n",
            " 2D)                                                             \n",
            "                                                                 \n",
            " flatten (Flatten)           (None, 2048)              0         \n",
            "                                                                 \n",
            " dense (Dense)               (None, 4096)              8392704   \n",
            "                                                                 \n",
            " dense_1 (Dense)             (None, 4096)              16781312  \n",
            "                                                                 \n",
            " dense_2 (Dense)             (None, 2)                 8194      \n",
            "                                                                 \n",
            "=================================================================\n",
            "Total params: 39,896,898\n",
            "Trainable params: 39,896,898\n",
            "Non-trainable params: 0\n",
            "_________________________________________________________________\n"
          ]
        },
        {
          "output_type": "stream",
          "name": "stderr",
          "text": [
            "/usr/local/lib/python3.7/dist-packages/ipykernel_launcher.py:37: UserWarning: `Model.fit_generator` is deprecated and will be removed in a future version. Please use `Model.fit`, which supports generators.\n"
          ]
        },
        {
          "output_type": "stream",
          "name": "stdout",
          "text": [
            "\n",
            "Epoch 00001: accuracy improved from -inf to 0.46875, saving model to /content/drive/MyDrive/TransferLearning/models/vgg16_1.h5\n",
            "1/1 [==============================] - 33s 33s/step - loss: 0.6932 - accuracy: 0.4688 - val_loss: 0.6975 - val_accuracy: 0.5031\n"
          ]
        },
        {
          "output_type": "execute_result",
          "data": {
            "text/plain": [
              "<keras.callbacks.History at 0x7f9d78083b50>"
            ]
          },
          "metadata": {},
          "execution_count": 13
        }
      ]
    },
    {
      "cell_type": "code",
      "source": [
        ""
      ],
      "metadata": {
        "id": "ar4f_WYLIxiu"
      },
      "id": "ar4f_WYLIxiu",
      "execution_count": null,
      "outputs": []
    }
  ],
  "metadata": {
    "kernelspec": {
      "display_name": "Python 3",
      "language": "python",
      "name": "python3"
    },
    "language_info": {
      "codemirror_mode": {
        "name": "ipython",
        "version": 3
      },
      "file_extension": ".py",
      "mimetype": "text/x-python",
      "name": "python",
      "nbconvert_exporter": "python",
      "pygments_lexer": "ipython3",
      "version": "3.7.1"
    },
    "colab": {
      "name": "vgg16_notebook.ipynb",
      "provenance": []
    },
    "accelerator": "GPU"
  },
  "nbformat": 4,
  "nbformat_minor": 5
}