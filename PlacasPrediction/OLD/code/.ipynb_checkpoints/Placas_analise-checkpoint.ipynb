{
 "cells": [
  {
   "cell_type": "code",
   "execution_count": 88,
   "metadata": {},
   "outputs": [],
   "source": [
    "from tensorflow.keras.models import Sequential\n",
    "from tensorflow.keras.layers import Conv2D, BatchNormalization, Flatten, Dropout, Activation, MaxPooling2D, Dense\n",
    "\n",
    "from skimage import transform\n",
    "from skimage import exposure\n",
    "from skimage import io\n",
    "\n",
    "import matplotlib.pyplot as plt\n",
    "\n",
    "import pandas as pd\n",
    "import numpy as np\n",
    "import random\n",
    "import os"
   ]
  },
  {
   "cell_type": "code",
   "execution_count": 5,
   "metadata": {},
   "outputs": [],
   "source": [
    "df_train = pd.read_csv(\"../dataset/archive/Train.csv\")[[\"ClassId\", \"Path\"]]\n",
    "df_test = pd.read_csv(\"../dataset/archive/Test.csv\")[[\"ClassId\", \"Path\"]]"
   ]
  },
  {
   "cell_type": "code",
   "execution_count": 12,
   "metadata": {},
   "outputs": [],
   "source": [
    "# SHUFFLE THE DATAFRAMES\n",
    "df_train = df_train.sample(frac=1)\n",
    "df_test = df_test.sample(frac=1)"
   ]
  },
  {
   "cell_type": "code",
   "execution_count": 90,
   "metadata": {},
   "outputs": [
    {
     "name": "stdout",
     "output_type": "stream",
     "text": [
      "[DEBUG] total of 1000 images processed.\n",
      "[DEBUG] total of 2000 images processed.\n",
      "[DEBUG] total of 3000 images processed.\n",
      "[DEBUG] total of 4000 images processed.\n",
      "[DEBUG] total of 5000 images processed.\n",
      "[DEBUG] total of 6000 images processed.\n",
      "[DEBUG] total of 7000 images processed.\n",
      "[DEBUG] total of 8000 images processed.\n",
      "[DEBUG] total of 9000 images processed.\n",
      "[DEBUG] total of 10000 images processed.\n"
     ]
    },
    {
     "name": "stderr",
     "output_type": "stream",
     "text": [
      "/Users/ivastival/opt/anaconda3/lib/python3.7/site-packages/skimage/util/dtype.py:135: UserWarning: Possible precision loss when converting from float64 to uint16\n",
      "  .format(dtypeobj_in, dtypeobj_out))\n"
     ]
    },
    {
     "name": "stdout",
     "output_type": "stream",
     "text": [
      "[DEBUG] total of 11000 images processed.\n",
      "[DEBUG] total of 12000 images processed.\n",
      "[DEBUG] total of 13000 images processed.\n",
      "[DEBUG] total of 14000 images processed.\n",
      "[DEBUG] total of 15000 images processed.\n",
      "[DEBUG] total of 16000 images processed.\n",
      "[DEBUG] total of 17000 images processed.\n",
      "[DEBUG] total of 18000 images processed.\n",
      "[DEBUG] total of 19000 images processed.\n",
      "[DEBUG] total of 20000 images processed.\n",
      "[DEBUG] total of 21000 images processed.\n",
      "[DEBUG] total of 22000 images processed.\n",
      "[DEBUG] total of 23000 images processed.\n",
      "[DEBUG] total of 24000 images processed.\n",
      "[DEBUG] total of 25000 images processed.\n",
      "[DEBUG] total of 26000 images processed.\n",
      "[DEBUG] total of 27000 images processed.\n",
      "[DEBUG] total of 28000 images processed.\n",
      "[DEBUG] total of 29000 images processed.\n",
      "[DEBUG] total of 30000 images processed.\n",
      "[DEBUG] total of 31000 images processed.\n",
      "[DEBUG] total of 32000 images processed.\n",
      "[DEBUG] total of 33000 images processed.\n",
      "[DEBUG] total of 34000 images processed.\n",
      "[DEBUG] total of 35000 images processed.\n",
      "[DEBUG] total of 36000 images processed.\n",
      "[DEBUG] total of 37000 images processed.\n",
      "[DEBUG] total of 38000 images processed.\n",
      "[DEBUG] total of 39000 images processed.\n",
      "[DEBUG] total of 1000 images processed.\n",
      "[DEBUG] total of 2000 images processed.\n",
      "[DEBUG] total of 3000 images processed.\n",
      "[DEBUG] total of 4000 images processed.\n",
      "[DEBUG] total of 5000 images processed.\n",
      "[DEBUG] total of 6000 images processed.\n",
      "[DEBUG] total of 7000 images processed.\n",
      "[DEBUG] total of 8000 images processed.\n",
      "[DEBUG] total of 9000 images processed.\n",
      "[DEBUG] total of 10000 images processed.\n",
      "[DEBUG] total of 11000 images processed.\n",
      "[DEBUG] total of 12000 images processed.\n"
     ]
    }
   ],
   "source": [
    "def load_images(base_path, images_path):\n",
    "    data = []\n",
    "    for (i, image_path) in enumerate(images_path):\n",
    "        if i > 0 and i % 1000 == 0:\n",
    "            print(f\"[DEBUG] total of {i} images processed.\")\n",
    "            \n",
    "        image_full_path = os.path.sep.join([base_path, image_path])\n",
    "        image = io.imread(image_full_path)\n",
    "\n",
    "        image = transform.resize(image, (32,32))\n",
    "        image = exposure.equalize_adapthist(image, clip_limit=0.1)\n",
    "\n",
    "        data.append(image)\n",
    "            \n",
    "    data = np.array(data)\n",
    "    return data\n",
    "            \n",
    "        \n",
    "images_path_train = df_train[\"Path\"]\n",
    "Y_train = np.array(df_train[\"ClassId\"])\n",
    "\n",
    "images_path_test = df_test[\"Path\"]\n",
    "Y_test = np.array(df_test[\"ClassId\"])\n",
    "\n",
    "X_train = load_images(\"../dataset/archive\", images_path_train)\n",
    "X_test = load_images(\"../dataset/archive\", images_path_test)"
   ]
  },
  {
   "cell_type": "code",
   "execution_count": 95,
   "metadata": {},
   "outputs": [],
   "source": [
    "X_Train = X_train.astype(\"float32\")/255.0"
   ]
  },
  {
   "cell_type": "code",
   "execution_count": 96,
   "metadata": {},
   "outputs": [
    {
     "data": {
      "text/plain": [
       "<matplotlib.image.AxesImage at 0x7fc5810b96d0>"
      ]
     },
     "execution_count": 96,
     "metadata": {},
     "output_type": "execute_result"
    },
    {
     "data": {
      "image/png": "[encoded data removed]",
      "text/plain": [
       "<Figure size 432x288 with 1 Axes>"
      ]
     },
     "metadata": {
      "needs_background": "light"
     },
     "output_type": "display_data"
    }
   ],
   "source": [
    "plt.imshow(X_Train[0])"
   ]
  },
  {
   "cell_type": "code",
   "execution_count": null,
   "metadata": {},
   "outputs": [],
   "source": []
  }
 ],
 "metadata": {
  "kernelspec": {
   "display_name": "Python 3",
   "language": "python",
   "name": "python3"
  },
  "language_info": {
   "codemirror_mode": {
    "name": "ipython",
    "version": 3
   },
   "file_extension": ".py",
   "mimetype": "text/x-python",
   "name": "python",
   "nbconvert_exporter": "python",
   "pygments_lexer": "ipython3",
   "version": "3.7.4"
  }
 },
 "nbformat": 4,
 "nbformat_minor": 4
}
