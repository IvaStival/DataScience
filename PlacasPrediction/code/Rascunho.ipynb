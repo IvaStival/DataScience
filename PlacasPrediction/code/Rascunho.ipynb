{
 "cells": [
  {
   "cell_type": "code",
   "execution_count": 1,
   "metadata": {},
   "outputs": [],
   "source": [
    "import pandas as pd"
   ]
  },
  {
   "cell_type": "code",
   "execution_count": 4,
   "metadata": {},
   "outputs": [],
   "source": [
    "df = pd.read_csv(\"../hists/Step01/pred__Conv_2x2_3x3_3x3_Dense_64_64_Filter_4_4_8.csv\")"
   ]
  },
  {
   "cell_type": "code",
   "execution_count": 10,
   "metadata": {},
   "outputs": [
    {
     "data": {
      "text/plain": [
       "0                                  Speed limit (20km/h)\n",
       "1                                  Speed limit (30km/h)\n",
       "2                                  Speed limit (50km/h)\n",
       "3                                  Speed limit (60km/h)\n",
       "4                                  Speed limit (70km/h)\n",
       "5                                  Speed limit (80km/h)\n",
       "6                           End of speed limit (80km/h)\n",
       "7                                 Speed limit (100km/h)\n",
       "8                                 Speed limit (120km/h)\n",
       "9                                            No passing\n",
       "10         No passing for vechiles over 3.5 metric tons\n",
       "11                Right-of-way at the next intersection\n",
       "12                                        Priority road\n",
       "13                                                Yield\n",
       "14                                                 Stop\n",
       "15                                          No vechiles\n",
       "16             Vechiles over 3.5 metric tons prohibited\n",
       "17                                             No entry\n",
       "18                                      General caution\n",
       "19                          Dangerous curve to the left\n",
       "20                         Dangerous curve to the right\n",
       "21                                         Double curve\n",
       "22                                           Bumpy road\n",
       "23                                        Slippery road\n",
       "24                            Road narrows on the right\n",
       "25                                            Road work\n",
       "26                                      Traffic signals\n",
       "27                                          Pedestrians\n",
       "28                                    Children crossing\n",
       "29                                    Bicycles crossing\n",
       "30                                   Beware of ice/snow\n",
       "31                                Wild animals crossing\n",
       "32                  End of all speed and passing limits\n",
       "33                                     Turn right ahead\n",
       "34                                      Turn left ahead\n",
       "35                                           Ahead only\n",
       "36                                 Go straight or right\n",
       "37                                  Go straight or left\n",
       "38                                           Keep right\n",
       "39                                            Keep left\n",
       "40                                 Roundabout mandatory\n",
       "41                                    End of no passing\n",
       "42    End of no passing by vechiles over 3.5 metric ...\n",
       "43                                             accuracy\n",
       "44                                            macro avg\n",
       "45                                         weighted avg\n",
       "Name: Unnamed: 0, dtype: object"
      ]
     },
     "execution_count": 10,
     "metadata": {},
     "output_type": "execute_result"
    }
   ],
   "source": [
    "df.iloc[:, 0]"
   ]
  },
  {
   "cell_type": "code",
   "execution_count": null,
   "metadata": {},
   "outputs": [],
   "source": []
  }
 ],
 "metadata": {
  "kernelspec": {
   "display_name": "Python 3",
   "language": "python",
   "name": "python3"
  },
  "language_info": {
   "codemirror_mode": {
    "name": "ipython",
    "version": 3
   },
   "file_extension": ".py",
   "mimetype": "text/x-python",
   "name": "python",
   "nbconvert_exporter": "python",
   "pygments_lexer": "ipython3",
   "version": "3.7.4"
  }
 },
 "nbformat": 4,
 "nbformat_minor": 4
}
