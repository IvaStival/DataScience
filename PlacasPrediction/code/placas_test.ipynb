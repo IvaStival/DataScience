{
 "cells": [
  {
   "cell_type": "code",
   "execution_count": 35,
   "metadata": {},
   "outputs": [],
   "source": [
    "from tensorflow.keras.optimizers import Adam\n",
    "from tensorflow.keras.utils import to_categorical\n",
    "from tensorflow.keras.preprocessing.image import ImageDataGenerator\n",
    "\n",
    "from sklearn.metrics import classification_report\n",
    "\n",
    "from tensorflow.keras.models import Sequential, load_model\n",
    "from tensorflow.keras.layers import Conv2D, MaxPooling2D, BatchNormalization, Flatten, Dense, Dropout, Activation\n",
    "\n",
    "import matplotlib.pyplot as plt\n",
    "import matplotlib.image as mpimg\n",
    "from mpl_toolkits.axes_grid1 import ImageGrid\n",
    "\n",
    "from skimage import io, transform, exposure\n",
    "\n",
    "import pandas as pd\n",
    "import numpy as np\n",
    "import random\n",
    "import os"
   ]
  },
  {
   "cell_type": "code",
   "execution_count": 3,
   "metadata": {},
   "outputs": [],
   "source": [
    "# Load the number 4 model, the best\n",
    "model = load_model(\"../models/Step01/sign_model__Conv_5x5_5x5_5x5_Dense_256_256_Filter_16_32_64_02_09_2021_14_29_06\")"
   ]
  },
  {
   "cell_type": "code",
   "execution_count": 4,
   "metadata": {},
   "outputs": [
    {
     "name": "stdout",
     "output_type": "stream",
     "text": [
      "Model: \"sequential_4\"\n",
      "_________________________________________________________________\n",
      "Layer (type)                 Output Shape              Param #   \n",
      "=================================================================\n",
      "conv2d_20 (Conv2D)           (None, 32, 32, 16)        1216      \n",
      "_________________________________________________________________\n",
      "activation_32 (Activation)   (None, 32, 32, 16)        0         \n",
      "_________________________________________________________________\n",
      "batch_normalization_28 (Batc (None, 32, 32, 16)        128       \n",
      "_________________________________________________________________\n",
      "max_pooling2d_12 (MaxPooling (None, 16, 16, 16)        0         \n",
      "_________________________________________________________________\n",
      "conv2d_21 (Conv2D)           (None, 16, 16, 32)        12832     \n",
      "_________________________________________________________________\n",
      "activation_33 (Activation)   (None, 16, 16, 32)        0         \n",
      "_________________________________________________________________\n",
      "batch_normalization_29 (Batc (None, 16, 16, 32)        64        \n",
      "_________________________________________________________________\n",
      "conv2d_22 (Conv2D)           (None, 16, 16, 32)        25632     \n",
      "_________________________________________________________________\n",
      "activation_34 (Activation)   (None, 16, 16, 32)        0         \n",
      "_________________________________________________________________\n",
      "batch_normalization_30 (Batc (None, 16, 16, 32)        64        \n",
      "_________________________________________________________________\n",
      "max_pooling2d_13 (MaxPooling (None, 8, 8, 32)          0         \n",
      "_________________________________________________________________\n",
      "conv2d_23 (Conv2D)           (None, 8, 8, 64)          51264     \n",
      "_________________________________________________________________\n",
      "activation_35 (Activation)   (None, 8, 8, 64)          0         \n",
      "_________________________________________________________________\n",
      "batch_normalization_31 (Batc (None, 8, 8, 64)          32        \n",
      "_________________________________________________________________\n",
      "conv2d_24 (Conv2D)           (None, 8, 8, 64)          102464    \n",
      "_________________________________________________________________\n",
      "activation_36 (Activation)   (None, 8, 8, 64)          0         \n",
      "_________________________________________________________________\n",
      "batch_normalization_32 (Batc (None, 8, 8, 64)          32        \n",
      "_________________________________________________________________\n",
      "max_pooling2d_14 (MaxPooling (None, 4, 4, 64)          0         \n",
      "_________________________________________________________________\n",
      "flatten_8 (Flatten)          (None, 1024)              0         \n",
      "_________________________________________________________________\n",
      "dense_12 (Dense)             (None, 256)               262400    \n",
      "_________________________________________________________________\n",
      "activation_37 (Activation)   (None, 256)               0         \n",
      "_________________________________________________________________\n",
      "batch_normalization_33 (Batc (None, 256)               1024      \n",
      "_________________________________________________________________\n",
      "dropout_8 (Dropout)          (None, 256)               0         \n",
      "_________________________________________________________________\n",
      "flatten_9 (Flatten)          (None, 256)               0         \n",
      "_________________________________________________________________\n",
      "dense_13 (Dense)             (None, 256)               65792     \n",
      "_________________________________________________________________\n",
      "activation_38 (Activation)   (None, 256)               0         \n",
      "_________________________________________________________________\n",
      "batch_normalization_34 (Batc (None, 256)               1024      \n",
      "_________________________________________________________________\n",
      "dropout_9 (Dropout)          (None, 256)               0         \n",
      "_________________________________________________________________\n",
      "dense_14 (Dense)             (None, 43)                11051     \n",
      "_________________________________________________________________\n",
      "activation_39 (Activation)   (None, 43)                0         \n",
      "=================================================================\n",
      "Total params: 535,019\n",
      "Trainable params: 533,835\n",
      "Non-trainable params: 1,184\n",
      "_________________________________________________________________\n"
     ]
    }
   ],
   "source": [
    "model.summary()"
   ]
  },
  {
   "cell_type": "code",
   "execution_count": 67,
   "metadata": {},
   "outputs": [],
   "source": [
    "df = pd.read_csv(\"../dataset/archive/Test.csv\")[[\"ClassId\", \"Path\"]]\n",
    "names = pd.read_csv(\"../dataset/archive/signnames.csv\")[\"SignName\"]"
   ]
  },
  {
   "cell_type": "code",
   "execution_count": 76,
   "metadata": {},
   "outputs": [
    {
     "data": {
      "text/plain": [
       "<matplotlib.image.AxesImage at 0x7fc06ade7090>"
      ]
     },
     "execution_count": 76,
     "metadata": {},
     "output_type": "execute_result"
    },
    {
     "data": {
      "image/png": "[encoded data removed]",
      "text/plain": [
       "<Figure size 432x288 with 1 Axes>"
      ]
     },
     "metadata": {
      "needs_background": "light"
     },
     "output_type": "display_data"
    }
   ],
   "source": [
    "id = random.randint(0,df.shape[0])\n",
    "id, path = df.iloc[id]\n",
    "\n",
    "image = image = io.imread(f'../dataset/archive/{path}')\n",
    "image = transform.resize(image, (32,32))\n",
    "image = exposure.equalize_adapthist(image, clip_limit=0.1)\n",
    "plt.imshow(image)"
   ]
  },
  {
   "cell_type": "code",
   "execution_count": 77,
   "metadata": {},
   "outputs": [
    {
     "data": {
      "text/plain": [
       "'Speed limit (70km/h)'"
      ]
     },
     "execution_count": 77,
     "metadata": {},
     "output_type": "execute_result"
    }
   ],
   "source": [
    "image = image.astype(\"float32\") / 255.0\n",
    "image = np.expand_dims(image, axis=0)\n",
    "pred = model.predict(image)\n",
    "result = pred.argmax()\n",
    "names[result]"
   ]
  },
  {
   "cell_type": "code",
   "execution_count": 110,
   "metadata": {},
   "outputs": [
    {
     "data": {
      "image/png": "[encoded data removed]",
      "text/plain": [
       "<Figure size 432x288 with 1 Axes>"
      ]
     },
     "metadata": {
      "needs_background": "light"
     },
     "output_type": "display_data"
    }
   ],
   "source": [
    "id = random.randint(0,df.shape[0])\n",
    "id, path = df.iloc[id]\n",
    "\n",
    "image = image = io.imread(f'../dataset/60.png')\n",
    "image = transform.resize(image, (32,32))\n",
    "image = exposure.equalize_adapthist(image, clip_limit=0.1)\n",
    "plt.imshow(image)\n",
    "image = image.astype(\"float32\") / 255.0\n",
    "# image = np.expand_dims(image, axis=0)\n",
    "image = np.array([image])"
   ]
  },
  {
   "cell_type": "code",
   "execution_count": 111,
   "metadata": {},
   "outputs": [
    {
     "data": {
      "text/plain": [
       "'Speed limit (60km/h)'"
      ]
     },
     "execution_count": 111,
     "metadata": {},
     "output_type": "execute_result"
    }
   ],
   "source": [
    "pred = model.predict(image)\n",
    "result = pred.argmax()\n",
    "names[result]"
   ]
  },
  {
   "cell_type": "code",
   "execution_count": 112,
   "metadata": {},
   "outputs": [
    {
     "data": {
      "image/png": "[encoded data removed]",
      "text/plain": [
       "<Figure size 432x288 with 1 Axes>"
      ]
     },
     "metadata": {
      "needs_background": "light"
     },
     "output_type": "display_data"
    }
   ],
   "source": [
    "id = random.randint(0,df.shape[0])\n",
    "id, path = df.iloc[id]\n",
    "\n",
    "image = io.imread(f'../dataset/placa.png')\n",
    "image = transform.resize(image, (32,32))\n",
    "image = exposure.equalize_adapthist(image, clip_limit=0.1)\n",
    "plt.imshow(image)\n",
    "image = image.astype(\"float32\") / 255.0\n",
    "# image = np.expand_dims(image, axis=0)\n",
    "image = np.array([image])"
   ]
  },
  {
   "cell_type": "code",
   "execution_count": 116,
   "metadata": {},
   "outputs": [
    {
     "name": "stdout",
     "output_type": "stream",
     "text": [
      "Ahead only, id 35\n"
     ]
    }
   ],
   "source": [
    "pred = model.predict(image)\n",
    "result = pred.argmax()\n",
    "print(f\"{names[result]}, id {result}\")"
   ]
  },
  {
   "cell_type": "code",
   "execution_count": 124,
   "metadata": {},
   "outputs": [
    {
     "name": "stderr",
     "output_type": "stream",
     "text": [
      "/Users/ivastival/opt/anaconda3/lib/python3.7/site-packages/skimage/util/dtype.py:135: UserWarning: Possible precision loss when converting from float64 to uint16\n",
      "  .format(dtypeobj_in, dtypeobj_out))\n"
     ]
    },
    {
     "data": {
      "text/plain": [
       "<matplotlib.image.AxesImage at 0x7fc06dd61810>"
      ]
     },
     "execution_count": 124,
     "metadata": {},
     "output_type": "execute_result"
    },
    {
     "data": {
      "image/png": "[encoded data removed]",
      "text/plain": [
       "<Figure size 432x288 with 1 Axes>"
      ]
     },
     "metadata": {
      "needs_background": "light"
     },
     "output_type": "display_data"
    }
   ],
   "source": [
    "df_35 = df[df[\"ClassId\"] == 35].reset_index(drop=True)\n",
    "i = random.randint(0, df_35.shape[0])\n",
    "img_35 = df_35[\"Path\"][i]\n",
    "\n",
    "image = io.imread(f'../dataset/archive/{img_35}')\n",
    "image = transform.resize(image, (32,32))\n",
    "image = exposure.equalize_adapthist(image, clip_limit=0.1)\n",
    "plt.imshow(image)"
   ]
  },
  {
   "cell_type": "code",
   "execution_count": 126,
   "metadata": {},
   "outputs": [
    {
     "data": {
      "image/png": "[encoded data removed]",
      "text/plain": [
       "<Figure size 432x288 with 1 Axes>"
      ]
     },
     "metadata": {
      "needs_background": "light"
     },
     "output_type": "display_data"
    }
   ],
   "source": [
    "id = random.randint(0,df.shape[0])\n",
    "id, path = df.iloc[id]\n",
    "\n",
    "image = io.imread(f'../dataset/placa2.png')\n",
    "image = transform.resize(image, (32,32))\n",
    "image = exposure.equalize_adapthist(image, clip_limit=0.1)\n",
    "plt.imshow(image)\n",
    "image = image.astype(\"float32\") / 255.0\n",
    "# image = np.expand_dims(image, axis=0)\n",
    "image = np.array([image])"
   ]
  },
  {
   "cell_type": "code",
   "execution_count": 127,
   "metadata": {},
   "outputs": [
    {
     "name": "stdout",
     "output_type": "stream",
     "text": [
      "Right-of-way at the next intersection, id 11\n"
     ]
    }
   ],
   "source": [
    "pred = model.predict(image)\n",
    "result = pred.argmax()\n",
    "print(f\"{names[result]}, id {result}\")"
   ]
  },
  {
   "cell_type": "code",
   "execution_count": 129,
   "metadata": {},
   "outputs": [
    {
     "data": {
      "text/plain": [
       "<matplotlib.image.AxesImage at 0x7fc06e758b90>"
      ]
     },
     "execution_count": 129,
     "metadata": {},
     "output_type": "execute_result"
    },
    {
     "data": {
      "image/png": "[encoded data removed]",
      "text/plain": [
       "<Figure size 432x288 with 1 Axes>"
      ]
     },
     "metadata": {
      "needs_background": "light"
     },
     "output_type": "display_data"
    }
   ],
   "source": [
    "df_11 = df[df[\"ClassId\"] == 11].reset_index(drop=True)\n",
    "i = random.randint(0, df_11.shape[0])\n",
    "img_11 = df_11[\"Path\"][i]\n",
    "\n",
    "image = io.imread(f'../dataset/archive/{img_11}')\n",
    "image = transform.resize(image, (32,32))\n",
    "image = exposure.equalize_adapthist(image, clip_limit=0.1)\n",
    "plt.imshow(image)"
   ]
  },
  {
   "cell_type": "code",
   "execution_count": null,
   "metadata": {},
   "outputs": [],
   "source": []
  }
 ],
 "metadata": {
  "kernelspec": {
   "display_name": "Python 3",
   "language": "python",
   "name": "python3"
  },
  "language_info": {
   "codemirror_mode": {
    "name": "ipython",
    "version": 3
   },
   "file_extension": ".py",
   "mimetype": "text/x-python",
   "name": "python",
   "nbconvert_exporter": "python",
   "pygments_lexer": "ipython3",
   "version": "3.7.4"
  }
 },
 "nbformat": 4,
 "nbformat_minor": 4
}
