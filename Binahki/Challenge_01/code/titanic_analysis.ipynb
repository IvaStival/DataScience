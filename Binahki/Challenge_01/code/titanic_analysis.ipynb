{
 "cells": [
  {
   "cell_type": "code",
   "execution_count": 1,
   "id": "c0c4be62-615b-4ff1-abf6-f032c8f4e7e6",
   "metadata": {},
   "outputs": [],
   "source": [
    "# PRIMEIRA TENTATIVA DE RESOLUÇÃO, ALCANCEI O SCORE MAXIMO DE 0.75119\n",
    "\n",
    "# IMPORT DATA MANAGEMENT AND VISUALIZATION LIBS\n",
    "import pandas as pd\n",
    "import numpy as np\n",
    "import matplotlib.pyplot as plt\n",
    "import seaborn as sns\n",
    "\n",
    "sns.set()"
   ]
  },
  {
   "cell_type": "code",
   "execution_count": 2,
   "id": "e0992da5-798e-4869-8902-20d22e16dfb2",
   "metadata": {},
   "outputs": [],
   "source": [
    "# FEATURES\n",
    "# survival -> Survival - 0 = No, 1 = Yes\n",
    "# pclass   -> Ticket class - 1 = 1st, 2 = 2nd, 3 = 3rd\n",
    "# sex      -> Sex\n",
    "# Age      -> Age in years\n",
    "# sibsp    -> # of siblings / spouses aboard the Titanic\n",
    "# parch    -> # of parents / children aboard the Titanic\n",
    "# ticket   -> Ticket number\n",
    "# fare     -> Passenger fare\n",
    "# cabin    -> Cabin number\n",
    "# embarked -> Port of Embarkation - C = Cherbourg, Q = Queenstown, S = Southampton"
   ]
  },
  {
   "cell_type": "code",
   "execution_count": 3,
   "id": "4afec10e-7318-4f8f-a358-d84766e832e9",
   "metadata": {},
   "outputs": [
    {
     "data": {
      "text/html": [
       "<div>\n",
       "<style scoped>\n",
       "    .dataframe tbody tr th:only-of-type {\n",
       "        vertical-align: middle;\n",
       "    }\n",
       "\n",
       "    .dataframe tbody tr th {\n",
       "        vertical-align: top;\n",
       "    }\n",
       "\n",
       "    .dataframe thead th {\n",
       "        text-align: right;\n",
       "    }\n",
       "</style>\n",
       "<table border=\"1\" class=\"dataframe\">\n",
       "  <thead>\n",
       "    <tr style=\"text-align: right;\">\n",
       "      <th></th>\n",
       "      <th>PassengerId</th>\n",
       "      <th>Survived</th>\n",
       "      <th>Pclass</th>\n",
       "      <th>Name</th>\n",
       "      <th>Sex</th>\n",
       "      <th>Age</th>\n",
       "      <th>SibSp</th>\n",
       "      <th>Parch</th>\n",
       "      <th>Ticket</th>\n",
       "      <th>Fare</th>\n",
       "      <th>Cabin</th>\n",
       "      <th>Embarked</th>\n",
       "    </tr>\n",
       "  </thead>\n",
       "  <tbody>\n",
       "    <tr>\n",
       "      <th>0</th>\n",
       "      <td>1</td>\n",
       "      <td>0</td>\n",
       "      <td>3</td>\n",
       "      <td>Braund, Mr. Owen Harris</td>\n",
       "      <td>male</td>\n",
       "      <td>22.0</td>\n",
       "      <td>1</td>\n",
       "      <td>0</td>\n",
       "      <td>A/5 21171</td>\n",
       "      <td>7.2500</td>\n",
       "      <td>NaN</td>\n",
       "      <td>S</td>\n",
       "    </tr>\n",
       "    <tr>\n",
       "      <th>1</th>\n",
       "      <td>2</td>\n",
       "      <td>1</td>\n",
       "      <td>1</td>\n",
       "      <td>Cumings, Mrs. John Bradley (Florence Briggs Th...</td>\n",
       "      <td>female</td>\n",
       "      <td>38.0</td>\n",
       "      <td>1</td>\n",
       "      <td>0</td>\n",
       "      <td>PC 17599</td>\n",
       "      <td>71.2833</td>\n",
       "      <td>C85</td>\n",
       "      <td>C</td>\n",
       "    </tr>\n",
       "    <tr>\n",
       "      <th>2</th>\n",
       "      <td>3</td>\n",
       "      <td>1</td>\n",
       "      <td>3</td>\n",
       "      <td>Heikkinen, Miss. Laina</td>\n",
       "      <td>female</td>\n",
       "      <td>26.0</td>\n",
       "      <td>0</td>\n",
       "      <td>0</td>\n",
       "      <td>STON/O2. 3101282</td>\n",
       "      <td>7.9250</td>\n",
       "      <td>NaN</td>\n",
       "      <td>S</td>\n",
       "    </tr>\n",
       "    <tr>\n",
       "      <th>3</th>\n",
       "      <td>4</td>\n",
       "      <td>1</td>\n",
       "      <td>1</td>\n",
       "      <td>Futrelle, Mrs. Jacques Heath (Lily May Peel)</td>\n",
       "      <td>female</td>\n",
       "      <td>35.0</td>\n",
       "      <td>1</td>\n",
       "      <td>0</td>\n",
       "      <td>113803</td>\n",
       "      <td>53.1000</td>\n",
       "      <td>C123</td>\n",
       "      <td>S</td>\n",
       "    </tr>\n",
       "    <tr>\n",
       "      <th>4</th>\n",
       "      <td>5</td>\n",
       "      <td>0</td>\n",
       "      <td>3</td>\n",
       "      <td>Allen, Mr. William Henry</td>\n",
       "      <td>male</td>\n",
       "      <td>35.0</td>\n",
       "      <td>0</td>\n",
       "      <td>0</td>\n",
       "      <td>373450</td>\n",
       "      <td>8.0500</td>\n",
       "      <td>NaN</td>\n",
       "      <td>S</td>\n",
       "    </tr>\n",
       "  </tbody>\n",
       "</table>\n",
       "</div>"
      ],
      "text/plain": [
       "   PassengerId  Survived  Pclass  \\\n",
       "0            1         0       3   \n",
       "1            2         1       1   \n",
       "2            3         1       3   \n",
       "3            4         1       1   \n",
       "4            5         0       3   \n",
       "\n",
       "                                                Name     Sex   Age  SibSp  \\\n",
       "0                            Braund, Mr. Owen Harris    male  22.0      1   \n",
       "1  Cumings, Mrs. John Bradley (Florence Briggs Th...  female  38.0      1   \n",
       "2                             Heikkinen, Miss. Laina  female  26.0      0   \n",
       "3       Futrelle, Mrs. Jacques Heath (Lily May Peel)  female  35.0      1   \n",
       "4                           Allen, Mr. William Henry    male  35.0      0   \n",
       "\n",
       "   Parch            Ticket     Fare Cabin Embarked  \n",
       "0      0         A/5 21171   7.2500   NaN        S  \n",
       "1      0          PC 17599  71.2833   C85        C  \n",
       "2      0  STON/O2. 3101282   7.9250   NaN        S  \n",
       "3      0            113803  53.1000  C123        S  \n",
       "4      0            373450   8.0500   NaN        S  "
      ]
     },
     "execution_count": 3,
     "metadata": {},
     "output_type": "execute_result"
    }
   ],
   "source": [
    "# LOAD TRAIN AND TEST DATASET\n",
    "df_train = pd.read_csv(\"../dataset/titanic/train.csv\")\n",
    "df_test = pd.read_csv(\"../dataset/titanic/test.csv\")\n",
    "df_train.head()"
   ]
  },
  {
   "cell_type": "code",
   "execution_count": 4,
   "id": "3e8a0bbe-7d6f-4f57-8736-11df4d169154",
   "metadata": {},
   "outputs": [
    {
     "data": {
      "text/html": [
       "<div>\n",
       "<style scoped>\n",
       "    .dataframe tbody tr th:only-of-type {\n",
       "        vertical-align: middle;\n",
       "    }\n",
       "\n",
       "    .dataframe tbody tr th {\n",
       "        vertical-align: top;\n",
       "    }\n",
       "\n",
       "    .dataframe thead th {\n",
       "        text-align: right;\n",
       "    }\n",
       "</style>\n",
       "<table border=\"1\" class=\"dataframe\">\n",
       "  <thead>\n",
       "    <tr style=\"text-align: right;\">\n",
       "      <th></th>\n",
       "      <th>PassengerId</th>\n",
       "      <th>Pclass</th>\n",
       "      <th>Name</th>\n",
       "      <th>Sex</th>\n",
       "      <th>Age</th>\n",
       "      <th>SibSp</th>\n",
       "      <th>Parch</th>\n",
       "      <th>Ticket</th>\n",
       "      <th>Fare</th>\n",
       "      <th>Cabin</th>\n",
       "      <th>Embarked</th>\n",
       "    </tr>\n",
       "  </thead>\n",
       "  <tbody>\n",
       "    <tr>\n",
       "      <th>0</th>\n",
       "      <td>892</td>\n",
       "      <td>3</td>\n",
       "      <td>Kelly, Mr. James</td>\n",
       "      <td>male</td>\n",
       "      <td>34.5</td>\n",
       "      <td>0</td>\n",
       "      <td>0</td>\n",
       "      <td>330911</td>\n",
       "      <td>7.8292</td>\n",
       "      <td>NaN</td>\n",
       "      <td>Q</td>\n",
       "    </tr>\n",
       "    <tr>\n",
       "      <th>1</th>\n",
       "      <td>893</td>\n",
       "      <td>3</td>\n",
       "      <td>Wilkes, Mrs. James (Ellen Needs)</td>\n",
       "      <td>female</td>\n",
       "      <td>47.0</td>\n",
       "      <td>1</td>\n",
       "      <td>0</td>\n",
       "      <td>363272</td>\n",
       "      <td>7.0000</td>\n",
       "      <td>NaN</td>\n",
       "      <td>S</td>\n",
       "    </tr>\n",
       "    <tr>\n",
       "      <th>2</th>\n",
       "      <td>894</td>\n",
       "      <td>2</td>\n",
       "      <td>Myles, Mr. Thomas Francis</td>\n",
       "      <td>male</td>\n",
       "      <td>62.0</td>\n",
       "      <td>0</td>\n",
       "      <td>0</td>\n",
       "      <td>240276</td>\n",
       "      <td>9.6875</td>\n",
       "      <td>NaN</td>\n",
       "      <td>Q</td>\n",
       "    </tr>\n",
       "    <tr>\n",
       "      <th>3</th>\n",
       "      <td>895</td>\n",
       "      <td>3</td>\n",
       "      <td>Wirz, Mr. Albert</td>\n",
       "      <td>male</td>\n",
       "      <td>27.0</td>\n",
       "      <td>0</td>\n",
       "      <td>0</td>\n",
       "      <td>315154</td>\n",
       "      <td>8.6625</td>\n",
       "      <td>NaN</td>\n",
       "      <td>S</td>\n",
       "    </tr>\n",
       "    <tr>\n",
       "      <th>4</th>\n",
       "      <td>896</td>\n",
       "      <td>3</td>\n",
       "      <td>Hirvonen, Mrs. Alexander (Helga E Lindqvist)</td>\n",
       "      <td>female</td>\n",
       "      <td>22.0</td>\n",
       "      <td>1</td>\n",
       "      <td>1</td>\n",
       "      <td>3101298</td>\n",
       "      <td>12.2875</td>\n",
       "      <td>NaN</td>\n",
       "      <td>S</td>\n",
       "    </tr>\n",
       "  </tbody>\n",
       "</table>\n",
       "</div>"
      ],
      "text/plain": [
       "   PassengerId  Pclass                                          Name     Sex  \\\n",
       "0          892       3                              Kelly, Mr. James    male   \n",
       "1          893       3              Wilkes, Mrs. James (Ellen Needs)  female   \n",
       "2          894       2                     Myles, Mr. Thomas Francis    male   \n",
       "3          895       3                              Wirz, Mr. Albert    male   \n",
       "4          896       3  Hirvonen, Mrs. Alexander (Helga E Lindqvist)  female   \n",
       "\n",
       "    Age  SibSp  Parch   Ticket     Fare Cabin Embarked  \n",
       "0  34.5      0      0   330911   7.8292   NaN        Q  \n",
       "1  47.0      1      0   363272   7.0000   NaN        S  \n",
       "2  62.0      0      0   240276   9.6875   NaN        Q  \n",
       "3  27.0      0      0   315154   8.6625   NaN        S  \n",
       "4  22.0      1      1  3101298  12.2875   NaN        S  "
      ]
     },
     "execution_count": 4,
     "metadata": {},
     "output_type": "execute_result"
    }
   ],
   "source": [
    "df_test.head()"
   ]
  },
  {
   "cell_type": "code",
   "execution_count": 5,
   "id": "60c84998-7d59-4366-8de6-9c4152cf29f1",
   "metadata": {},
   "outputs": [
    {
     "data": {
      "text/html": [
       "<div>\n",
       "<style scoped>\n",
       "    .dataframe tbody tr th:only-of-type {\n",
       "        vertical-align: middle;\n",
       "    }\n",
       "\n",
       "    .dataframe tbody tr th {\n",
       "        vertical-align: top;\n",
       "    }\n",
       "\n",
       "    .dataframe thead th {\n",
       "        text-align: right;\n",
       "    }\n",
       "</style>\n",
       "<table border=\"1\" class=\"dataframe\">\n",
       "  <thead>\n",
       "    <tr style=\"text-align: right;\">\n",
       "      <th></th>\n",
       "      <th>PassengerId</th>\n",
       "      <th>Survived</th>\n",
       "      <th>Pclass</th>\n",
       "      <th>Age</th>\n",
       "      <th>SibSp</th>\n",
       "      <th>Parch</th>\n",
       "      <th>Fare</th>\n",
       "    </tr>\n",
       "  </thead>\n",
       "  <tbody>\n",
       "    <tr>\n",
       "      <th>count</th>\n",
       "      <td>891.000000</td>\n",
       "      <td>891.000000</td>\n",
       "      <td>891.000000</td>\n",
       "      <td>714.000000</td>\n",
       "      <td>891.000000</td>\n",
       "      <td>891.000000</td>\n",
       "      <td>891.000000</td>\n",
       "    </tr>\n",
       "    <tr>\n",
       "      <th>mean</th>\n",
       "      <td>446.000000</td>\n",
       "      <td>0.383838</td>\n",
       "      <td>2.308642</td>\n",
       "      <td>29.699118</td>\n",
       "      <td>0.523008</td>\n",
       "      <td>0.381594</td>\n",
       "      <td>32.204208</td>\n",
       "    </tr>\n",
       "    <tr>\n",
       "      <th>std</th>\n",
       "      <td>257.353842</td>\n",
       "      <td>0.486592</td>\n",
       "      <td>0.836071</td>\n",
       "      <td>14.526497</td>\n",
       "      <td>1.102743</td>\n",
       "      <td>0.806057</td>\n",
       "      <td>49.693429</td>\n",
       "    </tr>\n",
       "    <tr>\n",
       "      <th>min</th>\n",
       "      <td>1.000000</td>\n",
       "      <td>0.000000</td>\n",
       "      <td>1.000000</td>\n",
       "      <td>0.420000</td>\n",
       "      <td>0.000000</td>\n",
       "      <td>0.000000</td>\n",
       "      <td>0.000000</td>\n",
       "    </tr>\n",
       "    <tr>\n",
       "      <th>25%</th>\n",
       "      <td>223.500000</td>\n",
       "      <td>0.000000</td>\n",
       "      <td>2.000000</td>\n",
       "      <td>20.125000</td>\n",
       "      <td>0.000000</td>\n",
       "      <td>0.000000</td>\n",
       "      <td>7.910400</td>\n",
       "    </tr>\n",
       "    <tr>\n",
       "      <th>50%</th>\n",
       "      <td>446.000000</td>\n",
       "      <td>0.000000</td>\n",
       "      <td>3.000000</td>\n",
       "      <td>28.000000</td>\n",
       "      <td>0.000000</td>\n",
       "      <td>0.000000</td>\n",
       "      <td>14.454200</td>\n",
       "    </tr>\n",
       "    <tr>\n",
       "      <th>75%</th>\n",
       "      <td>668.500000</td>\n",
       "      <td>1.000000</td>\n",
       "      <td>3.000000</td>\n",
       "      <td>38.000000</td>\n",
       "      <td>1.000000</td>\n",
       "      <td>0.000000</td>\n",
       "      <td>31.000000</td>\n",
       "    </tr>\n",
       "    <tr>\n",
       "      <th>max</th>\n",
       "      <td>891.000000</td>\n",
       "      <td>1.000000</td>\n",
       "      <td>3.000000</td>\n",
       "      <td>80.000000</td>\n",
       "      <td>8.000000</td>\n",
       "      <td>6.000000</td>\n",
       "      <td>512.329200</td>\n",
       "    </tr>\n",
       "  </tbody>\n",
       "</table>\n",
       "</div>"
      ],
      "text/plain": [
       "       PassengerId    Survived      Pclass         Age       SibSp  \\\n",
       "count   891.000000  891.000000  891.000000  714.000000  891.000000   \n",
       "mean    446.000000    0.383838    2.308642   29.699118    0.523008   \n",
       "std     257.353842    0.486592    0.836071   14.526497    1.102743   \n",
       "min       1.000000    0.000000    1.000000    0.420000    0.000000   \n",
       "25%     223.500000    0.000000    2.000000   20.125000    0.000000   \n",
       "50%     446.000000    0.000000    3.000000   28.000000    0.000000   \n",
       "75%     668.500000    1.000000    3.000000   38.000000    1.000000   \n",
       "max     891.000000    1.000000    3.000000   80.000000    8.000000   \n",
       "\n",
       "            Parch        Fare  \n",
       "count  891.000000  891.000000  \n",
       "mean     0.381594   32.204208  \n",
       "std      0.806057   49.693429  \n",
       "min      0.000000    0.000000  \n",
       "25%      0.000000    7.910400  \n",
       "50%      0.000000   14.454200  \n",
       "75%      0.000000   31.000000  \n",
       "max      6.000000  512.329200  "
      ]
     },
     "execution_count": 5,
     "metadata": {},
     "output_type": "execute_result"
    }
   ],
   "source": [
    "df_train.describe()"
   ]
  },
  {
   "cell_type": "code",
   "execution_count": 6,
   "id": "6a618b75-d242-4d1c-a832-098fc667db46",
   "metadata": {},
   "outputs": [
    {
     "data": {
      "text/html": [
       "<div>\n",
       "<style scoped>\n",
       "    .dataframe tbody tr th:only-of-type {\n",
       "        vertical-align: middle;\n",
       "    }\n",
       "\n",
       "    .dataframe tbody tr th {\n",
       "        vertical-align: top;\n",
       "    }\n",
       "\n",
       "    .dataframe thead th {\n",
       "        text-align: right;\n",
       "    }\n",
       "</style>\n",
       "<table border=\"1\" class=\"dataframe\">\n",
       "  <thead>\n",
       "    <tr style=\"text-align: right;\">\n",
       "      <th></th>\n",
       "      <th>Name</th>\n",
       "      <th>Sex</th>\n",
       "      <th>Ticket</th>\n",
       "      <th>Cabin</th>\n",
       "      <th>Embarked</th>\n",
       "    </tr>\n",
       "  </thead>\n",
       "  <tbody>\n",
       "    <tr>\n",
       "      <th>count</th>\n",
       "      <td>891</td>\n",
       "      <td>891</td>\n",
       "      <td>891</td>\n",
       "      <td>204</td>\n",
       "      <td>889</td>\n",
       "    </tr>\n",
       "    <tr>\n",
       "      <th>unique</th>\n",
       "      <td>891</td>\n",
       "      <td>2</td>\n",
       "      <td>681</td>\n",
       "      <td>147</td>\n",
       "      <td>3</td>\n",
       "    </tr>\n",
       "    <tr>\n",
       "      <th>top</th>\n",
       "      <td>Braund, Mr. Owen Harris</td>\n",
       "      <td>male</td>\n",
       "      <td>347082</td>\n",
       "      <td>B96 B98</td>\n",
       "      <td>S</td>\n",
       "    </tr>\n",
       "    <tr>\n",
       "      <th>freq</th>\n",
       "      <td>1</td>\n",
       "      <td>577</td>\n",
       "      <td>7</td>\n",
       "      <td>4</td>\n",
       "      <td>644</td>\n",
       "    </tr>\n",
       "  </tbody>\n",
       "</table>\n",
       "</div>"
      ],
      "text/plain": [
       "                           Name   Sex  Ticket    Cabin Embarked\n",
       "count                       891   891     891      204      889\n",
       "unique                      891     2     681      147        3\n",
       "top     Braund, Mr. Owen Harris  male  347082  B96 B98        S\n",
       "freq                          1   577       7        4      644"
      ]
     },
     "execution_count": 6,
     "metadata": {},
     "output_type": "execute_result"
    }
   ],
   "source": [
    "df_train.describe(include=['O'])"
   ]
  },
  {
   "cell_type": "code",
   "execution_count": 7,
   "id": "e9e245ce-50ee-4c8f-9407-79922d780a84",
   "metadata": {},
   "outputs": [
    {
     "name": "stdout",
     "output_type": "stream",
     "text": [
      "<class 'pandas.core.frame.DataFrame'>\n",
      "RangeIndex: 891 entries, 0 to 890\n",
      "Data columns (total 12 columns):\n",
      " #   Column       Non-Null Count  Dtype  \n",
      "---  ------       --------------  -----  \n",
      " 0   PassengerId  891 non-null    int64  \n",
      " 1   Survived     891 non-null    int64  \n",
      " 2   Pclass       891 non-null    int64  \n",
      " 3   Name         891 non-null    object \n",
      " 4   Sex          891 non-null    object \n",
      " 5   Age          714 non-null    float64\n",
      " 6   SibSp        891 non-null    int64  \n",
      " 7   Parch        891 non-null    int64  \n",
      " 8   Ticket       891 non-null    object \n",
      " 9   Fare         891 non-null    float64\n",
      " 10  Cabin        204 non-null    object \n",
      " 11  Embarked     889 non-null    object \n",
      "dtypes: float64(2), int64(5), object(5)\n",
      "memory usage: 83.7+ KB\n"
     ]
    }
   ],
   "source": [
    "df_train.info()"
   ]
  },
  {
   "cell_type": "code",
   "execution_count": 8,
   "id": "5428dd1d-cdb4-483d-b2ab-f39d32212eec",
   "metadata": {},
   "outputs": [
    {
     "data": {
      "text/plain": [
       "0    608\n",
       "1    209\n",
       "2     28\n",
       "4     18\n",
       "3     16\n",
       "8      7\n",
       "5      5\n",
       "Name: SibSp, dtype: int64"
      ]
     },
     "execution_count": 8,
     "metadata": {},
     "output_type": "execute_result"
    }
   ],
   "source": [
    "df_train[\"SibSp\"].value_counts()"
   ]
  },
  {
   "cell_type": "code",
   "execution_count": 9,
   "id": "e1be743d-94ad-4c73-a3f0-f715788e4f8b",
   "metadata": {},
   "outputs": [
    {
     "data": {
      "text/plain": [
       "0    678\n",
       "1    118\n",
       "2     80\n",
       "5      5\n",
       "3      5\n",
       "4      4\n",
       "6      1\n",
       "Name: Parch, dtype: int64"
      ]
     },
     "execution_count": 9,
     "metadata": {},
     "output_type": "execute_result"
    }
   ],
   "source": [
    "df_train[\"Parch\"].value_counts()"
   ]
  },
  {
   "cell_type": "markdown",
   "id": "90838afc-0819-4f56-a629-80d4fc480811",
   "metadata": {},
   "source": [
    "## Plots"
   ]
  },
  {
   "cell_type": "code",
   "execution_count": 10,
   "id": "0f55a852-bf45-4b95-820f-08284dbb2719",
   "metadata": {},
   "outputs": [
    {
     "data": {
      "image/png": "[encoded data removed]",
      "text/plain": [
       "<Figure size 720x576 with 1 Axes>"
      ]
     },
     "metadata": {},
     "output_type": "display_data"
    }
   ],
   "source": [
    "# SEE THE PERCENTAGE OF DEATHS AND SURVIVED PEOPLE\n",
    "fig = plt.figure(figsize=(10, 8))\n",
    "plt.pie(df_train[\"Survived\"].value_counts(), labels=[\"Death\", \"Survived\"] ,autopct='%.0f%%')\n",
    "plt.show()"
   ]
  },
  {
   "cell_type": "code",
   "execution_count": 11,
   "id": "c1e8ba0e-da74-4c76-9376-567b86528977",
   "metadata": {},
   "outputs": [
    {
     "data": {
      "text/plain": [
       "<AxesSubplot:xlabel='Sex', ylabel='Survived'>"
      ]
     },
     "execution_count": 11,
     "metadata": {},
     "output_type": "execute_result"
    },
    {
     "data": {
      "image/png": "[encoded data removed]",
      "text/plain": [
       "<Figure size 720x576 with 1 Axes>"
      ]
     },
     "metadata": {},
     "output_type": "display_data"
    }
   ],
   "source": [
    "# NOW DIVIDED BY SEX\n",
    "# FEMALE HAVE TH GREATEST NUMBER OF SURVIVED, AND IS A BIG DIFFERENCE\n",
    "fig = plt.figure(figsize=(10, 8))\n",
    "sns.barplot(data=df_train, y=\"Survived\", x=\"Sex\", ci=False)"
   ]
  },
  {
   "cell_type": "code",
   "execution_count": 12,
   "id": "cb8f4b30-7c85-43f5-bd80-84c7ef05f5a4",
   "metadata": {},
   "outputs": [
    {
     "data": {
      "image/png": "[encoded data removed]",
      "text/plain": [
       "<Figure size 1008x360 with 4 Axes>"
      ]
     },
     "metadata": {},
     "output_type": "display_data"
    }
   ],
   "source": [
    "# CHECK OUTLIERS\n",
    "# I WILL NOT REMOVE ANY OF THEN, BECAUSE I THINK THAT IT VARIABLES CAN BE USEFUL\n",
    "numerical_features = ['Age', 'SibSp', 'Parch', 'Fare']\n",
    "categorical_features = ['Pclass', 'Sex', 'Embarked']\n",
    "\n",
    "plt.figure(figsize=(14,5))\n",
    "for i, feature in enumerate(numerical_features):\n",
    "    plt.subplot(1, 4, i+1)\n",
    "    sns.boxplot(data=df_train, y=feature, color=np.random.randint([255,255,255])/255)\n",
    "    plt.xlabel(feature)"
   ]
  },
  {
   "cell_type": "code",
   "execution_count": 13,
   "id": "d65bd933-8b23-4a6f-8638-6d97fa56e3c9",
   "metadata": {},
   "outputs": [
    {
     "data": {
      "image/png": "[encoded data removed]",
      "text/plain": [
       "<Figure size 1296x360 with 3 Axes>"
      ]
     },
     "metadata": {},
     "output_type": "display_data"
    }
   ],
   "source": [
    "# HERE WE CAN SEE THE AMOUNT OF PEOPLE DIVIDED FOR CLASS, SEX, AND EMBARKED \n",
    "# THE CLASS 3, THE MALE GENRE, AND WHO EMBARKED ON S HAVE THE GREATEST AMOUNT OF PEOPLE\n",
    "plt.figure(figsize=(18,5))\n",
    "for i, feature in enumerate(categorical_features):\n",
    "    plt.subplot(1, 4, i+1)\n",
    "    sns.countplot(data=df_train, x=feature)\n",
    "    plt.xlabel(feature)"
   ]
  },
  {
   "cell_type": "code",
   "execution_count": 14,
   "id": "38ada118-20b2-4cbc-a6d5-295bfe75e92b",
   "metadata": {},
   "outputs": [
    {
     "data": {
      "image/png": "[encoded data removed]",
      "text/plain": [
       "<Figure size 1080x360 with 3 Axes>"
      ]
     },
     "metadata": {},
     "output_type": "display_data"
    }
   ],
   "source": [
    "# CHECK SURVIVED BY SEX AND DIVIDED BY CLASS\n",
    "# IN ALL CLASS FEMALE HAVE THE GREATES PROPORTION OF SURVIVED\n",
    "grid = sns.FacetGrid(data=df_train, col=\"Pclass\", height=5)\n",
    "grid.map(sns.barplot, \"Sex\", \"Survived\", ci=False, order=['female', 'male'])\n",
    "plt.show()"
   ]
  },
  {
   "cell_type": "code",
   "execution_count": 15,
   "id": "2e431d8e-c840-42d5-974b-274504044743",
   "metadata": {},
   "outputs": [
    {
     "data": {
      "image/png": "[encoded data removed]",
      "text/plain": [
       "<Figure size 1080x360 with 3 Axes>"
      ]
     },
     "metadata": {},
     "output_type": "display_data"
    }
   ],
   "source": [
    "# COUNT THE AMOUNT OF DEATH/SURVIVED DIVIDED BY CLASS\n",
    "# THE CLASS 3 HAVE THE LARGEST AMOUNT OF DEATH, THE LESS AMOUNT IS IN CLASS 1, ALONG WITH THE LARGET AMOUNT OF SURVIVED\n",
    "grid = sns.FacetGrid(data=df_train, col=\"Pclass\", height=5)\n",
    "grid.map(sns.countplot, \"Survived\", order=[0, 1])\n",
    "plt.show()"
   ]
  },
  {
   "cell_type": "code",
   "execution_count": 16,
   "id": "d4bf83fc-74cc-431e-a579-2b453bba4c32",
   "metadata": {},
   "outputs": [
    {
     "data": {
      "image/png": "[encoded data removed]",
      "text/plain": [
       "<Figure size 720x576 with 1 Axes>"
      ]
     },
     "metadata": {},
     "output_type": "display_data"
    }
   ],
   "source": [
    "fig = plt.figure(figsize=(10,8))\n",
    "sns.barplot(data=df_train, x=\"Pclass\", y=\"Survived\", ci=False)\n",
    "plt.show()"
   ]
  },
  {
   "cell_type": "code",
   "execution_count": 17,
   "id": "04d1d8b9-4721-4469-9cf4-6adf74796b44",
   "metadata": {},
   "outputs": [
    {
     "data": {
      "image/png": "[encoded data removed]",
      "text/plain": [
       "<Figure size 1080x432 with 2 Axes>"
      ]
     },
     "metadata": {},
     "output_type": "display_data"
    }
   ],
   "source": [
    "plt.figure(figsize=(15,6))\n",
    "plt.subplot(1, 2, 1)\n",
    "sns.barplot(data=df_train, x=\"SibSp\", y=\"Survived\", ci=False)\n",
    "plt.title(\"SibSp x Survived\")\n",
    "\n",
    "plt.subplot(1, 2, 2)\n",
    "sns.barplot(data=df_train, x=\"Parch\", y=\"Survived\", ci=False)\n",
    "plt.title(\"Parch x Survived\")\n",
    "\n",
    "plt.show()"
   ]
  },
  {
   "cell_type": "code",
   "execution_count": 18,
   "id": "2920f23f-64b0-49b3-9b4f-24c0540fb665",
   "metadata": {},
   "outputs": [
    {
     "data": {
      "text/plain": [
       "Text(0.5, 1.0, 'SibSp x Survived x Sex')"
      ]
     },
     "execution_count": 18,
     "metadata": {},
     "output_type": "execute_result"
    },
    {
     "data": {
      "image/png": "[encoded data removed]",
      "text/plain": [
       "<Figure size 1080x432 with 2 Axes>"
      ]
     },
     "metadata": {},
     "output_type": "display_data"
    }
   ],
   "source": [
    "# SibSp x Survived x Sex\n",
    "plt.figure(figsize=(15,6))\n",
    "\n",
    "plt.subplot(1, 2, 1)\n",
    "sns.barplot(data=df_train, x=\"SibSp\", y=\"Survived\", ci=False, hue=\"Sex\")\n",
    "plt.title(\"SibSp x Survived x Sex\")\n",
    "\n",
    "plt.subplot(1, 2, 2)\n",
    "sns.barplot(data=df_train, x=\"Parch\", y=\"Survived\", ci=False, hue=\"Sex\")\n",
    "plt.title(\"SibSp x Survived x Sex\")"
   ]
  },
  {
   "cell_type": "markdown",
   "id": "5aecc704-ceb1-4e49-aa79-7609957f8a40",
   "metadata": {},
   "source": [
    "## Age"
   ]
  },
  {
   "cell_type": "code",
   "execution_count": 19,
   "id": "f844807c-f2d4-4e92-acfe-4ccd139bfe93",
   "metadata": {},
   "outputs": [
    {
     "data": {
      "image/png": "[encoded data removed]",
      "text/plain": [
       "<Figure size 864x576 with 1 Axes>"
      ]
     },
     "metadata": {},
     "output_type": "display_data"
    }
   ],
   "source": [
    "# SURVIVED x AGE\n",
    "# WE CAN SEE THAT THE BIG AMOUNT OF DEATH AND SURVIVE OCCOUR IN THE RANGE OF ABOUT 16 UNTIL ABOUT 36\n",
    "plt.figure(figsize=(12,8))\n",
    "sns.histplot(data=df_train, x=\"Age\", hue=\"Survived\")\n",
    "plt.title(\"Survived x Age\")\n",
    "plt.show()"
   ]
  },
  {
   "cell_type": "code",
   "execution_count": 20,
   "id": "eac4f45d-468f-40fc-9749-6dd11fcef965",
   "metadata": {},
   "outputs": [
    {
     "data": {
      "image/png": "[encoded data removed]",
      "text/plain": [
       "<Figure size 864x432 with 2 Axes>"
      ]
     },
     "metadata": {},
     "output_type": "display_data"
    }
   ],
   "source": [
    "# DIVIDE BY SEX WE CAN SEE THAT THE DEATH MAJORITY IS MALE AND MAJORITY SURVIVED IS FEMALE\n",
    "grid = sns.FacetGrid(data=df_train, col=\"Sex\", hue=\"Survived\", height=6)\n",
    "grid.map(sns.histplot, \"Age\")\n",
    "plt.title(\"Survived x Age x Sex\")\n",
    "plt.legend()\n",
    "plt.show()"
   ]
  },
  {
   "cell_type": "code",
   "execution_count": 21,
   "id": "c7daad6f-f63e-49eb-815b-d4808caac295",
   "metadata": {},
   "outputs": [
    {
     "data": {
      "image/png": "[encoded data removed]",
      "text/plain": [
       "<Figure size 576x864 with 6 Axes>"
      ]
     },
     "metadata": {},
     "output_type": "display_data"
    }
   ],
   "source": [
    "# SEEING BY CLASS WOMEN IN THE CLASS 1 AND 2 HAVE A BIG AMOUNT OF SURVIVE, THE MAJORITY DEATH OCCOUR IN THE CLASS 3.\n",
    "# FOR THE MEN THE CLASS 1 HAVE THE AMOUNT OF SURVIVE, CLASS 2 THE DEATH INCREASES AND IN CLASS 3 THE MAJORITY DEATH OCCOUR\n",
    "grid = sns.FacetGrid(data=df_train, col=\"Sex\", row=\"Pclass\", hue=\"Survived\", height=4)\n",
    "grid.map(sns.histplot, \"Age\")\n",
    "plt.legend()\n",
    "plt.show()"
   ]
  },
  {
   "cell_type": "markdown",
   "id": "eee34659-d62e-4c59-bbf7-a9c593710151",
   "metadata": {},
   "source": [
    "## Fare"
   ]
  },
  {
   "cell_type": "code",
   "execution_count": 22,
   "id": "888f1f7c-ef62-4bb1-a252-edc12c8b51bf",
   "metadata": {},
   "outputs": [
    {
     "data": {
      "image/png": "[encoded data removed]",
      "text/plain": [
       "<Figure size 864x576 with 1 Axes>"
      ]
     },
     "metadata": {},
     "output_type": "display_data"
    }
   ],
   "source": [
    "plt.figure(figsize=(12,8))\n",
    "sns.histplot(data=df_train, x=\"Fare\", hue=\"Survived\")\n",
    "plt.title(\"Survived x Fare\")\n",
    "plt.show()"
   ]
  },
  {
   "cell_type": "code",
   "execution_count": 23,
   "id": "839e73cc-3c64-49d2-92ac-3f8ca595ea95",
   "metadata": {},
   "outputs": [
    {
     "data": {
      "image/png": "[encoded data removed]",
      "text/plain": [
       "<Figure size 720x360 with 2 Axes>"
      ]
     },
     "metadata": {},
     "output_type": "display_data"
    }
   ],
   "source": [
    "grid = sns.FacetGrid(data=df_train, col=\"Sex\", hue=\"Survived\", height=5)\n",
    "grid.map(sns.histplot, \"Fare\")\n",
    "plt.legend()\n",
    "plt.show()"
   ]
  },
  {
   "cell_type": "code",
   "execution_count": 24,
   "id": "10b96f34-38e6-4e80-a919-f86f5e54bfab",
   "metadata": {},
   "outputs": [
    {
     "data": {
      "image/png": "[encoded data removed]",
      "text/plain": [
       "<Figure size 720x360 with 2 Axes>"
      ]
     },
     "metadata": {},
     "output_type": "display_data"
    }
   ],
   "source": [
    "# EXISTS SOME VALUES THAT ARE MUCH HIGH, I WILL PLOT WITHOUT THIS VALUES TO SEE THE DISTRIBUTION\n",
    "# PEOPLE THAT PAY LESS THAN 30 HAVE A GREATEST AMOUNT OF DEATH, AND LESS THAN 10 HAVE THE GREATEST MAJORITY OF DEATH\n",
    "grid = sns.FacetGrid(data=df_train.loc[df_train[\"Fare\"] < 200], col=\"Sex\", hue=\"Survived\", height=5)\n",
    "grid.map(sns.histplot, \"Fare\")\n",
    "plt.legend()\n",
    "plt.show()"
   ]
  },
  {
   "cell_type": "markdown",
   "id": "c9f3ee05-ca02-46f6-9d20-1e75c93a211e",
   "metadata": {},
   "source": [
    "## Embarked"
   ]
  },
  {
   "cell_type": "code",
   "execution_count": 25,
   "id": "208112bc-39f3-47bf-bbbe-fe419d4823ce",
   "metadata": {},
   "outputs": [
    {
     "data": {
      "text/plain": [
       "<AxesSubplot:xlabel='Embarked', ylabel='Survived'>"
      ]
     },
     "execution_count": 25,
     "metadata": {},
     "output_type": "execute_result"
    },
    {
     "data": {
      "image/png": "[encoded data removed]",
      "text/plain": [
       "<Figure size 720x432 with 1 Axes>"
      ]
     },
     "metadata": {},
     "output_type": "display_data"
    }
   ],
   "source": [
    "plt.figure(figsize=(10,6))\n",
    "sns.barplot(data=df_train, x=\"Embarked\", y=\"Survived\", ci=False)"
   ]
  },
  {
   "cell_type": "code",
   "execution_count": 26,
   "id": "50500ff0-e935-4fde-bded-1b48b5751d3d",
   "metadata": {},
   "outputs": [
    {
     "data": {
      "text/plain": [
       "<AxesSubplot:xlabel='Embarked', ylabel='count'>"
      ]
     },
     "execution_count": 26,
     "metadata": {},
     "output_type": "execute_result"
    },
    {
     "data": {
      "image/png": "[encoded data removed]",
      "text/plain": [
       "<Figure size 720x432 with 1 Axes>"
      ]
     },
     "metadata": {},
     "output_type": "display_data"
    }
   ],
   "source": [
    "plt.figure(figsize=(10,6))\n",
    "sns.countplot(data=df_train, x=\"Embarked\", hue=\"Survived\")"
   ]
  },
  {
   "cell_type": "code",
   "execution_count": 27,
   "id": "fc181e03-c42a-44a6-926c-604278f3eded",
   "metadata": {},
   "outputs": [
    {
     "data": {
      "text/plain": [
       "<seaborn.axisgrid.FacetGrid at 0x7f92b8516518>"
      ]
     },
     "execution_count": 27,
     "metadata": {},
     "output_type": "execute_result"
    },
    {
     "data": {
      "image/png": "[encoded data removed]",
      "text/plain": [
       "<Figure size 1080x360 with 3 Axes>"
      ]
     },
     "metadata": {},
     "output_type": "display_data"
    }
   ],
   "source": [
    "grid = sns.FacetGrid(data=df_train, col=\"Pclass\", height=5)\n",
    "grid.map(sns.barplot, \"Embarked\", \"Survived\", ci=False, order=[\"S\", \"Q\", \"C\"])"
   ]
  },
  {
   "cell_type": "markdown",
   "id": "aefd03c2-8cfd-4dc6-a4d1-6ca23b1499a9",
   "metadata": {},
   "source": [
    "## Data Clean and Transform"
   ]
  },
  {
   "cell_type": "code",
   "execution_count": 28,
   "id": "012bb679-7ead-4ff5-8fb6-96c64a596573",
   "metadata": {},
   "outputs": [],
   "source": [
    "# FIRST I WILL REMOTE ALL FEATURES THAT I THINK NOT WILL BE USEFULL\n",
    "# I WILL REMOVE THE PassengerId, Name, Ticket, and Cabin\n",
    "remove_features_train = [\"PassengerId\", \"Name\", \"Ticket\", \"Cabin\"]\n",
    "remove_features_test = [\"Name\", \"Ticket\", \"Cabin\"]\n",
    "df_train = df_train.drop(remove_features_train, axis=1)\n",
    "df_test = df_test.drop(remove_features_test, axis=1)"
   ]
  },
  {
   "cell_type": "markdown",
   "id": "b2c02edb-f9cf-4b4b-8c04-9afdfe664c95",
   "metadata": {},
   "source": [
    "### Missing Values - Age"
   ]
  },
  {
   "cell_type": "code",
   "execution_count": 29,
   "id": "81b5d89c-b6e3-4bb2-a8ce-eeaa6817e586",
   "metadata": {},
   "outputs": [
    {
     "name": "stdout",
     "output_type": "stream",
     "text": [
      "\u001b[1m Missing Age Values\u001b[0m\n",
      "Total: 177\n"
     ]
    }
   ],
   "source": [
    "print(f\"\\033[1m Missing Age Values\\033[0m\")\n",
    "print(f\"Total: {df_train['Age'].isnull().sum()}\")"
   ]
  },
  {
   "cell_type": "code",
   "execution_count": 30,
   "id": "7b0b5cff-2d68-46c0-8584-25959d2ac69c",
   "metadata": {},
   "outputs": [],
   "source": [
    "# THE AGE FEATURES HAVE SOME MISSING VALUES\n",
    "# I ADD TO THIS LINES THE MEAN OF AGE BASED ON THE SEX\n",
    "\n",
    "# USE ALL AGES (THE TRAIN AND TEST) TO CALCULATE THE MEAN\n",
    "df_temp = pd.concat([df_train, df_test])\n",
    "\n",
    "# GET MEAN\n",
    "age_female_mean = df_temp.groupby(\"Sex\")[\"Age\"].mean()[\"female\"]\n",
    "age_male_mean = df_temp.groupby(\"Sex\")[\"Age\"].mean()[\"male\"]\n",
    "\n",
    "missing_female_before = df_train.loc[(df_train[\"Sex\"] == \"female\") & (df_train[\"Age\"].isnull())].shape[0]\n",
    "missing_male_before = df_train.loc[(df_train[\"Sex\"] == \"male\") & (df_train[\"Age\"].isnull())].shape[0]"
   ]
  },
  {
   "cell_type": "code",
   "execution_count": 31,
   "id": "e045f62e-7f51-4384-a81d-ce048bfda65b",
   "metadata": {},
   "outputs": [
    {
     "name": "stdout",
     "output_type": "stream",
     "text": [
      "\u001b[1mMissing Age Values\u001b[0m\n",
      "Before: female - 53, male: 124.\n",
      "After:  female - 0, male: 0.\n"
     ]
    }
   ],
   "source": [
    "# TRAIN DATASET\n",
    "df_train.loc[(df_train[\"Sex\"] == \"male\") & (df_train[\"Age\"].isnull()), \"Age\"] = age_male_mean\n",
    "df_train.loc[(df_train[\"Sex\"] == \"female\") & (df_train[\"Age\"].isnull()), \"Age\"] = age_female_mean\n",
    "\n",
    "# TEST DATASET\n",
    "df_test.loc[(df_test[\"Sex\"] == \"male\") & (df_test[\"Age\"].isnull()), \"Age\"] = age_male_mean\n",
    "df_test.loc[(df_test[\"Sex\"] == \"female\") & (df_test[\"Age\"].isnull()), \"Age\"] = age_female_mean\n",
    "\n",
    "missing_female_after = df_train.loc[(df_train[\"Sex\"] == \"female\") & (df_train[\"Age\"].isnull())].shape[0]\n",
    "missing_male_after = df_train.loc[(df_train[\"Sex\"] == \"male\") & (df_train[\"Age\"].isnull())].shape[0]\n",
    "\n",
    "print(\"\\033[1mMissing Age Values\\033[0m\")\n",
    "print(f\"Before: female - {missing_female_before}, male: {missing_male_before}.\")\n",
    "print(f\"After:  female - {missing_female_after}, male: {missing_male_after}.\")"
   ]
  },
  {
   "cell_type": "markdown",
   "id": "039632af-7014-499b-b00b-4a7c4d4bf6d1",
   "metadata": {},
   "source": [
    "### Missing Values - Cabin"
   ]
  },
  {
   "cell_type": "code",
   "execution_count": 32,
   "id": "3ffa7f31-75bc-4f59-ab45-acf1d17887f3",
   "metadata": {},
   "outputs": [
    {
     "name": "stdout",
     "output_type": "stream",
     "text": [
      "\u001b[1mMissing Embarked Values\u001b[0m\n",
      "Total: 2\n"
     ]
    }
   ],
   "source": [
    "# THE CABIN FEATURE HAVE A SMALL AMOUNT OF MISSING VALUES, BECAUSE OF THIS I WILL REMOVE THESE LINES\n",
    "print(f\"\\33[1mMissing Embarked Values\\33[0m\")\n",
    "print(f\"Total: {df_temp['Embarked'].isnull().sum()}\")"
   ]
  },
  {
   "cell_type": "code",
   "execution_count": 33,
   "id": "d4cc62c1-0891-4e60-9f92-4843bd40c044",
   "metadata": {},
   "outputs": [],
   "source": [
    "# REMOVE MISSING Embarked ROWS\n",
    "df_train = df_train.loc[~df_train[\"Embarked\"].isnull()]\n",
    "df_test = df_test.loc[~df_test[\"Embarked\"].isnull()]"
   ]
  },
  {
   "cell_type": "code",
   "execution_count": 34,
   "id": "e8ac183d-1b81-4ae4-b27f-cb57e504c71f",
   "metadata": {},
   "outputs": [],
   "source": [
    "# RESET THE INDEX\n",
    "df_train = df_train.reset_index(drop=True)\n",
    "df_test = df_test.reset_index(drop=True)"
   ]
  },
  {
   "cell_type": "code",
   "execution_count": 35,
   "id": "560f6dd8-6bb7-40f5-be7c-86b620f69eb4",
   "metadata": {},
   "outputs": [
    {
     "name": "stdout",
     "output_type": "stream",
     "text": [
      "<class 'pandas.core.frame.DataFrame'>\n",
      "RangeIndex: 889 entries, 0 to 888\n",
      "Data columns (total 8 columns):\n",
      " #   Column    Non-Null Count  Dtype  \n",
      "---  ------    --------------  -----  \n",
      " 0   Survived  889 non-null    int64  \n",
      " 1   Pclass    889 non-null    int64  \n",
      " 2   Sex       889 non-null    object \n",
      " 3   Age       889 non-null    float64\n",
      " 4   SibSp     889 non-null    int64  \n",
      " 5   Parch     889 non-null    int64  \n",
      " 6   Fare      889 non-null    float64\n",
      " 7   Embarked  889 non-null    object \n",
      "dtypes: float64(2), int64(4), object(2)\n",
      "memory usage: 55.7+ KB\n"
     ]
    }
   ],
   "source": [
    "df_train.info()"
   ]
  },
  {
   "cell_type": "markdown",
   "id": "015f6fff-8fbd-473a-91c0-efd063b034d3",
   "metadata": {},
   "source": [
    "### Change Sex Values"
   ]
  },
  {
   "cell_type": "markdown",
   "id": "5db23164-5c52-4906-8242-a3d6df59fb16",
   "metadata": {},
   "source": [
    "### Sex"
   ]
  },
  {
   "cell_type": "code",
   "execution_count": 36,
   "id": "d98a55b4-3a56-479f-997f-633901cbb6d3",
   "metadata": {},
   "outputs": [],
   "source": [
    "# MAP female TO 1 AND male TO 0\n",
    "sex_map = {\"male\" : 0, \"female\" : 1}\n",
    "df_train[\"Sex\"] = df_train[\"Sex\"].map(sex_map)\n",
    "df_test[\"Sex\"] = df_test[\"Sex\"].map(sex_map)"
   ]
  },
  {
   "cell_type": "markdown",
   "id": "8e1e8e5b-d62b-4921-915b-3302e1d83519",
   "metadata": {},
   "source": [
    "## Embarked"
   ]
  },
  {
   "cell_type": "code",
   "execution_count": 37,
   "id": "f648e724-b3b0-43a6-88e7-7b26602d7a38",
   "metadata": {},
   "outputs": [],
   "source": [
    "embarked_map = {\"S\": 0, \"C\": 1, \"Q\": 2}\n",
    "df_train[\"Embarked\"] = df_train[\"Embarked\"].map(embarked_map)\n",
    "df_test[\"Embarked\"] = df_test[\"Embarked\"].map(embarked_map)"
   ]
  },
  {
   "cell_type": "markdown",
   "id": "59c4168c-e8ec-4ae7-a1af-c772bc915357",
   "metadata": {},
   "source": [
    "### Age"
   ]
  },
  {
   "cell_type": "code",
   "execution_count": 38,
   "id": "b46decb2-1283-4fca-9b0a-16a8a13e8c6d",
   "metadata": {},
   "outputs": [
    {
     "data": {
      "text/plain": [
       "(0.169, 19.0]    225\n",
       "(19.0, 25.0]     218\n",
       "(31.0, 42.0]     217\n",
       "(42.0, 80.0]     195\n",
       "(25.0, 31.0]     191\n",
       "Name: Age, dtype: int64"
      ]
     },
     "execution_count": 38,
     "metadata": {},
     "output_type": "execute_result"
    }
   ],
   "source": [
    "# NOW I WILL TO TRANSFORM THE AGE AND FIRE, I WILL CREATE RANGES OF AGES AND FIRE USING qcut\n",
    "pd.qcut(df_temp[\"Age\"], 5).value_counts()"
   ]
  },
  {
   "cell_type": "code",
   "execution_count": 39,
   "id": "6601b0f1-ed2d-4d41-a1a3-a1c96250d79a",
   "metadata": {},
   "outputs": [],
   "source": [
    "# [0.419, 19.0] = 0 \n",
    "# [19.0, 25.0] = 1\n",
    "# [25.0, 31.0] = 2\n",
    "# [31.0, 42.0] = 3\n",
    "# [42.0, 80.0] = 4\n",
    "\n",
    "df_train.loc[(df_train[\"Age\"] >= 0) & (df_train[\"Age\"] < 19), \"Age\"] = 0 \n",
    "df_train.loc[(df_train[\"Age\"] >= 19) & (df_train[\"Age\"] < 25), \"Age\"] = 1\n",
    "df_train.loc[(df_train[\"Age\"] >= 25) & (df_train[\"Age\"] < 32), \"Age\"] = 2\n",
    "df_train.loc[(df_train[\"Age\"] >= 32) & (df_train[\"Age\"] < 42), \"Age\"] = 3\n",
    "df_train.loc[(df_train[\"Age\"] >= 42), \"Age\"] = 4\n",
    "\n",
    "df_test.loc[(df_test[\"Age\"] >= 0) & (df_test[\"Age\"] < 19), \"Age\"] = 0 \n",
    "df_test.loc[(df_test[\"Age\"] >= 19) & (df_test[\"Age\"] < 25), \"Age\"] = 1\n",
    "df_test.loc[(df_test[\"Age\"] >= 25) & (df_test[\"Age\"] < 32), \"Age\"] = 2\n",
    "df_test.loc[(df_test[\"Age\"] >= 32) & (df_test[\"Age\"] < 42), \"Age\"] = 3\n",
    "df_test.loc[(df_test[\"Age\"] >= 42), \"Age\"] = 4"
   ]
  },
  {
   "cell_type": "markdown",
   "id": "fa78c643-7a36-4de5-a4c2-12ff83d3d8b7",
   "metadata": {},
   "source": [
    "## Fare"
   ]
  },
  {
   "cell_type": "code",
   "execution_count": 40,
   "id": "4b0b61db-0913-4d64-863a-fc931e7eee12",
   "metadata": {},
   "outputs": [
    {
     "data": {
      "text/plain": [
       "(-0.001, 7.854]      275\n",
       "(21.679, 41.579]     262\n",
       "(41.579, 512.329]    259\n",
       "(10.5, 21.679]       258\n",
       "(7.854, 10.5]        254\n",
       "Name: Fare, dtype: int64"
      ]
     },
     "execution_count": 40,
     "metadata": {},
     "output_type": "execute_result"
    }
   ],
   "source": [
    "pd.qcut(df_temp[\"Fare\"], 5).value_counts()"
   ]
  },
  {
   "cell_type": "code",
   "execution_count": 41,
   "id": "bdf66332-f0ee-40d6-991a-ff7f7a8339b2",
   "metadata": {},
   "outputs": [],
   "source": [
    "# -0.001, 8]\n",
    "# 8, 11]\n",
    "# 11, 22]\n",
    "# 22, 42]\n",
    "# 41.579, 512.329]\n",
    "\n",
    "df_train.loc[(df_train[\"Fare\"] >= 0) & (df_train[\"Fare\"] < 8), \"Fare\"] = 0 \n",
    "df_train.loc[(df_train[\"Fare\"] >= 8) & (df_train[\"Fare\"] < 11), \"Fare\"] = 1\n",
    "df_train.loc[(df_train[\"Fare\"] >= 11) & (df_train[\"Fare\"] < 22), \"Fare\"] = 2\n",
    "df_train.loc[(df_train[\"Fare\"] >= 22) & (df_train[\"Fare\"] < 42), \"Fare\"] = 3\n",
    "df_train.loc[(df_train[\"Fare\"] >= 42), \"Fare\"] = 4\n",
    "\n",
    "df_test.loc[(df_test[\"Fare\"] >= 0) & (df_test[\"Fare\"] < 8), \"Fare\"] = 0 \n",
    "df_test.loc[(df_test[\"Fare\"] >= 8) & (df_test[\"Fare\"] < 11), \"Fare\"] = 1\n",
    "df_test.loc[(df_test[\"Fare\"] >= 11) & (df_test[\"Fare\"] < 22), \"Fare\"] = 2\n",
    "df_test.loc[(df_test[\"Fare\"] >= 22) & (df_test[\"Fare\"] < 42), \"Fare\"] = 3\n",
    "df_test.loc[(df_test[\"Fare\"] >= 42), \"Fare\"] = 4"
   ]
  },
  {
   "cell_type": "code",
   "execution_count": 42,
   "id": "586a5350-b233-46bf-a433-d90368ee2bf6",
   "metadata": {},
   "outputs": [
    {
     "data": {
      "text/html": [
       "<div>\n",
       "<style scoped>\n",
       "    .dataframe tbody tr th:only-of-type {\n",
       "        vertical-align: middle;\n",
       "    }\n",
       "\n",
       "    .dataframe tbody tr th {\n",
       "        vertical-align: top;\n",
       "    }\n",
       "\n",
       "    .dataframe thead th {\n",
       "        text-align: right;\n",
       "    }\n",
       "</style>\n",
       "<table border=\"1\" class=\"dataframe\">\n",
       "  <thead>\n",
       "    <tr style=\"text-align: right;\">\n",
       "      <th></th>\n",
       "      <th>Survived</th>\n",
       "      <th>Pclass</th>\n",
       "      <th>Sex</th>\n",
       "      <th>Age</th>\n",
       "      <th>SibSp</th>\n",
       "      <th>Parch</th>\n",
       "      <th>Fare</th>\n",
       "      <th>Embarked</th>\n",
       "    </tr>\n",
       "  </thead>\n",
       "  <tbody>\n",
       "    <tr>\n",
       "      <th>0</th>\n",
       "      <td>0</td>\n",
       "      <td>3</td>\n",
       "      <td>0</td>\n",
       "      <td>1.0</td>\n",
       "      <td>1</td>\n",
       "      <td>0</td>\n",
       "      <td>0.0</td>\n",
       "      <td>0</td>\n",
       "    </tr>\n",
       "    <tr>\n",
       "      <th>1</th>\n",
       "      <td>1</td>\n",
       "      <td>1</td>\n",
       "      <td>1</td>\n",
       "      <td>3.0</td>\n",
       "      <td>1</td>\n",
       "      <td>0</td>\n",
       "      <td>4.0</td>\n",
       "      <td>1</td>\n",
       "    </tr>\n",
       "    <tr>\n",
       "      <th>2</th>\n",
       "      <td>1</td>\n",
       "      <td>3</td>\n",
       "      <td>1</td>\n",
       "      <td>2.0</td>\n",
       "      <td>0</td>\n",
       "      <td>0</td>\n",
       "      <td>0.0</td>\n",
       "      <td>0</td>\n",
       "    </tr>\n",
       "    <tr>\n",
       "      <th>3</th>\n",
       "      <td>1</td>\n",
       "      <td>1</td>\n",
       "      <td>1</td>\n",
       "      <td>3.0</td>\n",
       "      <td>1</td>\n",
       "      <td>0</td>\n",
       "      <td>4.0</td>\n",
       "      <td>0</td>\n",
       "    </tr>\n",
       "    <tr>\n",
       "      <th>4</th>\n",
       "      <td>0</td>\n",
       "      <td>3</td>\n",
       "      <td>0</td>\n",
       "      <td>3.0</td>\n",
       "      <td>0</td>\n",
       "      <td>0</td>\n",
       "      <td>1.0</td>\n",
       "      <td>0</td>\n",
       "    </tr>\n",
       "  </tbody>\n",
       "</table>\n",
       "</div>"
      ],
      "text/plain": [
       "   Survived  Pclass  Sex  Age  SibSp  Parch  Fare  Embarked\n",
       "0         0       3    0  1.0      1      0   0.0         0\n",
       "1         1       1    1  3.0      1      0   4.0         1\n",
       "2         1       3    1  2.0      0      0   0.0         0\n",
       "3         1       1    1  3.0      1      0   4.0         0\n",
       "4         0       3    0  3.0      0      0   1.0         0"
      ]
     },
     "execution_count": 42,
     "metadata": {},
     "output_type": "execute_result"
    }
   ],
   "source": [
    "df_train.head()"
   ]
  },
  {
   "cell_type": "code",
   "execution_count": 43,
   "id": "44a86197-c25e-4db3-a8a7-6aef6dbacca7",
   "metadata": {},
   "outputs": [
    {
     "data": {
      "text/html": [
       "<div>\n",
       "<style scoped>\n",
       "    .dataframe tbody tr th:only-of-type {\n",
       "        vertical-align: middle;\n",
       "    }\n",
       "\n",
       "    .dataframe tbody tr th {\n",
       "        vertical-align: top;\n",
       "    }\n",
       "\n",
       "    .dataframe thead th {\n",
       "        text-align: right;\n",
       "    }\n",
       "</style>\n",
       "<table border=\"1\" class=\"dataframe\">\n",
       "  <thead>\n",
       "    <tr style=\"text-align: right;\">\n",
       "      <th></th>\n",
       "      <th>PassengerId</th>\n",
       "      <th>Pclass</th>\n",
       "      <th>Sex</th>\n",
       "      <th>Age</th>\n",
       "      <th>SibSp</th>\n",
       "      <th>Parch</th>\n",
       "      <th>Fare</th>\n",
       "      <th>Embarked</th>\n",
       "    </tr>\n",
       "  </thead>\n",
       "  <tbody>\n",
       "    <tr>\n",
       "      <th>0</th>\n",
       "      <td>892</td>\n",
       "      <td>3</td>\n",
       "      <td>0</td>\n",
       "      <td>3.0</td>\n",
       "      <td>0</td>\n",
       "      <td>0</td>\n",
       "      <td>0.0</td>\n",
       "      <td>2</td>\n",
       "    </tr>\n",
       "    <tr>\n",
       "      <th>1</th>\n",
       "      <td>893</td>\n",
       "      <td>3</td>\n",
       "      <td>1</td>\n",
       "      <td>4.0</td>\n",
       "      <td>1</td>\n",
       "      <td>0</td>\n",
       "      <td>0.0</td>\n",
       "      <td>0</td>\n",
       "    </tr>\n",
       "    <tr>\n",
       "      <th>2</th>\n",
       "      <td>894</td>\n",
       "      <td>2</td>\n",
       "      <td>0</td>\n",
       "      <td>4.0</td>\n",
       "      <td>0</td>\n",
       "      <td>0</td>\n",
       "      <td>1.0</td>\n",
       "      <td>2</td>\n",
       "    </tr>\n",
       "    <tr>\n",
       "      <th>3</th>\n",
       "      <td>895</td>\n",
       "      <td>3</td>\n",
       "      <td>0</td>\n",
       "      <td>2.0</td>\n",
       "      <td>0</td>\n",
       "      <td>0</td>\n",
       "      <td>1.0</td>\n",
       "      <td>0</td>\n",
       "    </tr>\n",
       "    <tr>\n",
       "      <th>4</th>\n",
       "      <td>896</td>\n",
       "      <td>3</td>\n",
       "      <td>1</td>\n",
       "      <td>1.0</td>\n",
       "      <td>1</td>\n",
       "      <td>1</td>\n",
       "      <td>2.0</td>\n",
       "      <td>0</td>\n",
       "    </tr>\n",
       "  </tbody>\n",
       "</table>\n",
       "</div>"
      ],
      "text/plain": [
       "   PassengerId  Pclass  Sex  Age  SibSp  Parch  Fare  Embarked\n",
       "0          892       3    0  3.0      0      0   0.0         2\n",
       "1          893       3    1  4.0      1      0   0.0         0\n",
       "2          894       2    0  4.0      0      0   1.0         2\n",
       "3          895       3    0  2.0      0      0   1.0         0\n",
       "4          896       3    1  1.0      1      1   2.0         0"
      ]
     },
     "execution_count": 43,
     "metadata": {},
     "output_type": "execute_result"
    }
   ],
   "source": [
    "df_test.head()"
   ]
  },
  {
   "cell_type": "code",
   "execution_count": 44,
   "id": "7d7af6cb-b7a2-4f84-bf39-b451694dddc5",
   "metadata": {},
   "outputs": [],
   "source": [
    "# CHANGE THE Survived FEATURE TO A NEW VAR, THAT IS WHAT WE USE TO COMPARE ON THE TRAINING STEP\n",
    "y_train = df_train[\"Survived\"]\n",
    "df_train = df_train.drop(\"Survived\", axis=1)"
   ]
  },
  {
   "cell_type": "markdown",
   "id": "159fc5a1-3ca9-4d50-ab8e-b5af9d58fc7b",
   "metadata": {},
   "source": [
    "## Train"
   ]
  },
  {
   "cell_type": "code",
   "execution_count": 45,
   "id": "bf397b4f-b288-47cd-acc5-95ab759b0738",
   "metadata": {},
   "outputs": [],
   "source": [
    "from sklearn.linear_model import LogisticRegressionCV\n",
    "from sklearn.tree import DecisionTreeClassifier\n",
    "from sklearn.tree import ExtraTreeClassifier\n",
    "from sklearn.ensemble import RandomForestClassifier\n",
    "from sklearn.neighbors import KNeighborsClassifier\n",
    "from sklearn.naive_bayes import GaussianNB\n",
    "from sklearn.svm import SVC\n",
    "from catboost import CatBoostClassifier\n",
    "from xgboost import XGBClassifier\n",
    "from lightgbm import LGBMClassifier\n",
    "\n",
    "from sklearn.experimental import enable_hist_gradient_boosting\n",
    "from sklearn.ensemble import HistGradientBoostingClassifier\n",
    "\n",
    "\n",
    "from sklearn.metrics import accuracy_score"
   ]
  },
  {
   "cell_type": "code",
   "execution_count": 46,
   "id": "9b929471-6d3e-4cc2-aac9-b31e12c9fde0",
   "metadata": {},
   "outputs": [],
   "source": [
    "models = {\"LogisticRegressionCV\": LogisticRegressionCV(), \"DecisionTreeClassifier\": DecisionTreeClassifier(), \n",
    "         \"ExtraTreeClassifier\": ExtraTreeClassifier(), \"RandomForestClassifier\": RandomForestClassifier(), \n",
    "         \"KNeighborsClassifier\": KNeighborsClassifier(), \"GaussianNB\": GaussianNB(), \"SMV\": SVC(),\n",
    "         \"CatBoostClassifier\": CatBoostClassifier(verbose=False), \"XGBClassifier\" : XGBClassifier(use_label_encoder=False, eval_metric='rmse'), \n",
    "         \"HistGradientBoostingClassifier\": HistGradientBoostingClassifier(verbose=False)\n",
    "         }\n",
    "\n",
    "def calculateBestModel(x_train, y_train, model):\n",
    "    model.fit(x_train, y_train)\n",
    "    y_pred = model.predict(x_train)\n",
    "    \n",
    "    return accuracy_score(y_train, y_pred)"
   ]
  },
  {
   "cell_type": "code",
   "execution_count": 47,
   "id": "402073ad-9246-4cca-a8c3-47a2023844b3",
   "metadata": {},
   "outputs": [
    {
     "name": "stdout",
     "output_type": "stream",
     "text": [
      "\u001b[1mCheck Best Model\n",
      "\u001b[0m\n",
      "Model Name                        Accuracy\n",
      "LogisticRegressionCV............. 0.7930258717660292\n",
      "DecisionTreeClassifier........... 0.890888638920135\n",
      "ExtraTreeClassifier.............. 0.890888638920135\n",
      "RandomForestClassifier........... 0.890888638920135\n",
      "KNeighborsClassifier............. 0.8515185601799775\n",
      "GaussianNB....................... 0.7694038245219348\n",
      "SMV.............................. 0.8211473565804275\n",
      "CatBoostClassifier............... 0.875140607424072\n",
      "XGBClassifier.................... 0.8841394825646794\n",
      "HistGradientBoostingClassifier... 0.876265466816648\n"
     ]
    }
   ],
   "source": [
    "print(\"\\033[1mCheck Best Model\\n\\033[0m\")\n",
    "print(f\"{'Model Name':<34}{'Accuracy':>6}\")\n",
    "\n",
    "result_acc = {}\n",
    "for model_name, model in models.items():\n",
    "    acc = calculateBestModel(df_train, y_train, model)\n",
    "    result_acc[model_name] = acc\n",
    "    print(f\"{model_name :.<33} {acc:>5}\")"
   ]
  },
  {
   "cell_type": "code",
   "execution_count": 48,
   "id": "8edfb382-bb16-420f-acff-513559cc54a8",
   "metadata": {},
   "outputs": [],
   "source": [
    "df_acc = pd.DataFrame.from_dict(result_acc, orient = 'index', columns=[\"Acc\"])"
   ]
  },
  {
   "cell_type": "code",
   "execution_count": 49,
   "id": "c5085a9a-445f-47c7-a67a-527136590aad",
   "metadata": {},
   "outputs": [
    {
     "name": "stdout",
     "output_type": "stream",
     "text": [
      "Max -> DecisionTreeClassifier = 0.890888638920135\n"
     ]
    }
   ],
   "source": [
    "print(f\"Max -> {df_acc.idxmax()[0]} = {df_acc.max()[0]}\")"
   ]
  },
  {
   "cell_type": "code",
   "execution_count": 50,
   "id": "6ceec5b2-fb78-424b-b6ae-7cb8afa2fb3b",
   "metadata": {},
   "outputs": [
    {
     "data": {
      "image/png": "[encoded data removed]",
      "text/plain": [
       "<Figure size 864x504 with 1 Axes>"
      ]
     },
     "metadata": {},
     "output_type": "display_data"
    }
   ],
   "source": [
    "plt.figure(figsize=(12,7))\n",
    "sns.barplot(data=df_acc, x=df_acc.index, y=\"Acc\")\n",
    "plt.xticks(rotation=90)\n",
    "plt.show()"
   ]
  },
  {
   "cell_type": "code",
   "execution_count": 66,
   "id": "fc5fa44b-4d8e-4253-8e37-a9fb9749381f",
   "metadata": {},
   "outputs": [
    {
     "data": {
      "text/plain": [
       "XGBClassifier(base_score=0.5, booster='gbtree', colsample_bylevel=1,\n",
       "              colsample_bynode=1, colsample_bytree=1, enable_categorical=False,\n",
       "              eval_metric='rmse', gamma=0, gpu_id=-1, importance_type=None,\n",
       "              interaction_constraints='', learning_rate=0.300000012,\n",
       "              max_delta_step=0, max_depth=6, min_child_weight=1, missing=nan,\n",
       "              monotone_constraints='()', n_estimators=100, n_jobs=4,\n",
       "              num_parallel_tree=1, predictor='auto', random_state=0,\n",
       "              reg_alpha=0, reg_lambda=1, scale_pos_weight=1, subsample=1,\n",
       "              tree_method='exact', use_label_encoder=False,\n",
       "              validate_parameters=1, verbosity=None)"
      ]
     },
     "execution_count": 66,
     "metadata": {},
     "output_type": "execute_result"
    }
   ],
   "source": [
    "model = models[\"XGBClassifier\"]\n",
    "model.fit(df_train, y_train)"
   ]
  },
  {
   "cell_type": "code",
   "execution_count": 67,
   "id": "73c39039-6f5e-48b3-a8d7-82000f7a4d5f",
   "metadata": {},
   "outputs": [],
   "source": [
    "df_test.loc[df_test[\"Fare\"].isnull(), \"Fare\"] = 0 "
   ]
  },
  {
   "cell_type": "code",
   "execution_count": 68,
   "id": "f98387bb-665f-458a-83f1-cf8912466db8",
   "metadata": {},
   "outputs": [],
   "source": [
    "x_test = df_test.iloc[:, df_test.columns != \"PassengerId\"]"
   ]
  },
  {
   "cell_type": "code",
   "execution_count": 69,
   "id": "54330f11-9e69-48aa-afee-834643008541",
   "metadata": {},
   "outputs": [],
   "source": [
    "y_pred = model.predict(x_test)"
   ]
  },
  {
   "cell_type": "code",
   "execution_count": 70,
   "id": "375e2147-cdea-4b04-90fb-08efcc1cadff",
   "metadata": {},
   "outputs": [],
   "source": [
    "result = pd.concat([df_test[\"PassengerId\"], pd.DataFrame(y_pred)], axis = 1)"
   ]
  },
  {
   "cell_type": "code",
   "execution_count": 71,
   "id": "6810e601-bdc5-4c26-bbd4-dc5391e97c8b",
   "metadata": {},
   "outputs": [],
   "source": [
    "result.columns = [\"PassengerId\", \"Survived\"]"
   ]
  },
  {
   "cell_type": "code",
   "execution_count": 72,
   "id": "a96478d1-e6b9-442e-8f0a-de3ed8e0dc6f",
   "metadata": {},
   "outputs": [],
   "source": [
    "# Score: 0.73...\n",
    "result.to_csv(\"../output/my_submission_31_03_DecisionTreeClassifier.csv\", index=False)\n",
    "\n",
    "# Score: 0.75119\n",
    "result.to_csv(\"../output/my_submission_31_03_XGBoost.csv\", index=False)"
   ]
  },
  {
   "cell_type": "code",
   "execution_count": 73,
   "id": "4793b153-0d0b-4f77-8c13-0c3dfa195479",
   "metadata": {},
   "outputs": [
    {
     "data": {
      "text/html": [
       "<div>\n",
       "<style scoped>\n",
       "    .dataframe tbody tr th:only-of-type {\n",
       "        vertical-align: middle;\n",
       "    }\n",
       "\n",
       "    .dataframe tbody tr th {\n",
       "        vertical-align: top;\n",
       "    }\n",
       "\n",
       "    .dataframe thead th {\n",
       "        text-align: right;\n",
       "    }\n",
       "</style>\n",
       "<table border=\"1\" class=\"dataframe\">\n",
       "  <thead>\n",
       "    <tr style=\"text-align: right;\">\n",
       "      <th></th>\n",
       "      <th>Pclass</th>\n",
       "      <th>Sex</th>\n",
       "      <th>Age</th>\n",
       "      <th>SibSp</th>\n",
       "      <th>Parch</th>\n",
       "      <th>Fare</th>\n",
       "      <th>Embarked</th>\n",
       "    </tr>\n",
       "  </thead>\n",
       "  <tbody>\n",
       "    <tr>\n",
       "      <th>0</th>\n",
       "      <td>3</td>\n",
       "      <td>0</td>\n",
       "      <td>1.0</td>\n",
       "      <td>1</td>\n",
       "      <td>0</td>\n",
       "      <td>0.0</td>\n",
       "      <td>0</td>\n",
       "    </tr>\n",
       "    <tr>\n",
       "      <th>1</th>\n",
       "      <td>1</td>\n",
       "      <td>1</td>\n",
       "      <td>3.0</td>\n",
       "      <td>1</td>\n",
       "      <td>0</td>\n",
       "      <td>4.0</td>\n",
       "      <td>1</td>\n",
       "    </tr>\n",
       "    <tr>\n",
       "      <th>2</th>\n",
       "      <td>3</td>\n",
       "      <td>1</td>\n",
       "      <td>2.0</td>\n",
       "      <td>0</td>\n",
       "      <td>0</td>\n",
       "      <td>0.0</td>\n",
       "      <td>0</td>\n",
       "    </tr>\n",
       "    <tr>\n",
       "      <th>3</th>\n",
       "      <td>1</td>\n",
       "      <td>1</td>\n",
       "      <td>3.0</td>\n",
       "      <td>1</td>\n",
       "      <td>0</td>\n",
       "      <td>4.0</td>\n",
       "      <td>0</td>\n",
       "    </tr>\n",
       "    <tr>\n",
       "      <th>4</th>\n",
       "      <td>3</td>\n",
       "      <td>0</td>\n",
       "      <td>3.0</td>\n",
       "      <td>0</td>\n",
       "      <td>0</td>\n",
       "      <td>1.0</td>\n",
       "      <td>0</td>\n",
       "    </tr>\n",
       "    <tr>\n",
       "      <th>...</th>\n",
       "      <td>...</td>\n",
       "      <td>...</td>\n",
       "      <td>...</td>\n",
       "      <td>...</td>\n",
       "      <td>...</td>\n",
       "      <td>...</td>\n",
       "      <td>...</td>\n",
       "    </tr>\n",
       "    <tr>\n",
       "      <th>884</th>\n",
       "      <td>2</td>\n",
       "      <td>0</td>\n",
       "      <td>2.0</td>\n",
       "      <td>0</td>\n",
       "      <td>0</td>\n",
       "      <td>2.0</td>\n",
       "      <td>0</td>\n",
       "    </tr>\n",
       "    <tr>\n",
       "      <th>885</th>\n",
       "      <td>1</td>\n",
       "      <td>1</td>\n",
       "      <td>1.0</td>\n",
       "      <td>0</td>\n",
       "      <td>0</td>\n",
       "      <td>3.0</td>\n",
       "      <td>0</td>\n",
       "    </tr>\n",
       "    <tr>\n",
       "      <th>886</th>\n",
       "      <td>3</td>\n",
       "      <td>1</td>\n",
       "      <td>2.0</td>\n",
       "      <td>1</td>\n",
       "      <td>2</td>\n",
       "      <td>3.0</td>\n",
       "      <td>0</td>\n",
       "    </tr>\n",
       "    <tr>\n",
       "      <th>887</th>\n",
       "      <td>1</td>\n",
       "      <td>0</td>\n",
       "      <td>2.0</td>\n",
       "      <td>0</td>\n",
       "      <td>0</td>\n",
       "      <td>3.0</td>\n",
       "      <td>1</td>\n",
       "    </tr>\n",
       "    <tr>\n",
       "      <th>888</th>\n",
       "      <td>3</td>\n",
       "      <td>0</td>\n",
       "      <td>3.0</td>\n",
       "      <td>0</td>\n",
       "      <td>0</td>\n",
       "      <td>0.0</td>\n",
       "      <td>2</td>\n",
       "    </tr>\n",
       "  </tbody>\n",
       "</table>\n",
       "<p>889 rows × 7 columns</p>\n",
       "</div>"
      ],
      "text/plain": [
       "     Pclass  Sex  Age  SibSp  Parch  Fare  Embarked\n",
       "0         3    0  1.0      1      0   0.0         0\n",
       "1         1    1  3.0      1      0   4.0         1\n",
       "2         3    1  2.0      0      0   0.0         0\n",
       "3         1    1  3.0      1      0   4.0         0\n",
       "4         3    0  3.0      0      0   1.0         0\n",
       "..      ...  ...  ...    ...    ...   ...       ...\n",
       "884       2    0  2.0      0      0   2.0         0\n",
       "885       1    1  1.0      0      0   3.0         0\n",
       "886       3    1  2.0      1      2   3.0         0\n",
       "887       1    0  2.0      0      0   3.0         1\n",
       "888       3    0  3.0      0      0   0.0         2\n",
       "\n",
       "[889 rows x 7 columns]"
      ]
     },
     "execution_count": 73,
     "metadata": {},
     "output_type": "execute_result"
    }
   ],
   "source": [
    "df_train"
   ]
  },
  {
   "cell_type": "code",
   "execution_count": null,
   "id": "45532e44-5855-460e-9e2e-2d79aa89cac2",
   "metadata": {},
   "outputs": [],
   "source": []
  }
 ],
 "metadata": {
  "kernelspec": {
   "display_name": "Python 3 (ipykernel)",
   "language": "python",
   "name": "python3"
  },
  "language_info": {
   "codemirror_mode": {
    "name": "ipython",
    "version": 3
   },
   "file_extension": ".py",
   "mimetype": "text/x-python",
   "name": "python",
   "nbconvert_exporter": "python",
   "pygments_lexer": "ipython3",
   "version": "3.8.8"
  }
 },
 "nbformat": 4,
 "nbformat_minor": 5
}
