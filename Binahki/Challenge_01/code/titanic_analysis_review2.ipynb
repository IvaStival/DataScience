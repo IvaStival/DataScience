{
 "cells": [
  {
   "cell_type": "code",
   "execution_count": 2,
   "id": "c0c4be62-615b-4ff1-abf6-f032c8f4e7e6",
   "metadata": {},
   "outputs": [],
   "source": [
    "# TERCEIRA TENTATIVA DE MELHORAR OS RESULTADOS.\n",
    "# AQUI USEI ALGUMAS REFERENCIAS E FOI NESSA QUE CONSEGUI O MELHOR SCORE 0.79186\n",
    "\n",
    "# IMPORT DATA MANAGEMENT AND VISUALIZATION LIBS\n",
    "import pandas as pd\n",
    "import numpy as np\n",
    "import matplotlib.pyplot as plt\n",
    "import seaborn as sns\n",
    "\n",
    "# References:\n",
    "# 1 - https://www.kaggle.com/code/goldens/titanic-on-the-top-with-a-simple-model/notebook\n",
    "# 2 - https://medium.com/i-like-big-data-and-i-cannot-lie/how-i-scored-in-the-top-9-of-kaggles-titanic-machine-learning-challenge-243b5f45c8e9\n",
    "\n",
    "sns.set()"
   ]
  },
  {
   "cell_type": "code",
   "execution_count": 3,
   "id": "e0992da5-798e-4869-8902-20d22e16dfb2",
   "metadata": {},
   "outputs": [],
   "source": [
    "# FEATURES\n",
    "# survival -> Survival - 0 = No, 1 = Yes\n",
    "# pclass   -> Ticket class - 1 = 1st, 2 = 2nd, 3 = 3rd\n",
    "# sex      -> Sex\n",
    "# Age      -> Age in years\n",
    "# sibsp    -> # of siblings / spouses aboard the Titanic\n",
    "# parch    -> # of parents / children aboard the Titanic\n",
    "# ticket   -> Ticket number\n",
    "# fare     -> Passenger fare\n",
    "# cabin    -> Cabin number\n",
    "# embarked -> Port of Embarkation - C = Cherbourg, Q = Queenstown, S = Southampton"
   ]
  },
  {
   "cell_type": "code",
   "execution_count": 4,
   "id": "4afec10e-7318-4f8f-a358-d84766e832e9",
   "metadata": {},
   "outputs": [],
   "source": [
    "# LOAD TRAIN AND TEST DATASET\n",
    "df_train = pd.read_csv(\"../dataset/titanic/train.csv\")\n",
    "df_test = pd.read_csv(\"../dataset/titanic/test.csv\")\n",
    "df_train.head()\n",
    "\n",
    "df = pd.concat([df_train.loc[:, df_train.columns != \"Survived\"], df_test])"
   ]
  },
  {
   "cell_type": "code",
   "execution_count": 5,
   "id": "3e8a0bbe-7d6f-4f57-8736-11df4d169154",
   "metadata": {},
   "outputs": [
    {
     "name": "stdout",
     "output_type": "stream",
     "text": [
      "<class 'pandas.core.frame.DataFrame'>\n",
      "Int64Index: 1309 entries, 0 to 417\n",
      "Data columns (total 11 columns):\n",
      " #   Column       Non-Null Count  Dtype  \n",
      "---  ------       --------------  -----  \n",
      " 0   PassengerId  1309 non-null   int64  \n",
      " 1   Pclass       1309 non-null   int64  \n",
      " 2   Name         1309 non-null   object \n",
      " 3   Sex          1309 non-null   object \n",
      " 4   Age          1046 non-null   float64\n",
      " 5   SibSp        1309 non-null   int64  \n",
      " 6   Parch        1309 non-null   int64  \n",
      " 7   Ticket       1309 non-null   object \n",
      " 8   Fare         1308 non-null   float64\n",
      " 9   Cabin        295 non-null    object \n",
      " 10  Embarked     1307 non-null   object \n",
      "dtypes: float64(2), int64(4), object(5)\n",
      "memory usage: 122.7+ KB\n"
     ]
    }
   ],
   "source": [
    "df.info()"
   ]
  },
  {
   "cell_type": "code",
   "execution_count": 6,
   "id": "60c84998-7d59-4366-8de6-9c4152cf29f1",
   "metadata": {},
   "outputs": [
    {
     "data": {
      "text/html": [
       "<div>\n",
       "<style scoped>\n",
       "    .dataframe tbody tr th:only-of-type {\n",
       "        vertical-align: middle;\n",
       "    }\n",
       "\n",
       "    .dataframe tbody tr th {\n",
       "        vertical-align: top;\n",
       "    }\n",
       "\n",
       "    .dataframe thead th {\n",
       "        text-align: right;\n",
       "    }\n",
       "</style>\n",
       "<table border=\"1\" class=\"dataframe\">\n",
       "  <thead>\n",
       "    <tr style=\"text-align: right;\">\n",
       "      <th></th>\n",
       "      <th>PassengerId</th>\n",
       "      <th>Pclass</th>\n",
       "      <th>Age</th>\n",
       "      <th>SibSp</th>\n",
       "      <th>Parch</th>\n",
       "      <th>Fare</th>\n",
       "    </tr>\n",
       "  </thead>\n",
       "  <tbody>\n",
       "    <tr>\n",
       "      <th>count</th>\n",
       "      <td>1309.000000</td>\n",
       "      <td>1309.000000</td>\n",
       "      <td>1046.000000</td>\n",
       "      <td>1309.000000</td>\n",
       "      <td>1309.000000</td>\n",
       "      <td>1308.000000</td>\n",
       "    </tr>\n",
       "    <tr>\n",
       "      <th>mean</th>\n",
       "      <td>655.000000</td>\n",
       "      <td>2.294882</td>\n",
       "      <td>29.881138</td>\n",
       "      <td>0.498854</td>\n",
       "      <td>0.385027</td>\n",
       "      <td>33.295479</td>\n",
       "    </tr>\n",
       "    <tr>\n",
       "      <th>std</th>\n",
       "      <td>378.020061</td>\n",
       "      <td>0.837836</td>\n",
       "      <td>14.413493</td>\n",
       "      <td>1.041658</td>\n",
       "      <td>0.865560</td>\n",
       "      <td>51.758668</td>\n",
       "    </tr>\n",
       "    <tr>\n",
       "      <th>min</th>\n",
       "      <td>1.000000</td>\n",
       "      <td>1.000000</td>\n",
       "      <td>0.170000</td>\n",
       "      <td>0.000000</td>\n",
       "      <td>0.000000</td>\n",
       "      <td>0.000000</td>\n",
       "    </tr>\n",
       "    <tr>\n",
       "      <th>25%</th>\n",
       "      <td>328.000000</td>\n",
       "      <td>2.000000</td>\n",
       "      <td>21.000000</td>\n",
       "      <td>0.000000</td>\n",
       "      <td>0.000000</td>\n",
       "      <td>7.895800</td>\n",
       "    </tr>\n",
       "    <tr>\n",
       "      <th>50%</th>\n",
       "      <td>655.000000</td>\n",
       "      <td>3.000000</td>\n",
       "      <td>28.000000</td>\n",
       "      <td>0.000000</td>\n",
       "      <td>0.000000</td>\n",
       "      <td>14.454200</td>\n",
       "    </tr>\n",
       "    <tr>\n",
       "      <th>75%</th>\n",
       "      <td>982.000000</td>\n",
       "      <td>3.000000</td>\n",
       "      <td>39.000000</td>\n",
       "      <td>1.000000</td>\n",
       "      <td>0.000000</td>\n",
       "      <td>31.275000</td>\n",
       "    </tr>\n",
       "    <tr>\n",
       "      <th>max</th>\n",
       "      <td>1309.000000</td>\n",
       "      <td>3.000000</td>\n",
       "      <td>80.000000</td>\n",
       "      <td>8.000000</td>\n",
       "      <td>9.000000</td>\n",
       "      <td>512.329200</td>\n",
       "    </tr>\n",
       "  </tbody>\n",
       "</table>\n",
       "</div>"
      ],
      "text/plain": [
       "       PassengerId       Pclass          Age        SibSp        Parch  \\\n",
       "count  1309.000000  1309.000000  1046.000000  1309.000000  1309.000000   \n",
       "mean    655.000000     2.294882    29.881138     0.498854     0.385027   \n",
       "std     378.020061     0.837836    14.413493     1.041658     0.865560   \n",
       "min       1.000000     1.000000     0.170000     0.000000     0.000000   \n",
       "25%     328.000000     2.000000    21.000000     0.000000     0.000000   \n",
       "50%     655.000000     3.000000    28.000000     0.000000     0.000000   \n",
       "75%     982.000000     3.000000    39.000000     1.000000     0.000000   \n",
       "max    1309.000000     3.000000    80.000000     8.000000     9.000000   \n",
       "\n",
       "              Fare  \n",
       "count  1308.000000  \n",
       "mean     33.295479  \n",
       "std      51.758668  \n",
       "min       0.000000  \n",
       "25%       7.895800  \n",
       "50%      14.454200  \n",
       "75%      31.275000  \n",
       "max     512.329200  "
      ]
     },
     "execution_count": 6,
     "metadata": {},
     "output_type": "execute_result"
    }
   ],
   "source": [
    "df.describe()"
   ]
  },
  {
   "cell_type": "code",
   "execution_count": 7,
   "id": "6a618b75-d242-4d1c-a832-098fc667db46",
   "metadata": {},
   "outputs": [
    {
     "data": {
      "text/html": [
       "<div>\n",
       "<style scoped>\n",
       "    .dataframe tbody tr th:only-of-type {\n",
       "        vertical-align: middle;\n",
       "    }\n",
       "\n",
       "    .dataframe tbody tr th {\n",
       "        vertical-align: top;\n",
       "    }\n",
       "\n",
       "    .dataframe thead th {\n",
       "        text-align: right;\n",
       "    }\n",
       "</style>\n",
       "<table border=\"1\" class=\"dataframe\">\n",
       "  <thead>\n",
       "    <tr style=\"text-align: right;\">\n",
       "      <th></th>\n",
       "      <th>Name</th>\n",
       "      <th>Sex</th>\n",
       "      <th>Ticket</th>\n",
       "      <th>Cabin</th>\n",
       "      <th>Embarked</th>\n",
       "    </tr>\n",
       "  </thead>\n",
       "  <tbody>\n",
       "    <tr>\n",
       "      <th>count</th>\n",
       "      <td>1309</td>\n",
       "      <td>1309</td>\n",
       "      <td>1309</td>\n",
       "      <td>295</td>\n",
       "      <td>1307</td>\n",
       "    </tr>\n",
       "    <tr>\n",
       "      <th>unique</th>\n",
       "      <td>1307</td>\n",
       "      <td>2</td>\n",
       "      <td>929</td>\n",
       "      <td>186</td>\n",
       "      <td>3</td>\n",
       "    </tr>\n",
       "    <tr>\n",
       "      <th>top</th>\n",
       "      <td>Connolly, Miss. Kate</td>\n",
       "      <td>male</td>\n",
       "      <td>CA. 2343</td>\n",
       "      <td>C23 C25 C27</td>\n",
       "      <td>S</td>\n",
       "    </tr>\n",
       "    <tr>\n",
       "      <th>freq</th>\n",
       "      <td>2</td>\n",
       "      <td>843</td>\n",
       "      <td>11</td>\n",
       "      <td>6</td>\n",
       "      <td>914</td>\n",
       "    </tr>\n",
       "  </tbody>\n",
       "</table>\n",
       "</div>"
      ],
      "text/plain": [
       "                        Name   Sex    Ticket        Cabin Embarked\n",
       "count                   1309  1309      1309          295     1307\n",
       "unique                  1307     2       929          186        3\n",
       "top     Connolly, Miss. Kate  male  CA. 2343  C23 C25 C27        S\n",
       "freq                       2   843        11            6      914"
      ]
     },
     "execution_count": 7,
     "metadata": {},
     "output_type": "execute_result"
    }
   ],
   "source": [
    "df.describe(include=['O'])"
   ]
  },
  {
   "cell_type": "code",
   "execution_count": 8,
   "id": "e9e245ce-50ee-4c8f-9407-79922d780a84",
   "metadata": {},
   "outputs": [
    {
     "name": "stdout",
     "output_type": "stream",
     "text": [
      "<class 'pandas.core.frame.DataFrame'>\n",
      "Int64Index: 1309 entries, 0 to 417\n",
      "Data columns (total 11 columns):\n",
      " #   Column       Non-Null Count  Dtype  \n",
      "---  ------       --------------  -----  \n",
      " 0   PassengerId  1309 non-null   int64  \n",
      " 1   Pclass       1309 non-null   int64  \n",
      " 2   Name         1309 non-null   object \n",
      " 3   Sex          1309 non-null   object \n",
      " 4   Age          1046 non-null   float64\n",
      " 5   SibSp        1309 non-null   int64  \n",
      " 6   Parch        1309 non-null   int64  \n",
      " 7   Ticket       1309 non-null   object \n",
      " 8   Fare         1308 non-null   float64\n",
      " 9   Cabin        295 non-null    object \n",
      " 10  Embarked     1307 non-null   object \n",
      "dtypes: float64(2), int64(4), object(5)\n",
      "memory usage: 122.7+ KB\n"
     ]
    }
   ],
   "source": [
    "df.info()"
   ]
  },
  {
   "cell_type": "code",
   "execution_count": 9,
   "id": "5428dd1d-cdb4-483d-b2ab-f39d32212eec",
   "metadata": {},
   "outputs": [
    {
     "data": {
      "text/plain": [
       "0    891\n",
       "1    319\n",
       "2     42\n",
       "4     22\n",
       "3     20\n",
       "8      9\n",
       "5      6\n",
       "Name: SibSp, dtype: int64"
      ]
     },
     "execution_count": 9,
     "metadata": {},
     "output_type": "execute_result"
    }
   ],
   "source": [
    "df[\"SibSp\"].value_counts()"
   ]
  },
  {
   "cell_type": "code",
   "execution_count": 10,
   "id": "e1be743d-94ad-4c73-a3f0-f715788e4f8b",
   "metadata": {},
   "outputs": [
    {
     "data": {
      "text/plain": [
       "0    1002\n",
       "1     170\n",
       "2     113\n",
       "3       8\n",
       "5       6\n",
       "4       6\n",
       "6       2\n",
       "9       2\n",
       "Name: Parch, dtype: int64"
      ]
     },
     "execution_count": 10,
     "metadata": {},
     "output_type": "execute_result"
    }
   ],
   "source": [
    "df[\"Parch\"].value_counts()"
   ]
  },
  {
   "cell_type": "markdown",
   "id": "90838afc-0819-4f56-a629-80d4fc480811",
   "metadata": {},
   "source": [
    "## Plots"
   ]
  },
  {
   "cell_type": "markdown",
   "id": "e5584e3c-8891-46d7-8620-3d0fde6eb84a",
   "metadata": {},
   "source": [
    "Abaixo faço alguns plots para entender como os dados estão distribuídos e como eles influenciam no \n",
    "resultado que no caso é se a pessoa sobreviveu ou não."
   ]
  },
  {
   "cell_type": "code",
   "execution_count": 11,
   "id": "0f55a852-bf45-4b95-820f-08284dbb2719",
   "metadata": {},
   "outputs": [
    {
     "data": {
      "image/png": "[encoded data removed]",
      "text/plain": [
       "<Figure size 720x576 with 1 Axes>"
      ]
     },
     "metadata": {},
     "output_type": "display_data"
    }
   ],
   "source": [
    "# PLOT QUE MOSTRA A PORDENTAGEM DE MANEIRA GERAL DE SOBREVIVENTES E MORTOS\n",
    "fig = plt.figure(figsize=(10, 8))\n",
    "plt.pie(df_train[\"Survived\"].value_counts(), labels=[\"Death\", \"Survived\"] ,autopct='%.0f%%')\n",
    "plt.show()"
   ]
  },
  {
   "cell_type": "code",
   "execution_count": 12,
   "id": "c1e8ba0e-da74-4c76-9376-567b86528977",
   "metadata": {},
   "outputs": [
    {
     "data": {
      "text/plain": [
       "<AxesSubplot:xlabel='Sex', ylabel='Survived'>"
      ]
     },
     "execution_count": 12,
     "metadata": {},
     "output_type": "execute_result"
    },
    {
     "data": {
      "image/png": "[encoded data removed]",
      "text/plain": [
       "<Figure size 720x576 with 1 Axes>"
      ]
     },
     "metadata": {},
     "output_type": "display_data"
    }
   ],
   "source": [
    "# AGORA AGRUPANDO POR SEXO.\n",
    "# PODEMOS VER QUE SE FOR HOMEM A CHANCE DE MORRER É BEM GRANDE\n",
    "fig = plt.figure(figsize=(10, 8))\n",
    "sns.barplot(data=df_train, y=\"Survived\", x=\"Sex\", ci=False)"
   ]
  },
  {
   "cell_type": "code",
   "execution_count": 13,
   "id": "cb8f4b30-7c85-43f5-bd80-84c7ef05f5a4",
   "metadata": {},
   "outputs": [
    {
     "data": {
      "image/png": "[encoded data removed]",
      "text/plain": [
       "<Figure size 1008x360 with 4 Axes>"
      ]
     },
     "metadata": {},
     "output_type": "display_data"
    }
   ],
   "source": [
    "# AQUI Ë FEITA UMA ANALISE DA DISTRIBUIÇÃO DOS DADOS USANDO O BOXPLOT\n",
    "# PODEMOS VER QUE EXISTEM OUTLIERS, PORÉM NÃO VOU RETIRA LOS, MESMO SENDO CONSIDERADOS OUTLIERS ESSES\n",
    "# DADOS SÃO BEM CARACTERISTICOS E DIZEM BASTANTE SOBRE ESSA PESSOA\n",
    "\n",
    "numerical_features = ['Age', 'SibSp', 'Parch', 'Fare']\n",
    "categorical_features = ['Pclass', 'Sex', 'Embarked']\n",
    "\n",
    "plt.figure(figsize=(14,5))\n",
    "for i, feature in enumerate(numerical_features):\n",
    "    plt.subplot(1, 4, i+1)\n",
    "    sns.boxplot(data=df_train, y=feature, color=np.random.randint([255,255,255])/255)\n",
    "    plt.xlabel(feature)"
   ]
  },
  {
   "cell_type": "code",
   "execution_count": 14,
   "id": "d65bd933-8b23-4a6f-8638-6d97fa56e3c9",
   "metadata": {},
   "outputs": [
    {
     "data": {
      "image/png": "[encoded data removed]",
      "text/plain": [
       "<Figure size 1296x360 with 3 Axes>"
      ]
     },
     "metadata": {},
     "output_type": "display_data"
    }
   ],
   "source": [
    "# AQUI FAÇO UMA ANALISE DOS NUMEROS ABSOLUTOS DE PESSOAS AGRUPADOS POR CLASSE, SEXO E ONDE EMBARCOU\n",
    "# PODEMOS VER QUE AMBAS AS FEATURES SÃO IMPORTANTES, POIS A QUANTIDADE DE MORTES OU SOBREVIVENTES SÃO \n",
    "# BEM DIFERENTES. \n",
    "# DESTAQUE NOVAMENTE PARA A CLASSE 3 QUE POSSUI A MAIOR QUANTIDADE DE PESSOAS, EXISTEM MAIS HOMENS QUE MULHERES\n",
    "# E A MAIORIA EMBARCOU EM S\n",
    "plt.figure(figsize=(18,5))\n",
    "for i, feature in enumerate(categorical_features):\n",
    "    plt.subplot(1, 4, i+1)\n",
    "    sns.countplot(data=df_train, x=feature)\n",
    "    plt.xlabel(feature)"
   ]
  },
  {
   "cell_type": "code",
   "execution_count": 15,
   "id": "38ada118-20b2-4cbc-a6d5-295bfe75e92b",
   "metadata": {},
   "outputs": [
    {
     "data": {
      "image/png": "[encoded data removed]",
      "text/plain": [
       "<Figure size 1080x360 with 3 Axes>"
      ]
     },
     "metadata": {},
     "output_type": "display_data"
    }
   ],
   "source": [
    "# OUTRA ANALISE AGORA DIVIDINDO POR CLASSE E SEXO\n",
    "# AS CLASSES 1 e 2 POSSUEM A MAIOR PROPORÇÃO DE SOBREVIVENTES\n",
    "# ENQUANDO A 3 POSSUI A MENOR\n",
    "grid = sns.FacetGrid(data=df_train, col=\"Pclass\", height=5)\n",
    "grid.map(sns.barplot, \"Sex\", \"Survived\", ci=False, order=['female', 'male'])\n",
    "plt.show()"
   ]
  },
  {
   "cell_type": "code",
   "execution_count": 16,
   "id": "2e431d8e-c840-42d5-974b-274504044743",
   "metadata": {},
   "outputs": [
    {
     "data": {
      "image/png": "[encoded data removed]",
      "text/plain": [
       "<Figure size 1080x360 with 3 Axes>"
      ]
     },
     "metadata": {},
     "output_type": "display_data"
    }
   ],
   "source": [
    "# ANALISANDO POR NUMEROS ABSOLUTOS VEMOS QUE NA CLASSE 3 A ESMAGARODA MAIORIA ACABA MORRENDO, É A CLASSE COM \n",
    "# MAIOR QUANTIDADE DE PESSOAS\n",
    "grid = sns.FacetGrid(data=df_train, col=\"Pclass\", height=5)\n",
    "grid.map(sns.countplot, \"Survived\", order=[0, 1])\n",
    "plt.show()"
   ]
  },
  {
   "cell_type": "code",
   "execution_count": 17,
   "id": "d4bf83fc-74cc-431e-a579-2b453bba4c32",
   "metadata": {},
   "outputs": [
    {
     "data": {
      "image/png": "[encoded data removed]",
      "text/plain": [
       "<Figure size 720x576 with 1 Axes>"
      ]
     },
     "metadata": {},
     "output_type": "display_data"
    }
   ],
   "source": [
    "# NOVAMENTE UMA ANALISE DA PROPORÇÃO DE SOBREVIVENTES POR CLASSE \n",
    "fig = plt.figure(figsize=(10,8))\n",
    "sns.barplot(data=df_train, x=\"Pclass\", y=\"Survived\", ci=False)\n",
    "plt.show()"
   ]
  },
  {
   "cell_type": "code",
   "execution_count": 18,
   "id": "04d1d8b9-4721-4469-9cf4-6adf74796b44",
   "metadata": {},
   "outputs": [
    {
     "data": {
      "image/png": "[encoded data removed]",
      "text/plain": [
       "<Figure size 1080x432 with 2 Axes>"
      ]
     },
     "metadata": {},
     "output_type": "display_data"
    }
   ],
   "source": [
    "# AGORA É FEITA UMA ANALISE SE O NUMERO DE PARENTES INFLUENCIA NA SOBREVIVENCIA\n",
    "# OS PLOTS MOSTRAM QUE EXISTEM SIM UMA RELAÇÃO ENTRE O NUMERO DE PARENTE E A SOBREVIVENCIA\n",
    "# POREM NÃO DE MANEIRA CONCLUSIVA.\n",
    "plt.figure(figsize=(15,6))\n",
    "plt.subplot(1, 2, 1)\n",
    "sns.barplot(data=df_train, x=\"SibSp\", y=\"Survived\", ci=False)\n",
    "plt.title(\"SibSp x Survived\")\n",
    "\n",
    "plt.subplot(1, 2, 2)\n",
    "sns.barplot(data=df_train, x=\"Parch\", y=\"Survived\", ci=False)\n",
    "plt.title(\"Parch x Survived\")\n",
    "\n",
    "plt.show()"
   ]
  },
  {
   "cell_type": "code",
   "execution_count": 30,
   "id": "2920f23f-64b0-49b3-9b4f-24c0540fb665",
   "metadata": {},
   "outputs": [
    {
     "data": {
      "text/plain": [
       "Text(0.5, 1.0, 'SibSp x Survived x Sex')"
      ]
     },
     "execution_count": 30,
     "metadata": {},
     "output_type": "execute_result"
    },
    {
     "data": {
      "image/png": "[encoded data removed]",
      "text/plain": [
       "<Figure size 1080x432 with 2 Axes>"
      ]
     },
     "metadata": {},
     "output_type": "display_data"
    }
   ],
   "source": [
    "# SibSp x Survived x Sex\n",
    "# NOVAMENTE, MULHERES TEM UMA MAIOR PROPORÇÃO DE SOBREVIVENTES\n",
    "plt.figure(figsize=(15,6))\n",
    "\n",
    "plt.subplot(1, 2, 1)\n",
    "sns.barplot(data=df_train, x=\"SibSp\", y=\"Survived\", ci=False, hue=\"Sex\")\n",
    "plt.title(\"SibSp x Survived x Sex\")\n",
    "\n",
    "plt.subplot(1, 2, 2)\n",
    "sns.barplot(data=df_train, x=\"Parch\", y=\"Survived\", ci=False, hue=\"Sex\")\n",
    "plt.title(\"SibSp x Survived x Sex\")"
   ]
  },
  {
   "cell_type": "code",
   "execution_count": null,
   "id": "a85ecdd8-4de4-4e3d-a7ba-1b59298aa75c",
   "metadata": {},
   "outputs": [],
   "source": [
    "# USANDO O EXEMPLO DA REFERNCIA 1, ONDE SE SOMA ESSAS DUAS FEATURES ACABA SENDO MAIS INTUITIVO\n",
    "df_temp = df_train\n",
    "df_temp[\"Family\"] = df_temp[\"SibSp\"] + df_temp[\"Parch\"]"
   ]
  },
  {
   "cell_type": "code",
   "execution_count": 31,
   "id": "e7839422-c4bf-4bd7-99e0-42bf972cd963",
   "metadata": {},
   "outputs": [
    {
     "data": {
      "image/png": "[encoded data removed]",
      "text/plain": [
       "<Figure size 1080x432 with 1 Axes>"
      ]
     },
     "metadata": {},
     "output_type": "display_data"
    }
   ],
   "source": [
    "# AGORA PODEMOS TER UMA IDEIA MELHOR DE COMO TER FAMILIARES INFLUENCIA NA SOBREVIVENCIA\n",
    "# A PROPORÇÃO MOSTRA QUE QUEM TEM 1, 2 ou 3 PARENTES TEM MAIOR CHANCE DE SOBREVIVER, VAMOS ANALISAR \n",
    "# VALORES ABSOLUTOS ...\n",
    "plt.figure(figsize=(15,6))\n",
    "sns.barplot(data=df_temp, x=\"Family\", y=\"Survived\", ci=False)\n",
    "plt.title(\"Family x Survived\")\n",
    "\n",
    "plt.show()"
   ]
  },
  {
   "cell_type": "code",
   "execution_count": 32,
   "id": "0be3913c-e3e1-4b8c-a3e0-13e9d5045b96",
   "metadata": {},
   "outputs": [
    {
     "data": {
      "text/plain": [
       "Text(0.5, 1.0, 'Family x Survived')"
      ]
     },
     "execution_count": 32,
     "metadata": {},
     "output_type": "execute_result"
    },
    {
     "data": {
      "image/png": "[encoded data removed]",
      "text/plain": [
       "<Figure size 1080x432 with 1 Axes>"
      ]
     },
     "metadata": {},
     "output_type": "display_data"
    }
   ],
   "source": [
    "# DE MANEIRA ABSOLUTA VEMOS QUE QUEM TEM ENTRE 1 e # PARENTES TEM MAIOR CHANCE DE SOBREVIVER. \n",
    "# NOTA SE TAMBEM QUE QUEM NÃO POSSUI PARENTES TEM GRANDE CHANCE DE MORRER\n",
    "plt.figure(figsize=(15,6))\n",
    "sns.countplot(data=df_train, x=\"Family\", hue=\"Survived\")\n",
    "plt.title(\"Family x Survived\")"
   ]
  },
  {
   "cell_type": "code",
   "execution_count": null,
   "id": "870592dc-71df-46fb-85fd-4d5a7440e4a1",
   "metadata": {},
   "outputs": [],
   "source": []
  },
  {
   "cell_type": "markdown",
   "id": "5aecc704-ceb1-4e49-aa79-7609957f8a40",
   "metadata": {},
   "source": [
    "## Age"
   ]
  },
  {
   "cell_type": "code",
   "execution_count": 29,
   "id": "f844807c-f2d4-4e92-acfe-4ccd139bfe93",
   "metadata": {},
   "outputs": [
    {
     "data": {
      "image/png": "[encoded data removed]",
      "text/plain": [
       "<Figure size 864x576 with 1 Axes>"
      ]
     },
     "metadata": {},
     "output_type": "display_data"
    }
   ],
   "source": [
    "# SURVIVED x AGE\n",
    "# PODEMOS VER QUE A GRANDE QUANTIDADE DE MORTES E SOBREVIVENTES ACONTECE NO RANGE MAIS OU MENOS DE 16 ANOS \n",
    "# ATÉ MAIS OU MENOS 36\n",
    "plt.figure(figsize=(12,8))\n",
    "sns.histplot(data=df_train, x=\"Age\", hue=\"Survived\")\n",
    "plt.title(\"Survived x Age\")\n",
    "plt.show()"
   ]
  },
  {
   "cell_type": "code",
   "execution_count": 33,
   "id": "eac4f45d-468f-40fc-9749-6dd11fcef965",
   "metadata": {},
   "outputs": [
    {
     "data": {
      "image/png": "[encoded data removed]",
      "text/plain": [
       "<Figure size 864x432 with 2 Axes>"
      ]
     },
     "metadata": {},
     "output_type": "display_data"
    }
   ],
   "source": [
    "# DIVIDE BY SEX WE CAN SEE THAT THE DEATH MAJORITY IS MALE AND MAJORITY SURVIVED IS FEMALE\n",
    "# DIVIDINDO POR SEXO VEMOS MAIS UMA VEZ QUE A GRANDE MAIORIA DE MORTES OCORRE NO SEXO MASCULINO\n",
    "grid = sns.FacetGrid(data=df_train, col=\"Sex\", hue=\"Survived\", height=6)\n",
    "grid.map(sns.histplot, \"Age\")\n",
    "plt.legend()\n",
    "plt.show()"
   ]
  },
  {
   "cell_type": "code",
   "execution_count": 31,
   "id": "c7daad6f-f63e-49eb-815b-d4808caac295",
   "metadata": {},
   "outputs": [
    {
     "data": {
      "image/png": "[encoded data removed]",
      "text/plain": [
       "<Figure size 576x864 with 6 Axes>"
      ]
     },
     "metadata": {},
     "output_type": "display_data"
    }
   ],
   "source": [
    "# SEEING BY CLASS WOMEN IN THE CLASS 1 AND 2 HAVE A BIG AMOUNT OF SURVIVE, THE MAJORITY DEATH OCCOUR IN THE CLASS 3.\n",
    "# FOR THE MEN THE CLASS 1 HAVE THE AMOUNT OF SURVIVE, CLASS 2 THE DEATH INCREASES AND IN CLASS 3 THE MAJORITY DEATH OCCOUR\n",
    "# DIVIDO AGORA POR CLASSE E POR SEXO. NOVAMENTE A 3 CLASSE É A QUE POSSUI MAIOR QUANTIDADE DE MORTES\n",
    "# O DETALHE AQUI É NA CLASSE 2, O NUMERO DE HOMENS DA CLASSE 2 QUE MORRERAM É BEM GRANDE\n",
    "grid = sns.FacetGrid(data=df_train, col=\"Sex\", row=\"Pclass\", hue=\"Survived\", height=4)\n",
    "grid.map(sns.histplot, \"Age\")\n",
    "plt.legend()\n",
    "plt.show()"
   ]
  },
  {
   "cell_type": "markdown",
   "id": "eee34659-d62e-4c59-bbf7-a9c593710151",
   "metadata": {},
   "source": [
    "## Fare"
   ]
  },
  {
   "cell_type": "code",
   "execution_count": 32,
   "id": "888f1f7c-ef62-4bb1-a252-edc12c8b51bf",
   "metadata": {},
   "outputs": [
    {
     "data": {
      "image/png": "[encoded data removed]",
      "text/plain": [
       "<Figure size 864x576 with 1 Axes>"
      ]
     },
     "metadata": {},
     "output_type": "display_data"
    }
   ],
   "source": [
    "# ANALISE DE QUANTO FOI PAGO E O NUMERO DE SOBREVIVENTES\n",
    "# A ESMAGARA QUANTIDADE DE PESSOAS QUE MORRERAM FORAM AS QUE PAGARAM MENOS QUE 70 OU 80 COM DESTAQUE PARA QUEM\n",
    "# PAGOU PROXIMO DE 5 OU 10.\n",
    "plt.figure(figsize=(12,8))\n",
    "sns.histplot(data=df_train, x=\"Fare\", hue=\"Survived\")\n",
    "plt.title(\"Survived x Fare\")\n",
    "plt.show()"
   ]
  },
  {
   "cell_type": "code",
   "execution_count": 33,
   "id": "839e73cc-3c64-49d2-92ac-3f8ca595ea95",
   "metadata": {},
   "outputs": [
    {
     "data": {
      "image/png": "[encoded data removed]",
      "text/plain": [
       "<Figure size 720x360 with 2 Axes>"
      ]
     },
     "metadata": {},
     "output_type": "display_data"
    }
   ],
   "source": [
    "grid = sns.FacetGrid(data=df_train, col=\"Sex\", hue=\"Survived\", height=5)\n",
    "grid.map(sns.histplot, \"Fare\")\n",
    "plt.legend()\n",
    "plt.show()"
   ]
  },
  {
   "cell_type": "code",
   "execution_count": 34,
   "id": "10b96f34-38e6-4e80-a919-f86f5e54bfab",
   "metadata": {},
   "outputs": [
    {
     "data": {
      "image/png": "[encoded data removed]",
      "text/plain": [
       "<Figure size 864x576 with 1 Axes>"
      ]
     },
     "metadata": {},
     "output_type": "display_data"
    }
   ],
   "source": [
    "# AQUI RETIREI OS VALORES MAIS ALTOS PARA SER MELHOR A VISUALIZAÇÃO DAS INFORMAÇÕES\n",
    "# FICA MAIS CLARO VISUALIZAR AGORA\n",
    "plt.figure(figsize=(12,8))\n",
    "sns.histplot(data=df_train.loc[df_train[\"Fare\"] < 200], x=\"Fare\", hue=\"Survived\")\n",
    "plt.title(\"Survived x Fare\")\n",
    "plt.show()"
   ]
  },
  {
   "cell_type": "markdown",
   "id": "c9f3ee05-ca02-46f6-9d20-1e75c93a211e",
   "metadata": {},
   "source": [
    "## Embarked"
   ]
  },
  {
   "cell_type": "code",
   "execution_count": 35,
   "id": "208112bc-39f3-47bf-bbbe-fe419d4823ce",
   "metadata": {},
   "outputs": [
    {
     "data": {
      "text/plain": [
       "<AxesSubplot:xlabel='Embarked', ylabel='Survived'>"
      ]
     },
     "execution_count": 35,
     "metadata": {},
     "output_type": "execute_result"
    },
    {
     "data": {
      "image/png": "[encoded data removed]",
      "text/plain": [
       "<Figure size 720x432 with 1 Axes>"
      ]
     },
     "metadata": {},
     "output_type": "display_data"
    }
   ],
   "source": [
    "# C TEM UMA MAIOR PROPORÇÃO DE SOBREVIVENTES\n",
    "plt.figure(figsize=(10,6))\n",
    "sns.barplot(data=df_train, x=\"Embarked\", y=\"Survived\", ci=False)"
   ]
  },
  {
   "cell_type": "code",
   "execution_count": 36,
   "id": "50500ff0-e935-4fde-bded-1b48b5751d3d",
   "metadata": {},
   "outputs": [
    {
     "data": {
      "text/plain": [
       "<AxesSubplot:xlabel='Embarked', ylabel='count'>"
      ]
     },
     "execution_count": 36,
     "metadata": {},
     "output_type": "execute_result"
    },
    {
     "data": {
      "image/png": "[encoded data removed]",
      "text/plain": [
       "<Figure size 720x432 with 1 Axes>"
      ]
     },
     "metadata": {},
     "output_type": "display_data"
    }
   ],
   "source": [
    "# ANALISANDO DE MANEIRA ABSOLUTA VEMOS QUE A MAIORIA DAS PESSOAS EMBARCARAM EM S\n",
    "# E É EM S QUE OCORRE A MAIORIA DAS MORTES E TAMBEM DE SOBREVIVENTES, POREM PELA PROPORÇÃO É A MENOR.\n",
    "plt.figure(figsize=(10,6))\n",
    "sns.countplot(data=df_train, x=\"Embarked\", hue=\"Survived\")"
   ]
  },
  {
   "cell_type": "code",
   "execution_count": 37,
   "id": "fc181e03-c42a-44a6-926c-604278f3eded",
   "metadata": {},
   "outputs": [
    {
     "data": {
      "text/plain": [
       "<seaborn.axisgrid.FacetGrid at 0x7fd8233d10d0>"
      ]
     },
     "execution_count": 37,
     "metadata": {},
     "output_type": "execute_result"
    },
    {
     "data": {
      "image/png": "[encoded data removed]",
      "text/plain": [
       "<Figure size 1080x360 with 3 Axes>"
      ]
     },
     "metadata": {},
     "output_type": "display_data"
    }
   ],
   "source": [
    "# DIVIDINDO POR CLASSE NOVAMENTE VEMOS QUE A CLASSE 3 TEM A MENOR PROPORÇÃO DE SOBREVIVENTES, POREM AGORA\n",
    "# VEMOS QUE QUEM EMBARCOU EM Q E C TEM UMA PROPORÇÃO MAIOR DE SOBREVIVENTES.\n",
    "grid = sns.FacetGrid(data=df_train, col=\"Pclass\", height=5)\n",
    "grid.map(sns.barplot, \"Embarked\", \"Survived\", ci=False, order=[\"S\", \"Q\", \"C\"])"
   ]
  },
  {
   "cell_type": "markdown",
   "id": "aefd03c2-8cfd-4dc6-a4d1-6ca23b1499a9",
   "metadata": {},
   "source": [
    "## Data Clean and Transform"
   ]
  },
  {
   "cell_type": "markdown",
   "id": "b2c02edb-f9cf-4b4b-8c04-9afdfe664c95",
   "metadata": {},
   "source": [
    "### Missing Values - Age"
   ]
  },
  {
   "cell_type": "code",
   "execution_count": 38,
   "id": "81b5d89c-b6e3-4bb2-a8ce-eeaa6817e586",
   "metadata": {},
   "outputs": [
    {
     "name": "stdout",
     "output_type": "stream",
     "text": [
      "\u001b[1m Missing Age Values\u001b[0m\n",
      "Total: 263\n"
     ]
    }
   ],
   "source": [
    "print(f\"\\033[1m Missing Age Values\\033[0m\")\n",
    "print(f\"Total: {df['Age'].isnull().sum()}\")"
   ]
  },
  {
   "cell_type": "code",
   "execution_count": 39,
   "id": "30b9fc4d-c032-4ccc-a4bf-02fc95525e0d",
   "metadata": {},
   "outputs": [
    {
     "data": {
      "text/html": [
       "<div>\n",
       "<style scoped>\n",
       "    .dataframe tbody tr th:only-of-type {\n",
       "        vertical-align: middle;\n",
       "    }\n",
       "\n",
       "    .dataframe tbody tr th {\n",
       "        vertical-align: top;\n",
       "    }\n",
       "\n",
       "    .dataframe thead th {\n",
       "        text-align: right;\n",
       "    }\n",
       "</style>\n",
       "<table border=\"1\" class=\"dataframe\">\n",
       "  <thead>\n",
       "    <tr style=\"text-align: right;\">\n",
       "      <th></th>\n",
       "      <th>PassengerId</th>\n",
       "      <th>Survived</th>\n",
       "      <th>Pclass</th>\n",
       "      <th>Name</th>\n",
       "      <th>Sex</th>\n",
       "      <th>Age</th>\n",
       "      <th>SibSp</th>\n",
       "      <th>Parch</th>\n",
       "      <th>Ticket</th>\n",
       "      <th>Fare</th>\n",
       "      <th>Cabin</th>\n",
       "      <th>Embarked</th>\n",
       "    </tr>\n",
       "  </thead>\n",
       "  <tbody>\n",
       "    <tr>\n",
       "      <th>0</th>\n",
       "      <td>1</td>\n",
       "      <td>0</td>\n",
       "      <td>3</td>\n",
       "      <td>Braund, Mr. Owen Harris</td>\n",
       "      <td>male</td>\n",
       "      <td>22.0</td>\n",
       "      <td>1</td>\n",
       "      <td>0</td>\n",
       "      <td>A/5 21171</td>\n",
       "      <td>7.2500</td>\n",
       "      <td>NaN</td>\n",
       "      <td>S</td>\n",
       "    </tr>\n",
       "    <tr>\n",
       "      <th>1</th>\n",
       "      <td>2</td>\n",
       "      <td>1</td>\n",
       "      <td>1</td>\n",
       "      <td>Cumings, Mrs. John Bradley (Florence Briggs Th...</td>\n",
       "      <td>female</td>\n",
       "      <td>38.0</td>\n",
       "      <td>1</td>\n",
       "      <td>0</td>\n",
       "      <td>PC 17599</td>\n",
       "      <td>71.2833</td>\n",
       "      <td>C85</td>\n",
       "      <td>C</td>\n",
       "    </tr>\n",
       "    <tr>\n",
       "      <th>2</th>\n",
       "      <td>3</td>\n",
       "      <td>1</td>\n",
       "      <td>3</td>\n",
       "      <td>Heikkinen, Miss. Laina</td>\n",
       "      <td>female</td>\n",
       "      <td>26.0</td>\n",
       "      <td>0</td>\n",
       "      <td>0</td>\n",
       "      <td>STON/O2. 3101282</td>\n",
       "      <td>7.9250</td>\n",
       "      <td>NaN</td>\n",
       "      <td>S</td>\n",
       "    </tr>\n",
       "    <tr>\n",
       "      <th>3</th>\n",
       "      <td>4</td>\n",
       "      <td>1</td>\n",
       "      <td>1</td>\n",
       "      <td>Futrelle, Mrs. Jacques Heath (Lily May Peel)</td>\n",
       "      <td>female</td>\n",
       "      <td>35.0</td>\n",
       "      <td>1</td>\n",
       "      <td>0</td>\n",
       "      <td>113803</td>\n",
       "      <td>53.1000</td>\n",
       "      <td>C123</td>\n",
       "      <td>S</td>\n",
       "    </tr>\n",
       "    <tr>\n",
       "      <th>4</th>\n",
       "      <td>5</td>\n",
       "      <td>0</td>\n",
       "      <td>3</td>\n",
       "      <td>Allen, Mr. William Henry</td>\n",
       "      <td>male</td>\n",
       "      <td>35.0</td>\n",
       "      <td>0</td>\n",
       "      <td>0</td>\n",
       "      <td>373450</td>\n",
       "      <td>8.0500</td>\n",
       "      <td>NaN</td>\n",
       "      <td>S</td>\n",
       "    </tr>\n",
       "  </tbody>\n",
       "</table>\n",
       "</div>"
      ],
      "text/plain": [
       "   PassengerId  Survived  Pclass  \\\n",
       "0            1         0       3   \n",
       "1            2         1       1   \n",
       "2            3         1       3   \n",
       "3            4         1       1   \n",
       "4            5         0       3   \n",
       "\n",
       "                                                Name     Sex   Age  SibSp  \\\n",
       "0                            Braund, Mr. Owen Harris    male  22.0      1   \n",
       "1  Cumings, Mrs. John Bradley (Florence Briggs Th...  female  38.0      1   \n",
       "2                             Heikkinen, Miss. Laina  female  26.0      0   \n",
       "3       Futrelle, Mrs. Jacques Heath (Lily May Peel)  female  35.0      1   \n",
       "4                           Allen, Mr. William Henry    male  35.0      0   \n",
       "\n",
       "   Parch            Ticket     Fare Cabin Embarked  \n",
       "0      0         A/5 21171   7.2500   NaN        S  \n",
       "1      0          PC 17599  71.2833   C85        C  \n",
       "2      0  STON/O2. 3101282   7.9250   NaN        S  \n",
       "3      0            113803  53.1000  C123        S  \n",
       "4      0            373450   8.0500   NaN        S  "
      ]
     },
     "execution_count": 39,
     "metadata": {},
     "output_type": "execute_result"
    }
   ],
   "source": [
    "df_train.head()"
   ]
  },
  {
   "cell_type": "code",
   "execution_count": 40,
   "id": "8778c3b6-4a04-45ab-97e1-8fc572440b0b",
   "metadata": {},
   "outputs": [
    {
     "data": {
      "text/plain": [
       "Mr              757\n",
       "Miss            260\n",
       "Mrs             197\n",
       "Master           61\n",
       "Rev               8\n",
       "Dr                8\n",
       "Col               4\n",
       "Mlle              2\n",
       "Major             2\n",
       "Ms                2\n",
       "Lady              1\n",
       "Sir               1\n",
       "Mme               1\n",
       "Don               1\n",
       "Capt              1\n",
       "the Countess      1\n",
       "Jonkheer          1\n",
       "Dona              1\n",
       "Name: Title, dtype: int64"
      ]
     },
     "execution_count": 40,
     "metadata": {},
     "output_type": "execute_result"
    }
   ],
   "source": [
    "# ESSA IDEIA FOI RETIRADA DA REFERENCIA 1. \n",
    "# USANDO O TITULO DA PESSOA COMO UMA FEATURES E PARA CALCULAR A IDADE MEDIA PARA ADICIONAR AOS VALORES FALTANTES\n",
    "df[\"Title\"] = df[\"Name\"].apply(lambda name: name.split(',')[1].split('.')[0].strip())\n",
    "df_train[\"Title\"] = df_train[\"Name\"].apply(lambda name: name.split(',')[1].split('.')[0].strip())\n",
    "df_test[\"Title\"] = df_test[\"Name\"].apply(lambda name: name.split(',')[1].split('.')[0].strip())\n",
    "df[\"Title\"].value_counts()"
   ]
  },
  {
   "cell_type": "code",
   "execution_count": 41,
   "id": "9a5d9f35-da68-4425-88f7-8c8e805cbe18",
   "metadata": {},
   "outputs": [],
   "source": [
    "normalized_titles = {\n",
    "    \"Capt\":       \"Officer\",\n",
    "    \"Col\":        \"Officer\",\n",
    "    \"Major\":      \"Officer\",\n",
    "    \"Jonkheer\":   \"Royalty\",\n",
    "    \"Don\":        \"Royalty\",\n",
    "    \"Sir\" :       \"Royalty\",\n",
    "    \"Dr\":         \"Officer\",\n",
    "    \"Rev\":        \"Officer\",\n",
    "    \"the Countess\":\"Royalty\",\n",
    "    \"Dona\":       \"Royalty\",\n",
    "    \"Mme\":        \"Mrs\",\n",
    "    \"Mlle\":       \"Miss\",\n",
    "    \"Ms\":         \"Mrs\",\n",
    "    \"Mr\" :        \"Mr\",\n",
    "    \"Mrs\" :       \"Mrs\",\n",
    "    \"Miss\" :      \"Miss\",\n",
    "    \"Master\" :    \"Master\",\n",
    "    \"Lady\" :      \"Royalty\"\n",
    "}\n",
    "\n",
    "df_train[\"Title\"] = df_train[\"Title\"].map(normalized_titles)\n",
    "df_test[\"Title\"] = df_test[\"Title\"].map(normalized_titles)\n",
    "df[\"Title\"] = df[\"Title\"].map(normalized_titles)"
   ]
  },
  {
   "cell_type": "code",
   "execution_count": 42,
   "id": "4b262f2f-11aa-4246-bccb-ea875ad7808e",
   "metadata": {},
   "outputs": [
    {
     "data": {
      "text/plain": [
       "Sex     Pclass  Title  \n",
       "female  1       Miss       30.0\n",
       "                Mrs        40.0\n",
       "                Officer    49.0\n",
       "                Royalty    40.5\n",
       "        2       Miss       24.0\n",
       "                Mrs        31.5\n",
       "        3       Miss       18.0\n",
       "                Mrs        31.0\n",
       "male    1       Master      4.0\n",
       "                Mr         40.0\n",
       "                Officer    51.0\n",
       "                Royalty    40.0\n",
       "        2       Master      1.0\n",
       "                Mr         31.0\n",
       "                Officer    46.5\n",
       "        3       Master      4.0\n",
       "                Mr         26.0\n",
       "Name: Age, dtype: float64"
      ]
     },
     "execution_count": 42,
     "metadata": {},
     "output_type": "execute_result"
    }
   ],
   "source": [
    "grouped = df_train.groupby(['Sex','Pclass', 'Title'])\n",
    "grouped.Age.median()"
   ]
  },
  {
   "cell_type": "code",
   "execution_count": 43,
   "id": "da3d6300-b80b-474c-821f-103396e93f45",
   "metadata": {},
   "outputs": [],
   "source": [
    "# ADICIONA AOS VALORES FALTANTES A MEDIA DA IDADE CALCULADA AGRUPANDO PELO TITULO, CLASSE E SEXO\n",
    "df_train[\"Age\"] = grouped[\"Age\"].apply(lambda x: x.fillna(x.median()))\n",
    "df_test[\"Age\"] = grouped[\"Age\"].apply(lambda x: x.fillna(x.median()))"
   ]
  },
  {
   "cell_type": "markdown",
   "id": "039632af-7014-499b-b00b-4a7c4d4bf6d1",
   "metadata": {},
   "source": [
    "### Missing Values - Cabin"
   ]
  },
  {
   "cell_type": "code",
   "execution_count": 44,
   "id": "f50fc825-bc3b-4529-80d2-077e3a8ae651",
   "metadata": {},
   "outputs": [],
   "source": [
    "# OUTRA IDEIA DA REFERICA 1. \n",
    "# PARA AS CABINES FALTANTES ADICIONA U DE Unknown\n",
    "df_train[\"Cabin\"] = df_train[\"Cabin\"].fillna('U')\n",
    "df_test[\"Cabin\"] = df_test[\"Cabin\"].fillna('U')\n",
    "\n",
    "df_train[\"Cabin\"] = df_train[\"Cabin\"].map(lambda x: x[0])\n",
    "df_test[\"Cabin\"] = df_test[\"Cabin\"].map(lambda x: x[0])"
   ]
  },
  {
   "cell_type": "code",
   "execution_count": 45,
   "id": "2418ff72-7e59-4047-bac3-aa6b52b30a9f",
   "metadata": {},
   "outputs": [
    {
     "data": {
      "text/plain": [
       "<AxesSubplot:xlabel='Cabin', ylabel='Survived'>"
      ]
     },
     "execution_count": 45,
     "metadata": {},
     "output_type": "execute_result"
    },
    {
     "data": {
      "image/png": "[encoded data removed]",
      "text/plain": [
       "<Figure size 432x288 with 1 Axes>"
      ]
     },
     "metadata": {},
     "output_type": "display_data"
    }
   ],
   "source": [
    "sns.barplot(data=df_train, x=\"Cabin\", y=\"Survived\")"
   ]
  },
  {
   "cell_type": "code",
   "execution_count": 46,
   "id": "3ffa7f31-75bc-4f59-ab45-acf1d17887f3",
   "metadata": {},
   "outputs": [
    {
     "name": "stdout",
     "output_type": "stream",
     "text": [
      "\u001b[1mMissing Embarked Values\u001b[0m\n",
      "Total: 2\n",
      "Total: 0\n"
     ]
    }
   ],
   "source": [
    "# FARE TEM POUCOS VALOES FALTANDO\n",
    "print(f\"\\33[1mMissing Embarked Values\\33[0m\")\n",
    "print(f\"Total: {df_train['Embarked'].isnull().sum()}\")\n",
    "print(f\"Total: {df_test['Embarked'].isnull().sum()}\")"
   ]
  },
  {
   "cell_type": "markdown",
   "id": "4029cc78-de65-4ab1-9225-f993246cae0f",
   "metadata": {},
   "source": [
    "## Missing Values - Embarked e Fare"
   ]
  },
  {
   "cell_type": "code",
   "execution_count": 48,
   "id": "9af8e88f-3556-437d-a6cc-f738357a5dc6",
   "metadata": {},
   "outputs": [],
   "source": [
    "# ADICIONA O MAIS COMUM\n",
    "most_embarked = df_train[\"Embarked\"].value_counts().index[0]\n",
    "\n",
    "df_train[\"Embarked\"] = df_train[\"Embarked\"].fillna(most_embarked)\n",
    "df_test[\"Embarked\"] = df_test[\"Embarked\"].fillna(most_embarked)\n",
    "\n",
    "# ADICIONA A MEDIA DE FARE\n",
    "df_train[\"Fare\"] = df_train[\"Fare\"].fillna(df_train[\"Fare\"].median())\n",
    "df_test[\"Fare\"] = df_test[\"Fare\"].fillna(df_train[\"Fare\"].median())"
   ]
  },
  {
   "cell_type": "code",
   "execution_count": 49,
   "id": "dd9c5c04-56b0-4744-b438-e82ad72316f2",
   "metadata": {},
   "outputs": [
    {
     "name": "stdout",
     "output_type": "stream",
     "text": [
      "<class 'pandas.core.frame.DataFrame'>\n",
      "RangeIndex: 891 entries, 0 to 890\n",
      "Data columns (total 13 columns):\n",
      " #   Column       Non-Null Count  Dtype  \n",
      "---  ------       --------------  -----  \n",
      " 0   PassengerId  891 non-null    int64  \n",
      " 1   Survived     891 non-null    int64  \n",
      " 2   Pclass       891 non-null    int64  \n",
      " 3   Name         891 non-null    object \n",
      " 4   Sex          891 non-null    object \n",
      " 5   Age          891 non-null    float64\n",
      " 6   SibSp        891 non-null    int64  \n",
      " 7   Parch        891 non-null    int64  \n",
      " 8   Ticket       891 non-null    object \n",
      " 9   Fare         891 non-null    float64\n",
      " 10  Cabin        891 non-null    object \n",
      " 11  Embarked     891 non-null    object \n",
      " 12  Title        891 non-null    object \n",
      "dtypes: float64(2), int64(5), object(6)\n",
      "memory usage: 90.6+ KB\n"
     ]
    }
   ],
   "source": [
    "df_train.info()"
   ]
  },
  {
   "cell_type": "code",
   "execution_count": 50,
   "id": "175177f4-1ce4-4407-b4c6-cbc42ef36925",
   "metadata": {},
   "outputs": [
    {
     "name": "stdout",
     "output_type": "stream",
     "text": [
      "<class 'pandas.core.frame.DataFrame'>\n",
      "RangeIndex: 418 entries, 0 to 417\n",
      "Data columns (total 12 columns):\n",
      " #   Column       Non-Null Count  Dtype  \n",
      "---  ------       --------------  -----  \n",
      " 0   PassengerId  418 non-null    int64  \n",
      " 1   Pclass       418 non-null    int64  \n",
      " 2   Name         418 non-null    object \n",
      " 3   Sex          418 non-null    object \n",
      " 4   Age          418 non-null    float64\n",
      " 5   SibSp        418 non-null    int64  \n",
      " 6   Parch        418 non-null    int64  \n",
      " 7   Ticket       418 non-null    object \n",
      " 8   Fare         418 non-null    float64\n",
      " 9   Cabin        418 non-null    object \n",
      " 10  Embarked     418 non-null    object \n",
      " 11  Title        418 non-null    object \n",
      "dtypes: float64(2), int64(4), object(6)\n",
      "memory usage: 39.3+ KB\n"
     ]
    }
   ],
   "source": [
    "df_test.info()"
   ]
  },
  {
   "cell_type": "markdown",
   "id": "41189e4c-07ef-4e80-a164-710e519ab566",
   "metadata": {},
   "source": [
    "## SibSP and Parch to FamilySize"
   ]
  },
  {
   "cell_type": "code",
   "execution_count": 51,
   "id": "cc9cf964-2161-44d5-8ff2-56e749652653",
   "metadata": {},
   "outputs": [],
   "source": [
    "# COMO JA COMENTADO, AQUI USO OUTRA IDEIA DA. REFERENCIA 1.\n",
    "# SOMANDO OS PARENTES E CRIANDO UMA NOVA FEATURES\n",
    "df_train['FamilySize'] = df_train[\"Parch\"] + df_train[\"SibSp\"] + 1\n",
    "df_test['FamilySize'] = df_test[\"Parch\"] + df_test[\"SibSp\"] + 1                                  "
   ]
  },
  {
   "cell_type": "markdown",
   "id": "ec9f981b-8812-4ea2-880b-c9f110eca081",
   "metadata": {},
   "source": [
    "## Age"
   ]
  },
  {
   "cell_type": "code",
   "execution_count": 52,
   "id": "a743e3b2-0865-40d7-9ccb-fc29c843764a",
   "metadata": {},
   "outputs": [
    {
     "data": {
      "text/plain": [
       "(19.0, 26.0]     247\n",
       "(0.419, 19.0]    201\n",
       "(30.0, 40.0]     201\n",
       "(40.0, 80.0]     151\n",
       "(26.0, 30.0]      91\n",
       "Name: Age, dtype: int64"
      ]
     },
     "execution_count": 52,
     "metadata": {},
     "output_type": "execute_result"
    }
   ],
   "source": [
    "# TRANSFORMA A IDADE EM UMA FEATURE DE CLASSIFICAÇÃO\n",
    "pd.qcut(df_train[\"Age\"], 5).value_counts()"
   ]
  },
  {
   "cell_type": "code",
   "execution_count": 53,
   "id": "222f0f7b-0212-42df-afb5-77f272aade62",
   "metadata": {},
   "outputs": [],
   "source": [
    "df_train.loc[(df_train[\"Age\"] >= 0) & (df_train[\"Age\"] < 19), \"Age\"] = 0 \n",
    "df_train.loc[(df_train[\"Age\"] >= 19) & (df_train[\"Age\"] < 25), \"Age\"] = 1\n",
    "df_train.loc[(df_train[\"Age\"] >= 25) & (df_train[\"Age\"] < 32), \"Age\"] = 2\n",
    "df_train.loc[(df_train[\"Age\"] >= 32) & (df_train[\"Age\"] < 42), \"Age\"] = 3\n",
    "df_train.loc[(df_train[\"Age\"] >= 42), \"Age\"] = 4\n",
    "\n",
    "df_test.loc[(df_test[\"Age\"] >= 0) & (df_test[\"Age\"] < 19), \"Age\"] = 0 \n",
    "df_test.loc[(df_test[\"Age\"] >= 19) & (df_test[\"Age\"] < 25), \"Age\"] = 1\n",
    "df_test.loc[(df_test[\"Age\"] >= 25) & (df_test[\"Age\"] < 32), \"Age\"] = 2\n",
    "df_test.loc[(df_test[\"Age\"] >= 32) & (df_test[\"Age\"] < 42), \"Age\"] = 3\n",
    "df_test.loc[(df_test[\"Age\"] >= 42), \"Age\"] = 4"
   ]
  },
  {
   "cell_type": "markdown",
   "id": "aa091f38-4baf-4dee-9706-f04fad31eddb",
   "metadata": {},
   "source": [
    "## Fare"
   ]
  },
  {
   "cell_type": "code",
   "execution_count": 54,
   "id": "ed49c025-8c13-490c-beda-d2ae72d60e4a",
   "metadata": {},
   "outputs": [
    {
     "data": {
      "text/plain": [
       "(7.854, 10.5]        184\n",
       "(21.679, 39.688]     180\n",
       "(-0.001, 7.854]      179\n",
       "(39.688, 512.329]    176\n",
       "(10.5, 21.679]       172\n",
       "Name: Fare, dtype: int64"
      ]
     },
     "execution_count": 54,
     "metadata": {},
     "output_type": "execute_result"
    }
   ],
   "source": [
    "# FARE TAMBÉM\n",
    "pd.qcut(df_train[\"Fare\"], 5).value_counts()"
   ]
  },
  {
   "cell_type": "code",
   "execution_count": 55,
   "id": "ed32e1eb-5b35-42d3-b62c-6335d08c4771",
   "metadata": {},
   "outputs": [],
   "source": [
    "df_train.loc[(df_train[\"Fare\"] >= 0) & (df_train[\"Fare\"] < 8), \"Fare\"] = 0 \n",
    "df_train.loc[(df_train[\"Fare\"] >= 8) & (df_train[\"Fare\"] < 11), \"Fare\"] = 1\n",
    "df_train.loc[(df_train[\"Fare\"] >= 11) & (df_train[\"Fare\"] < 22), \"Fare\"] = 2\n",
    "df_train.loc[(df_train[\"Fare\"] >= 22) & (df_train[\"Fare\"] < 42), \"Fare\"] = 3\n",
    "df_train.loc[(df_train[\"Fare\"] >= 42), \"Fare\"] = 4\n",
    "\n",
    "df_test.loc[(df_test[\"Fare\"] >= 0) & (df_test[\"Fare\"] < 8), \"Fare\"] = 0 \n",
    "df_test.loc[(df_test[\"Fare\"] >= 8) & (df_test[\"Fare\"] < 11), \"Fare\"] = 1\n",
    "df_test.loc[(df_test[\"Fare\"] >= 11) & (df_test[\"Fare\"] < 22), \"Fare\"] = 2\n",
    "df_test.loc[(df_test[\"Fare\"] >= 22) & (df_test[\"Fare\"] < 42), \"Fare\"] = 3\n",
    "df_test.loc[(df_test[\"Fare\"] >= 42), \"Fare\"] = 4"
   ]
  },
  {
   "cell_type": "markdown",
   "id": "9de46964-2d79-47f7-bc51-db838b6f8cc2",
   "metadata": {},
   "source": [
    "# Drop"
   ]
  },
  {
   "cell_type": "code",
   "execution_count": 56,
   "id": "12d59995-edaf-40b5-80c2-5baec6e29be9",
   "metadata": {},
   "outputs": [],
   "source": [
    "# DROP FEATURES INUTEIS\n",
    "df_train = df_train.drop(['PassengerId','Name','Ticket','SibSp','Parch','Ticket'], axis=1)\n",
    "df_test = df_test.drop(['Name','Ticket','SibSp','Parch','Ticket'], axis=1)"
   ]
  },
  {
   "cell_type": "code",
   "execution_count": 57,
   "id": "7f4cb31a-2f03-46da-bc7d-a9f3966f873d",
   "metadata": {},
   "outputs": [
    {
     "data": {
      "text/html": [
       "<div>\n",
       "<style scoped>\n",
       "    .dataframe tbody tr th:only-of-type {\n",
       "        vertical-align: middle;\n",
       "    }\n",
       "\n",
       "    .dataframe tbody tr th {\n",
       "        vertical-align: top;\n",
       "    }\n",
       "\n",
       "    .dataframe thead th {\n",
       "        text-align: right;\n",
       "    }\n",
       "</style>\n",
       "<table border=\"1\" class=\"dataframe\">\n",
       "  <thead>\n",
       "    <tr style=\"text-align: right;\">\n",
       "      <th></th>\n",
       "      <th>Survived</th>\n",
       "      <th>Pclass</th>\n",
       "      <th>Sex</th>\n",
       "      <th>Age</th>\n",
       "      <th>Fare</th>\n",
       "      <th>Cabin</th>\n",
       "      <th>Embarked</th>\n",
       "      <th>Title</th>\n",
       "      <th>FamilySize</th>\n",
       "    </tr>\n",
       "  </thead>\n",
       "  <tbody>\n",
       "    <tr>\n",
       "      <th>0</th>\n",
       "      <td>0</td>\n",
       "      <td>3</td>\n",
       "      <td>male</td>\n",
       "      <td>1.0</td>\n",
       "      <td>0.0</td>\n",
       "      <td>U</td>\n",
       "      <td>S</td>\n",
       "      <td>Mr</td>\n",
       "      <td>2</td>\n",
       "    </tr>\n",
       "    <tr>\n",
       "      <th>1</th>\n",
       "      <td>1</td>\n",
       "      <td>1</td>\n",
       "      <td>female</td>\n",
       "      <td>3.0</td>\n",
       "      <td>4.0</td>\n",
       "      <td>C</td>\n",
       "      <td>C</td>\n",
       "      <td>Mrs</td>\n",
       "      <td>2</td>\n",
       "    </tr>\n",
       "    <tr>\n",
       "      <th>2</th>\n",
       "      <td>1</td>\n",
       "      <td>3</td>\n",
       "      <td>female</td>\n",
       "      <td>2.0</td>\n",
       "      <td>0.0</td>\n",
       "      <td>U</td>\n",
       "      <td>S</td>\n",
       "      <td>Miss</td>\n",
       "      <td>1</td>\n",
       "    </tr>\n",
       "    <tr>\n",
       "      <th>3</th>\n",
       "      <td>1</td>\n",
       "      <td>1</td>\n",
       "      <td>female</td>\n",
       "      <td>3.0</td>\n",
       "      <td>4.0</td>\n",
       "      <td>C</td>\n",
       "      <td>S</td>\n",
       "      <td>Mrs</td>\n",
       "      <td>2</td>\n",
       "    </tr>\n",
       "    <tr>\n",
       "      <th>4</th>\n",
       "      <td>0</td>\n",
       "      <td>3</td>\n",
       "      <td>male</td>\n",
       "      <td>3.0</td>\n",
       "      <td>1.0</td>\n",
       "      <td>U</td>\n",
       "      <td>S</td>\n",
       "      <td>Mr</td>\n",
       "      <td>1</td>\n",
       "    </tr>\n",
       "  </tbody>\n",
       "</table>\n",
       "</div>"
      ],
      "text/plain": [
       "   Survived  Pclass     Sex  Age  Fare Cabin Embarked Title  FamilySize\n",
       "0         0       3    male  1.0   0.0     U        S    Mr           2\n",
       "1         1       1  female  3.0   4.0     C        C   Mrs           2\n",
       "2         1       3  female  2.0   0.0     U        S  Miss           1\n",
       "3         1       1  female  3.0   4.0     C        S   Mrs           2\n",
       "4         0       3    male  3.0   1.0     U        S    Mr           1"
      ]
     },
     "metadata": {},
     "output_type": "display_data"
    },
    {
     "data": {
      "text/html": [
       "<div>\n",
       "<style scoped>\n",
       "    .dataframe tbody tr th:only-of-type {\n",
       "        vertical-align: middle;\n",
       "    }\n",
       "\n",
       "    .dataframe tbody tr th {\n",
       "        vertical-align: top;\n",
       "    }\n",
       "\n",
       "    .dataframe thead th {\n",
       "        text-align: right;\n",
       "    }\n",
       "</style>\n",
       "<table border=\"1\" class=\"dataframe\">\n",
       "  <thead>\n",
       "    <tr style=\"text-align: right;\">\n",
       "      <th></th>\n",
       "      <th>PassengerId</th>\n",
       "      <th>Pclass</th>\n",
       "      <th>Sex</th>\n",
       "      <th>Age</th>\n",
       "      <th>Fare</th>\n",
       "      <th>Cabin</th>\n",
       "      <th>Embarked</th>\n",
       "      <th>Title</th>\n",
       "      <th>FamilySize</th>\n",
       "    </tr>\n",
       "  </thead>\n",
       "  <tbody>\n",
       "    <tr>\n",
       "      <th>0</th>\n",
       "      <td>892</td>\n",
       "      <td>3</td>\n",
       "      <td>male</td>\n",
       "      <td>1.0</td>\n",
       "      <td>0.0</td>\n",
       "      <td>U</td>\n",
       "      <td>Q</td>\n",
       "      <td>Mr</td>\n",
       "      <td>1</td>\n",
       "    </tr>\n",
       "    <tr>\n",
       "      <th>1</th>\n",
       "      <td>893</td>\n",
       "      <td>3</td>\n",
       "      <td>female</td>\n",
       "      <td>3.0</td>\n",
       "      <td>0.0</td>\n",
       "      <td>U</td>\n",
       "      <td>S</td>\n",
       "      <td>Mrs</td>\n",
       "      <td>2</td>\n",
       "    </tr>\n",
       "    <tr>\n",
       "      <th>2</th>\n",
       "      <td>894</td>\n",
       "      <td>2</td>\n",
       "      <td>male</td>\n",
       "      <td>2.0</td>\n",
       "      <td>1.0</td>\n",
       "      <td>U</td>\n",
       "      <td>Q</td>\n",
       "      <td>Mr</td>\n",
       "      <td>1</td>\n",
       "    </tr>\n",
       "    <tr>\n",
       "      <th>3</th>\n",
       "      <td>895</td>\n",
       "      <td>3</td>\n",
       "      <td>male</td>\n",
       "      <td>3.0</td>\n",
       "      <td>1.0</td>\n",
       "      <td>U</td>\n",
       "      <td>S</td>\n",
       "      <td>Mr</td>\n",
       "      <td>1</td>\n",
       "    </tr>\n",
       "    <tr>\n",
       "      <th>4</th>\n",
       "      <td>896</td>\n",
       "      <td>3</td>\n",
       "      <td>female</td>\n",
       "      <td>3.0</td>\n",
       "      <td>2.0</td>\n",
       "      <td>U</td>\n",
       "      <td>S</td>\n",
       "      <td>Mrs</td>\n",
       "      <td>3</td>\n",
       "    </tr>\n",
       "  </tbody>\n",
       "</table>\n",
       "</div>"
      ],
      "text/plain": [
       "   PassengerId  Pclass     Sex  Age  Fare Cabin Embarked Title  FamilySize\n",
       "0          892       3    male  1.0   0.0     U        Q    Mr           1\n",
       "1          893       3  female  3.0   0.0     U        S   Mrs           2\n",
       "2          894       2    male  2.0   1.0     U        Q    Mr           1\n",
       "3          895       3    male  3.0   1.0     U        S    Mr           1\n",
       "4          896       3  female  3.0   2.0     U        S   Mrs           3"
      ]
     },
     "metadata": {},
     "output_type": "display_data"
    }
   ],
   "source": [
    "display(df_train.head())\n",
    "display(df_test.head())"
   ]
  },
  {
   "cell_type": "markdown",
   "id": "015f6fff-8fbd-473a-91c0-efd063b034d3",
   "metadata": {},
   "source": [
    "### Change Sex Values"
   ]
  },
  {
   "cell_type": "markdown",
   "id": "5db23164-5c52-4906-8242-a3d6df59fb16",
   "metadata": {},
   "source": [
    "### Sex"
   ]
  },
  {
   "cell_type": "code",
   "execution_count": 58,
   "id": "d98a55b4-3a56-479f-997f-633901cbb6d3",
   "metadata": {},
   "outputs": [],
   "source": [
    "# MAP female PARA 1 E male PARA 0\n",
    "sex_map = {\"male\" : 0, \"female\" : 1}\n",
    "df_train[\"Sex\"] = df_train[\"Sex\"].map(sex_map)\n",
    "df_test[\"Sex\"] = df_test[\"Sex\"].map(sex_map)"
   ]
  },
  {
   "cell_type": "markdown",
   "id": "3dd28fcb-5f86-475c-b99d-8f3fc5a6e275",
   "metadata": {},
   "source": [
    "## Get Dummies"
   ]
  },
  {
   "cell_type": "code",
   "execution_count": 59,
   "id": "14022e8c-7664-465c-87b7-a7af769fd69a",
   "metadata": {},
   "outputs": [],
   "source": [
    "# TRANSFORMA OS VALORES DAS LINAS EM FEATURES\n",
    "train_len = df_train.shape[0]\n",
    "test_len = df_test.shape[0]"
   ]
  },
  {
   "cell_type": "code",
   "execution_count": 60,
   "id": "b44be48f-6391-4871-a35b-b6203c8ef89d",
   "metadata": {},
   "outputs": [],
   "source": [
    "df = pd.concat([df_train, df_test], sort=False)"
   ]
  },
  {
   "cell_type": "code",
   "execution_count": 61,
   "id": "ffc40390-dfd4-4d44-adfe-7fdc5640cef0",
   "metadata": {},
   "outputs": [
    {
     "data": {
      "text/html": [
       "<div>\n",
       "<style scoped>\n",
       "    .dataframe tbody tr th:only-of-type {\n",
       "        vertical-align: middle;\n",
       "    }\n",
       "\n",
       "    .dataframe tbody tr th {\n",
       "        vertical-align: top;\n",
       "    }\n",
       "\n",
       "    .dataframe thead th {\n",
       "        text-align: right;\n",
       "    }\n",
       "</style>\n",
       "<table border=\"1\" class=\"dataframe\">\n",
       "  <thead>\n",
       "    <tr style=\"text-align: right;\">\n",
       "      <th></th>\n",
       "      <th>Survived</th>\n",
       "      <th>Pclass</th>\n",
       "      <th>Sex</th>\n",
       "      <th>Age</th>\n",
       "      <th>Fare</th>\n",
       "      <th>Cabin</th>\n",
       "      <th>Embarked</th>\n",
       "      <th>Title</th>\n",
       "      <th>FamilySize</th>\n",
       "      <th>PassengerId</th>\n",
       "    </tr>\n",
       "  </thead>\n",
       "  <tbody>\n",
       "    <tr>\n",
       "      <th>0</th>\n",
       "      <td>0.0</td>\n",
       "      <td>3</td>\n",
       "      <td>0</td>\n",
       "      <td>1.0</td>\n",
       "      <td>0.0</td>\n",
       "      <td>U</td>\n",
       "      <td>S</td>\n",
       "      <td>Mr</td>\n",
       "      <td>2</td>\n",
       "      <td>NaN</td>\n",
       "    </tr>\n",
       "    <tr>\n",
       "      <th>1</th>\n",
       "      <td>1.0</td>\n",
       "      <td>1</td>\n",
       "      <td>1</td>\n",
       "      <td>3.0</td>\n",
       "      <td>4.0</td>\n",
       "      <td>C</td>\n",
       "      <td>C</td>\n",
       "      <td>Mrs</td>\n",
       "      <td>2</td>\n",
       "      <td>NaN</td>\n",
       "    </tr>\n",
       "    <tr>\n",
       "      <th>2</th>\n",
       "      <td>1.0</td>\n",
       "      <td>3</td>\n",
       "      <td>1</td>\n",
       "      <td>2.0</td>\n",
       "      <td>0.0</td>\n",
       "      <td>U</td>\n",
       "      <td>S</td>\n",
       "      <td>Miss</td>\n",
       "      <td>1</td>\n",
       "      <td>NaN</td>\n",
       "    </tr>\n",
       "    <tr>\n",
       "      <th>3</th>\n",
       "      <td>1.0</td>\n",
       "      <td>1</td>\n",
       "      <td>1</td>\n",
       "      <td>3.0</td>\n",
       "      <td>4.0</td>\n",
       "      <td>C</td>\n",
       "      <td>S</td>\n",
       "      <td>Mrs</td>\n",
       "      <td>2</td>\n",
       "      <td>NaN</td>\n",
       "    </tr>\n",
       "    <tr>\n",
       "      <th>4</th>\n",
       "      <td>0.0</td>\n",
       "      <td>3</td>\n",
       "      <td>0</td>\n",
       "      <td>3.0</td>\n",
       "      <td>1.0</td>\n",
       "      <td>U</td>\n",
       "      <td>S</td>\n",
       "      <td>Mr</td>\n",
       "      <td>1</td>\n",
       "      <td>NaN</td>\n",
       "    </tr>\n",
       "    <tr>\n",
       "      <th>...</th>\n",
       "      <td>...</td>\n",
       "      <td>...</td>\n",
       "      <td>...</td>\n",
       "      <td>...</td>\n",
       "      <td>...</td>\n",
       "      <td>...</td>\n",
       "      <td>...</td>\n",
       "      <td>...</td>\n",
       "      <td>...</td>\n",
       "      <td>...</td>\n",
       "    </tr>\n",
       "    <tr>\n",
       "      <th>413</th>\n",
       "      <td>NaN</td>\n",
       "      <td>3</td>\n",
       "      <td>0</td>\n",
       "      <td>2.0</td>\n",
       "      <td>1.0</td>\n",
       "      <td>U</td>\n",
       "      <td>S</td>\n",
       "      <td>Mr</td>\n",
       "      <td>1</td>\n",
       "      <td>1305.0</td>\n",
       "    </tr>\n",
       "    <tr>\n",
       "      <th>414</th>\n",
       "      <td>NaN</td>\n",
       "      <td>1</td>\n",
       "      <td>1</td>\n",
       "      <td>4.0</td>\n",
       "      <td>4.0</td>\n",
       "      <td>C</td>\n",
       "      <td>C</td>\n",
       "      <td>Royalty</td>\n",
       "      <td>1</td>\n",
       "      <td>1306.0</td>\n",
       "    </tr>\n",
       "    <tr>\n",
       "      <th>415</th>\n",
       "      <td>NaN</td>\n",
       "      <td>3</td>\n",
       "      <td>0</td>\n",
       "      <td>2.0</td>\n",
       "      <td>0.0</td>\n",
       "      <td>U</td>\n",
       "      <td>S</td>\n",
       "      <td>Mr</td>\n",
       "      <td>1</td>\n",
       "      <td>1307.0</td>\n",
       "    </tr>\n",
       "    <tr>\n",
       "      <th>416</th>\n",
       "      <td>NaN</td>\n",
       "      <td>3</td>\n",
       "      <td>0</td>\n",
       "      <td>3.0</td>\n",
       "      <td>1.0</td>\n",
       "      <td>U</td>\n",
       "      <td>S</td>\n",
       "      <td>Mr</td>\n",
       "      <td>1</td>\n",
       "      <td>1308.0</td>\n",
       "    </tr>\n",
       "    <tr>\n",
       "      <th>417</th>\n",
       "      <td>NaN</td>\n",
       "      <td>3</td>\n",
       "      <td>0</td>\n",
       "      <td>0.0</td>\n",
       "      <td>3.0</td>\n",
       "      <td>U</td>\n",
       "      <td>C</td>\n",
       "      <td>Master</td>\n",
       "      <td>3</td>\n",
       "      <td>1309.0</td>\n",
       "    </tr>\n",
       "  </tbody>\n",
       "</table>\n",
       "<p>1309 rows × 10 columns</p>\n",
       "</div>"
      ],
      "text/plain": [
       "     Survived  Pclass  Sex  Age  Fare Cabin Embarked    Title  FamilySize  \\\n",
       "0         0.0       3    0  1.0   0.0     U        S       Mr           2   \n",
       "1         1.0       1    1  3.0   4.0     C        C      Mrs           2   \n",
       "2         1.0       3    1  2.0   0.0     U        S     Miss           1   \n",
       "3         1.0       1    1  3.0   4.0     C        S      Mrs           2   \n",
       "4         0.0       3    0  3.0   1.0     U        S       Mr           1   \n",
       "..        ...     ...  ...  ...   ...   ...      ...      ...         ...   \n",
       "413       NaN       3    0  2.0   1.0     U        S       Mr           1   \n",
       "414       NaN       1    1  4.0   4.0     C        C  Royalty           1   \n",
       "415       NaN       3    0  2.0   0.0     U        S       Mr           1   \n",
       "416       NaN       3    0  3.0   1.0     U        S       Mr           1   \n",
       "417       NaN       3    0  0.0   3.0     U        C   Master           3   \n",
       "\n",
       "     PassengerId  \n",
       "0            NaN  \n",
       "1            NaN  \n",
       "2            NaN  \n",
       "3            NaN  \n",
       "4            NaN  \n",
       "..           ...  \n",
       "413       1305.0  \n",
       "414       1306.0  \n",
       "415       1307.0  \n",
       "416       1308.0  \n",
       "417       1309.0  \n",
       "\n",
       "[1309 rows x 10 columns]"
      ]
     },
     "execution_count": 61,
     "metadata": {},
     "output_type": "execute_result"
    }
   ],
   "source": [
    "df"
   ]
  },
  {
   "cell_type": "code",
   "execution_count": 62,
   "id": "f856fbc9-b9e0-45e5-b8be-336ee01e31db",
   "metadata": {},
   "outputs": [],
   "source": [
    "df_dummie = pd.get_dummies(df)"
   ]
  },
  {
   "cell_type": "code",
   "execution_count": 63,
   "id": "24b688f7-fc54-4b11-b2d8-28b73743f132",
   "metadata": {},
   "outputs": [],
   "source": [
    "df_train_dummie = df_dummie[:train_len]\n",
    "df_test_dummie = df_dummie[train_len:]"
   ]
  },
  {
   "cell_type": "code",
   "execution_count": 64,
   "id": "3a36ebf7-e8d0-482a-8f63-de6515453e9f",
   "metadata": {},
   "outputs": [
    {
     "name": "stdout",
     "output_type": "stream",
     "text": [
      "<class 'pandas.core.frame.DataFrame'>\n",
      "Int64Index: 418 entries, 0 to 417\n",
      "Data columns (total 25 columns):\n",
      " #   Column         Non-Null Count  Dtype  \n",
      "---  ------         --------------  -----  \n",
      " 0   Survived       0 non-null      float64\n",
      " 1   Pclass         418 non-null    int64  \n",
      " 2   Sex            418 non-null    int64  \n",
      " 3   Age            418 non-null    float64\n",
      " 4   Fare           418 non-null    float64\n",
      " 5   FamilySize     418 non-null    int64  \n",
      " 6   PassengerId    418 non-null    float64\n",
      " 7   Cabin_A        418 non-null    uint8  \n",
      " 8   Cabin_B        418 non-null    uint8  \n",
      " 9   Cabin_C        418 non-null    uint8  \n",
      " 10  Cabin_D        418 non-null    uint8  \n",
      " 11  Cabin_E        418 non-null    uint8  \n",
      " 12  Cabin_F        418 non-null    uint8  \n",
      " 13  Cabin_G        418 non-null    uint8  \n",
      " 14  Cabin_T        418 non-null    uint8  \n",
      " 15  Cabin_U        418 non-null    uint8  \n",
      " 16  Embarked_C     418 non-null    uint8  \n",
      " 17  Embarked_Q     418 non-null    uint8  \n",
      " 18  Embarked_S     418 non-null    uint8  \n",
      " 19  Title_Master   418 non-null    uint8  \n",
      " 20  Title_Miss     418 non-null    uint8  \n",
      " 21  Title_Mr       418 non-null    uint8  \n",
      " 22  Title_Mrs      418 non-null    uint8  \n",
      " 23  Title_Officer  418 non-null    uint8  \n",
      " 24  Title_Royalty  418 non-null    uint8  \n",
      "dtypes: float64(4), int64(3), uint8(18)\n",
      "memory usage: 33.5 KB\n"
     ]
    }
   ],
   "source": [
    "df_test_dummie.info()"
   ]
  },
  {
   "cell_type": "code",
   "execution_count": 65,
   "id": "586a5350-b233-46bf-a433-d90368ee2bf6",
   "metadata": {},
   "outputs": [
    {
     "data": {
      "text/html": [
       "<div>\n",
       "<style scoped>\n",
       "    .dataframe tbody tr th:only-of-type {\n",
       "        vertical-align: middle;\n",
       "    }\n",
       "\n",
       "    .dataframe tbody tr th {\n",
       "        vertical-align: top;\n",
       "    }\n",
       "\n",
       "    .dataframe thead th {\n",
       "        text-align: right;\n",
       "    }\n",
       "</style>\n",
       "<table border=\"1\" class=\"dataframe\">\n",
       "  <thead>\n",
       "    <tr style=\"text-align: right;\">\n",
       "      <th></th>\n",
       "      <th>Survived</th>\n",
       "      <th>Pclass</th>\n",
       "      <th>Sex</th>\n",
       "      <th>Age</th>\n",
       "      <th>Fare</th>\n",
       "      <th>FamilySize</th>\n",
       "      <th>PassengerId</th>\n",
       "      <th>Cabin_A</th>\n",
       "      <th>Cabin_B</th>\n",
       "      <th>Cabin_C</th>\n",
       "      <th>...</th>\n",
       "      <th>Cabin_U</th>\n",
       "      <th>Embarked_C</th>\n",
       "      <th>Embarked_Q</th>\n",
       "      <th>Embarked_S</th>\n",
       "      <th>Title_Master</th>\n",
       "      <th>Title_Miss</th>\n",
       "      <th>Title_Mr</th>\n",
       "      <th>Title_Mrs</th>\n",
       "      <th>Title_Officer</th>\n",
       "      <th>Title_Royalty</th>\n",
       "    </tr>\n",
       "  </thead>\n",
       "  <tbody>\n",
       "    <tr>\n",
       "      <th>0</th>\n",
       "      <td>0.0</td>\n",
       "      <td>3</td>\n",
       "      <td>0</td>\n",
       "      <td>1.0</td>\n",
       "      <td>0.0</td>\n",
       "      <td>2</td>\n",
       "      <td>NaN</td>\n",
       "      <td>0</td>\n",
       "      <td>0</td>\n",
       "      <td>0</td>\n",
       "      <td>...</td>\n",
       "      <td>1</td>\n",
       "      <td>0</td>\n",
       "      <td>0</td>\n",
       "      <td>1</td>\n",
       "      <td>0</td>\n",
       "      <td>0</td>\n",
       "      <td>1</td>\n",
       "      <td>0</td>\n",
       "      <td>0</td>\n",
       "      <td>0</td>\n",
       "    </tr>\n",
       "    <tr>\n",
       "      <th>1</th>\n",
       "      <td>1.0</td>\n",
       "      <td>1</td>\n",
       "      <td>1</td>\n",
       "      <td>3.0</td>\n",
       "      <td>4.0</td>\n",
       "      <td>2</td>\n",
       "      <td>NaN</td>\n",
       "      <td>0</td>\n",
       "      <td>0</td>\n",
       "      <td>1</td>\n",
       "      <td>...</td>\n",
       "      <td>0</td>\n",
       "      <td>1</td>\n",
       "      <td>0</td>\n",
       "      <td>0</td>\n",
       "      <td>0</td>\n",
       "      <td>0</td>\n",
       "      <td>0</td>\n",
       "      <td>1</td>\n",
       "      <td>0</td>\n",
       "      <td>0</td>\n",
       "    </tr>\n",
       "    <tr>\n",
       "      <th>2</th>\n",
       "      <td>1.0</td>\n",
       "      <td>3</td>\n",
       "      <td>1</td>\n",
       "      <td>2.0</td>\n",
       "      <td>0.0</td>\n",
       "      <td>1</td>\n",
       "      <td>NaN</td>\n",
       "      <td>0</td>\n",
       "      <td>0</td>\n",
       "      <td>0</td>\n",
       "      <td>...</td>\n",
       "      <td>1</td>\n",
       "      <td>0</td>\n",
       "      <td>0</td>\n",
       "      <td>1</td>\n",
       "      <td>0</td>\n",
       "      <td>1</td>\n",
       "      <td>0</td>\n",
       "      <td>0</td>\n",
       "      <td>0</td>\n",
       "      <td>0</td>\n",
       "    </tr>\n",
       "    <tr>\n",
       "      <th>3</th>\n",
       "      <td>1.0</td>\n",
       "      <td>1</td>\n",
       "      <td>1</td>\n",
       "      <td>3.0</td>\n",
       "      <td>4.0</td>\n",
       "      <td>2</td>\n",
       "      <td>NaN</td>\n",
       "      <td>0</td>\n",
       "      <td>0</td>\n",
       "      <td>1</td>\n",
       "      <td>...</td>\n",
       "      <td>0</td>\n",
       "      <td>0</td>\n",
       "      <td>0</td>\n",
       "      <td>1</td>\n",
       "      <td>0</td>\n",
       "      <td>0</td>\n",
       "      <td>0</td>\n",
       "      <td>1</td>\n",
       "      <td>0</td>\n",
       "      <td>0</td>\n",
       "    </tr>\n",
       "    <tr>\n",
       "      <th>4</th>\n",
       "      <td>0.0</td>\n",
       "      <td>3</td>\n",
       "      <td>0</td>\n",
       "      <td>3.0</td>\n",
       "      <td>1.0</td>\n",
       "      <td>1</td>\n",
       "      <td>NaN</td>\n",
       "      <td>0</td>\n",
       "      <td>0</td>\n",
       "      <td>0</td>\n",
       "      <td>...</td>\n",
       "      <td>1</td>\n",
       "      <td>0</td>\n",
       "      <td>0</td>\n",
       "      <td>1</td>\n",
       "      <td>0</td>\n",
       "      <td>0</td>\n",
       "      <td>1</td>\n",
       "      <td>0</td>\n",
       "      <td>0</td>\n",
       "      <td>0</td>\n",
       "    </tr>\n",
       "  </tbody>\n",
       "</table>\n",
       "<p>5 rows × 25 columns</p>\n",
       "</div>"
      ],
      "text/plain": [
       "   Survived  Pclass  Sex  Age  Fare  FamilySize  PassengerId  Cabin_A  \\\n",
       "0       0.0       3    0  1.0   0.0           2          NaN        0   \n",
       "1       1.0       1    1  3.0   4.0           2          NaN        0   \n",
       "2       1.0       3    1  2.0   0.0           1          NaN        0   \n",
       "3       1.0       1    1  3.0   4.0           2          NaN        0   \n",
       "4       0.0       3    0  3.0   1.0           1          NaN        0   \n",
       "\n",
       "   Cabin_B  Cabin_C  ...  Cabin_U  Embarked_C  Embarked_Q  Embarked_S  \\\n",
       "0        0        0  ...        1           0           0           1   \n",
       "1        0        1  ...        0           1           0           0   \n",
       "2        0        0  ...        1           0           0           1   \n",
       "3        0        1  ...        0           0           0           1   \n",
       "4        0        0  ...        1           0           0           1   \n",
       "\n",
       "   Title_Master  Title_Miss  Title_Mr  Title_Mrs  Title_Officer  Title_Royalty  \n",
       "0             0           0         1          0              0              0  \n",
       "1             0           0         0          1              0              0  \n",
       "2             0           1         0          0              0              0  \n",
       "3             0           0         0          1              0              0  \n",
       "4             0           0         1          0              0              0  \n",
       "\n",
       "[5 rows x 25 columns]"
      ]
     },
     "execution_count": 65,
     "metadata": {},
     "output_type": "execute_result"
    }
   ],
   "source": [
    "df_train_dummie.head()"
   ]
  },
  {
   "cell_type": "code",
   "execution_count": 66,
   "id": "44a86197-c25e-4db3-a8a7-6aef6dbacca7",
   "metadata": {},
   "outputs": [
    {
     "data": {
      "text/html": [
       "<div>\n",
       "<style scoped>\n",
       "    .dataframe tbody tr th:only-of-type {\n",
       "        vertical-align: middle;\n",
       "    }\n",
       "\n",
       "    .dataframe tbody tr th {\n",
       "        vertical-align: top;\n",
       "    }\n",
       "\n",
       "    .dataframe thead th {\n",
       "        text-align: right;\n",
       "    }\n",
       "</style>\n",
       "<table border=\"1\" class=\"dataframe\">\n",
       "  <thead>\n",
       "    <tr style=\"text-align: right;\">\n",
       "      <th></th>\n",
       "      <th>Survived</th>\n",
       "      <th>Pclass</th>\n",
       "      <th>Sex</th>\n",
       "      <th>Age</th>\n",
       "      <th>Fare</th>\n",
       "      <th>FamilySize</th>\n",
       "      <th>PassengerId</th>\n",
       "      <th>Cabin_A</th>\n",
       "      <th>Cabin_B</th>\n",
       "      <th>Cabin_C</th>\n",
       "      <th>...</th>\n",
       "      <th>Cabin_U</th>\n",
       "      <th>Embarked_C</th>\n",
       "      <th>Embarked_Q</th>\n",
       "      <th>Embarked_S</th>\n",
       "      <th>Title_Master</th>\n",
       "      <th>Title_Miss</th>\n",
       "      <th>Title_Mr</th>\n",
       "      <th>Title_Mrs</th>\n",
       "      <th>Title_Officer</th>\n",
       "      <th>Title_Royalty</th>\n",
       "    </tr>\n",
       "  </thead>\n",
       "  <tbody>\n",
       "    <tr>\n",
       "      <th>0</th>\n",
       "      <td>NaN</td>\n",
       "      <td>3</td>\n",
       "      <td>0</td>\n",
       "      <td>1.0</td>\n",
       "      <td>0.0</td>\n",
       "      <td>1</td>\n",
       "      <td>892.0</td>\n",
       "      <td>0</td>\n",
       "      <td>0</td>\n",
       "      <td>0</td>\n",
       "      <td>...</td>\n",
       "      <td>1</td>\n",
       "      <td>0</td>\n",
       "      <td>1</td>\n",
       "      <td>0</td>\n",
       "      <td>0</td>\n",
       "      <td>0</td>\n",
       "      <td>1</td>\n",
       "      <td>0</td>\n",
       "      <td>0</td>\n",
       "      <td>0</td>\n",
       "    </tr>\n",
       "    <tr>\n",
       "      <th>1</th>\n",
       "      <td>NaN</td>\n",
       "      <td>3</td>\n",
       "      <td>1</td>\n",
       "      <td>3.0</td>\n",
       "      <td>0.0</td>\n",
       "      <td>2</td>\n",
       "      <td>893.0</td>\n",
       "      <td>0</td>\n",
       "      <td>0</td>\n",
       "      <td>0</td>\n",
       "      <td>...</td>\n",
       "      <td>1</td>\n",
       "      <td>0</td>\n",
       "      <td>0</td>\n",
       "      <td>1</td>\n",
       "      <td>0</td>\n",
       "      <td>0</td>\n",
       "      <td>0</td>\n",
       "      <td>1</td>\n",
       "      <td>0</td>\n",
       "      <td>0</td>\n",
       "    </tr>\n",
       "    <tr>\n",
       "      <th>2</th>\n",
       "      <td>NaN</td>\n",
       "      <td>2</td>\n",
       "      <td>0</td>\n",
       "      <td>2.0</td>\n",
       "      <td>1.0</td>\n",
       "      <td>1</td>\n",
       "      <td>894.0</td>\n",
       "      <td>0</td>\n",
       "      <td>0</td>\n",
       "      <td>0</td>\n",
       "      <td>...</td>\n",
       "      <td>1</td>\n",
       "      <td>0</td>\n",
       "      <td>1</td>\n",
       "      <td>0</td>\n",
       "      <td>0</td>\n",
       "      <td>0</td>\n",
       "      <td>1</td>\n",
       "      <td>0</td>\n",
       "      <td>0</td>\n",
       "      <td>0</td>\n",
       "    </tr>\n",
       "    <tr>\n",
       "      <th>3</th>\n",
       "      <td>NaN</td>\n",
       "      <td>3</td>\n",
       "      <td>0</td>\n",
       "      <td>3.0</td>\n",
       "      <td>1.0</td>\n",
       "      <td>1</td>\n",
       "      <td>895.0</td>\n",
       "      <td>0</td>\n",
       "      <td>0</td>\n",
       "      <td>0</td>\n",
       "      <td>...</td>\n",
       "      <td>1</td>\n",
       "      <td>0</td>\n",
       "      <td>0</td>\n",
       "      <td>1</td>\n",
       "      <td>0</td>\n",
       "      <td>0</td>\n",
       "      <td>1</td>\n",
       "      <td>0</td>\n",
       "      <td>0</td>\n",
       "      <td>0</td>\n",
       "    </tr>\n",
       "    <tr>\n",
       "      <th>4</th>\n",
       "      <td>NaN</td>\n",
       "      <td>3</td>\n",
       "      <td>1</td>\n",
       "      <td>3.0</td>\n",
       "      <td>2.0</td>\n",
       "      <td>3</td>\n",
       "      <td>896.0</td>\n",
       "      <td>0</td>\n",
       "      <td>0</td>\n",
       "      <td>0</td>\n",
       "      <td>...</td>\n",
       "      <td>1</td>\n",
       "      <td>0</td>\n",
       "      <td>0</td>\n",
       "      <td>1</td>\n",
       "      <td>0</td>\n",
       "      <td>0</td>\n",
       "      <td>0</td>\n",
       "      <td>1</td>\n",
       "      <td>0</td>\n",
       "      <td>0</td>\n",
       "    </tr>\n",
       "  </tbody>\n",
       "</table>\n",
       "<p>5 rows × 25 columns</p>\n",
       "</div>"
      ],
      "text/plain": [
       "   Survived  Pclass  Sex  Age  Fare  FamilySize  PassengerId  Cabin_A  \\\n",
       "0       NaN       3    0  1.0   0.0           1        892.0        0   \n",
       "1       NaN       3    1  3.0   0.0           2        893.0        0   \n",
       "2       NaN       2    0  2.0   1.0           1        894.0        0   \n",
       "3       NaN       3    0  3.0   1.0           1        895.0        0   \n",
       "4       NaN       3    1  3.0   2.0           3        896.0        0   \n",
       "\n",
       "   Cabin_B  Cabin_C  ...  Cabin_U  Embarked_C  Embarked_Q  Embarked_S  \\\n",
       "0        0        0  ...        1           0           1           0   \n",
       "1        0        0  ...        1           0           0           1   \n",
       "2        0        0  ...        1           0           1           0   \n",
       "3        0        0  ...        1           0           0           1   \n",
       "4        0        0  ...        1           0           0           1   \n",
       "\n",
       "   Title_Master  Title_Miss  Title_Mr  Title_Mrs  Title_Officer  Title_Royalty  \n",
       "0             0           0         1          0              0              0  \n",
       "1             0           0         0          1              0              0  \n",
       "2             0           0         1          0              0              0  \n",
       "3             0           0         1          0              0              0  \n",
       "4             0           0         0          1              0              0  \n",
       "\n",
       "[5 rows x 25 columns]"
      ]
     },
     "execution_count": 66,
     "metadata": {},
     "output_type": "execute_result"
    }
   ],
   "source": [
    "df_test_dummie.head()"
   ]
  },
  {
   "cell_type": "code",
   "execution_count": 68,
   "id": "edc82270-b041-400b-bf20-cc3c7760438e",
   "metadata": {},
   "outputs": [
    {
     "name": "stderr",
     "output_type": "stream",
     "text": [
      "/var/folders/5w/c2mb1hls01j9g4bw7pt0qmt40000gn/T/ipykernel_14782/2433257863.py:1: SettingWithCopyWarning: \n",
      "A value is trying to be set on a copy of a slice from a DataFrame.\n",
      "Try using .loc[row_indexer,col_indexer] = value instead\n",
      "\n",
      "See the caveats in the documentation: https://pandas.pydata.org/pandas-docs/stable/user_guide/indexing.html#returning-a-view-versus-a-copy\n",
      "  df_train_dummie[\"Survived\"] = df_train_dummie[\"Survived\"].astype(\"int\")\n"
     ]
    }
   ],
   "source": [
    "# CONVERT THE Survived TO INT, ON SOME PART OF CODE IT WAS TRANSFORMED TO FLOAT\n",
    "df_train_dummie[\"Survived\"] = df_train_dummie[\"Survived\"].astype(\"int\")"
   ]
  },
  {
   "cell_type": "code",
   "execution_count": 69,
   "id": "5ed8d57c-7c24-4e13-8146-0ae3c66e144f",
   "metadata": {},
   "outputs": [],
   "source": [
    "# SALVA A FEATURES Survived PARA TRAINO\n",
    "y_train = df_train[\"Survived\"]\n",
    "x_train = df_train_dummie.drop([\"Survived\", \"PassengerId\"], axis=1)"
   ]
  },
  {
   "cell_type": "code",
   "execution_count": 70,
   "id": "bdcebe9b-0945-4c05-adf0-49e922224468",
   "metadata": {},
   "outputs": [],
   "source": [
    "# SALVA O PassangerId PARA PODER CRIAR O ARQUIVO DE RESULTADO DEPOIS\n",
    "x_test = df_test_dummie.drop([\"PassengerId\", \"Survived\"], axis=1)\n",
    "passenge_id = df_test_dummie[\"PassengerId\"].astype(\"int\")"
   ]
  },
  {
   "cell_type": "code",
   "execution_count": 71,
   "id": "3088aa21-a9f1-425e-9539-c059b3cccbf2",
   "metadata": {},
   "outputs": [],
   "source": [
    "# CONVERTE ELE PARA INT\n",
    "passenge_id = passenge_id.astype(\"int\")"
   ]
  },
  {
   "cell_type": "markdown",
   "id": "159fc5a1-3ca9-4d50-ab8e-b5af9d58fc7b",
   "metadata": {},
   "source": [
    "## Train"
   ]
  },
  {
   "cell_type": "code",
   "execution_count": 72,
   "id": "bf397b4f-b288-47cd-acc5-95ab759b0738",
   "metadata": {},
   "outputs": [],
   "source": [
    "from sklearn.linear_model import LogisticRegressionCV\n",
    "from sklearn.tree import DecisionTreeClassifier\n",
    "from sklearn.tree import ExtraTreeClassifier\n",
    "from sklearn.ensemble import RandomForestClassifier\n",
    "from sklearn.neighbors import KNeighborsClassifier\n",
    "from sklearn.naive_bayes import GaussianNB\n",
    "from sklearn.svm import SVC\n",
    "from catboost import CatBoostClassifier\n",
    "from xgboost import XGBClassifier\n",
    "from lightgbm import LGBMClassifier\n",
    "\n",
    "from sklearn.ensemble import HistGradientBoostingClassifier\n",
    "\n",
    "from sklearn.model_selection import GridSearchCV\n",
    "from sklearn.model_selection import train_test_split\n",
    "from sklearn.model_selection import cross_val_score\n",
    "from sklearn.pipeline import make_pipeline\n",
    "from sklearn.metrics import accuracy_score\n",
    "\n",
    "from sklearn.metrics import accuracy_score\n",
    "\n",
    "# AQUI A IDEIA É TESTAR COM VÁRIOS MODELOS DIFERENTES E ESCOLHER O COM MELHOR RESULTADO"
   ]
  },
  {
   "cell_type": "code",
   "execution_count": 73,
   "id": "9b929471-6d3e-4cc2-aac9-b31e12c9fde0",
   "metadata": {},
   "outputs": [],
   "source": [
    "models = {\"LogisticRegressionCV\": LogisticRegressionCV(max_iter=1000), \"DecisionTreeClassifier\": DecisionTreeClassifier(), \n",
    "         \"ExtraTreeClassifier\": ExtraTreeClassifier(), \"RandomForestClassifier\": RandomForestClassifier(), \n",
    "         \"KNeighborsClassifier\": KNeighborsClassifier(), \"GaussianNB\": GaussianNB(), \"SMV\": SVC(),\n",
    "         \"CatBoostClassifier\": CatBoostClassifier(verbose=False), \"XGBClassifier\" : XGBClassifier(use_label_encoder=False, eval_metric='rmse'), \n",
    "         \"HistGradientBoostingClassifier\": HistGradientBoostingClassifier(verbose=False)\n",
    "         }\n",
    "\n",
    "def calculateBestModel(x_train, y_train, model):\n",
    "    model.fit(x_train, y_train)\n",
    "    y_pred = model.predict(x_train)\n",
    "    \n",
    "    return accuracy_score(y_train, y_pred)"
   ]
  },
  {
   "cell_type": "code",
   "execution_count": 74,
   "id": "402073ad-9246-4cca-a8c3-47a2023844b3",
   "metadata": {},
   "outputs": [
    {
     "name": "stdout",
     "output_type": "stream",
     "text": [
      "\u001b[1mCheck Best Model\n",
      "\u001b[0m\n",
      "Model Name                        Accuracy\n",
      "LogisticRegressionCV............. 0.8372615039281706\n",
      "DecisionTreeClassifier........... 0.9090909090909091\n",
      "ExtraTreeClassifier.............. 0.9090909090909091\n",
      "RandomForestClassifier........... 0.9090909090909091\n",
      "KNeighborsClassifier............. 0.8484848484848485\n",
      "GaussianNB....................... 0.7586980920314254\n",
      "SMV.............................. 0.8338945005611672\n",
      "CatBoostClassifier............... 0.8888888888888888\n",
      "XGBClassifier.................... 0.9034792368125701\n"
     ]
    },
    {
     "name": "stderr",
     "output_type": "stream",
     "text": [
      "/Users/ivastival/opt/anaconda3/envs/boost/lib/python3.8/site-packages/xgboost/data.py:262: FutureWarning: pandas.Int64Index is deprecated and will be removed from pandas in a future version. Use pandas.Index with the appropriate dtype instead.\n",
      "  elif isinstance(data.columns, (pd.Int64Index, pd.RangeIndex)):\n"
     ]
    },
    {
     "name": "stdout",
     "output_type": "stream",
     "text": [
      "HistGradientBoostingClassifier... 0.8900112233445566\n"
     ]
    }
   ],
   "source": [
    "print(\"\\033[1mCheck Best Model\\n\\033[0m\")\n",
    "print(f\"{'Model Name':<34}{'Accuracy':>6}\")\n",
    "\n",
    "# DIVIDE ON TEST AND TRAIN\n",
    "x_train_cl2, x_test_cl2, y_train2, y_test2 = train_test_split(x_train, y_train, test_size=0.3, random_state=45)\n",
    "\n",
    "result_acc = {}\n",
    "for model_name, model in models.items():\n",
    "    acc = calculateBestModel(x_train, y_train, model)\n",
    "    result_acc[model_name] = acc\n",
    "    print(f\"{model_name :.<33} {acc:>5}\")"
   ]
  },
  {
   "cell_type": "code",
   "execution_count": 75,
   "id": "8edfb382-bb16-420f-acff-513559cc54a8",
   "metadata": {},
   "outputs": [],
   "source": [
    "df_acc = pd.DataFrame.from_dict(result_acc, orient = 'index', columns=[\"Acc\"])"
   ]
  },
  {
   "cell_type": "code",
   "execution_count": 76,
   "id": "c5085a9a-445f-47c7-a67a-527136590aad",
   "metadata": {},
   "outputs": [
    {
     "name": "stdout",
     "output_type": "stream",
     "text": [
      "Max -> DecisionTreeClassifier = 0.9090909090909091\n"
     ]
    }
   ],
   "source": [
    "# O MELHOR MODELOS\n",
    "print(f\"Max -> {df_acc.idxmax()[0]} = {df_acc.max()[0]}\")"
   ]
  },
  {
   "cell_type": "code",
   "execution_count": 77,
   "id": "6ceec5b2-fb78-424b-b6ae-7cb8afa2fb3b",
   "metadata": {},
   "outputs": [
    {
     "data": {
      "image/png": "[encoded data removed]",
      "text/plain": [
       "<Figure size 864x504 with 1 Axes>"
      ]
     },
     "metadata": {},
     "output_type": "display_data"
    }
   ],
   "source": [
    "# PLOT ALL RESULTS\n",
    "plt.figure(figsize=(12,7))\n",
    "sns.barplot(data=df_acc, x=df_acc.index, y=\"Acc\")\n",
    "plt.xticks(rotation=90)\n",
    "plt.show()"
   ]
  },
  {
   "cell_type": "code",
   "execution_count": null,
   "id": "1dbf0868-2180-473f-944b-c648e55f27a6",
   "metadata": {},
   "outputs": [],
   "source": [
    "# COM ESSE SETUP EU CONSEGUI O MAXIMO DE 0.76... DE SCORE."
   ]
  },
  {
   "cell_type": "markdown",
   "id": "e17492e5-c2c4-4cc7-ba12-13a44d116d66",
   "metadata": {},
   "source": [
    "## RandomForest"
   ]
  },
  {
   "cell_type": "code",
   "execution_count": 88,
   "id": "8813b3bf-dbf9-451a-88ac-b8db935eeb12",
   "metadata": {},
   "outputs": [],
   "source": [
    "# NA REFERENCIA 1 É USADO O GRIDSEARCH PARA ENCONTRAR O MELHOR SETUP DE VALORES\n",
    "# USAREI O MESMO AQUI\n",
    "RF=RandomForestClassifier(random_state=1)\n",
    "PRF=[{'n_estimators':[10,100],'max_depth':[3,6],'criterion':['gini','entropy']}]\n",
    "GSRF=GridSearchCV(estimator=RF, param_grid=PRF, scoring='accuracy',cv=2)\n",
    "scores_rf=cross_val_score(GSRF,x_train,y_train,scoring='accuracy',cv=5)"
   ]
  },
  {
   "cell_type": "code",
   "execution_count": 89,
   "id": "8e370b40-b2a2-4fb4-851a-6fb1ae764e34",
   "metadata": {},
   "outputs": [
    {
     "data": {
      "text/plain": [
       "0.8204444165463561"
      ]
     },
     "execution_count": 89,
     "metadata": {},
     "output_type": "execute_result"
    }
   ],
   "source": [
    "# THE SCORE\n",
    "np.mean(scores_rf)"
   ]
  },
  {
   "cell_type": "code",
   "execution_count": 90,
   "id": "544f710f-483f-4544-9d1f-5e057c308dd0",
   "metadata": {},
   "outputs": [],
   "source": [
    "model=GSRF.fit(x_train, y_train)\n",
    "pred=model.predict(x_test)\n",
    "output=pd.DataFrame({'PassengerId':passenge_id,'Survived':pred})"
   ]
  },
  {
   "cell_type": "code",
   "execution_count": null,
   "id": "a527abd2-8e2e-4681-a1b6-e17b0daf6d54",
   "metadata": {},
   "outputs": [],
   "source": [
    "# COM ESSE SETUP CONSEGUI O MEU MELHOR SCORE\n",
    "# Score: 0.79186\n",
    "output.to_csv(\"../output/my_submission_31_03_GSRF_review_kaggle.csv\", index=False)"
   ]
  },
  {
   "cell_type": "code",
   "execution_count": null,
   "id": "e3983682-91f1-4565-8913-dfb3991a4d79",
   "metadata": {},
   "outputs": [],
   "source": [
    "# BELLOW I TEST WITH SOME OTHERS MODELS ON KAGGLE, BUT THE RESULT WAS WORSE"
   ]
  },
  {
   "cell_type": "markdown",
   "id": "4a6094d0-51eb-4f73-b081-f7b3246a05d4",
   "metadata": {},
   "source": [
    "## SVC"
   ]
  },
  {
   "cell_type": "code",
   "execution_count": 82,
   "id": "42704d19-50fb-45d3-af6f-953b45a258f8",
   "metadata": {},
   "outputs": [],
   "source": [
    "svc=make_pipeline(StandardScaler(),SVC(random_state=1))\n",
    "r=[0.0001,0.001,0.1,1,10,50,100]\n",
    "PSVM=[{'svc__C':r, 'svc__kernel':['linear']},\n",
    "      {'svc__C':r, 'svc__gamma':r, 'svc__kernel':['rbf']}]\n",
    "GSSVM=GridSearchCV(estimator=svc, param_grid=PSVM, scoring='accuracy', cv=2)\n",
    "scores_svm=cross_val_score(GSSVM, x_train.astype(float), y_train,scoring='accuracy', cv=5)"
   ]
  },
  {
   "cell_type": "code",
   "execution_count": 83,
   "id": "da8e354d-84e0-41a6-90b7-5222d833f1ef",
   "metadata": {},
   "outputs": [
    {
     "data": {
      "text/plain": [
       "0.8114619295712762"
      ]
     },
     "execution_count": 83,
     "metadata": {},
     "output_type": "execute_result"
    }
   ],
   "source": [
    "np.mean(scores_svm)"
   ]
  },
  {
   "cell_type": "code",
   "execution_count": 49,
   "id": "5d0ee275-7682-42fa-a257-25a509719fa3",
   "metadata": {},
   "outputs": [],
   "source": [
    "model=GSRF.fit(x_train, y_train)\n",
    "pred=model.predict(x_test)\n",
    "output=pd.DataFrame({'PassengerId':passenge_id,'Survived':pred})"
   ]
  },
  {
   "cell_type": "code",
   "execution_count": 53,
   "id": "67854a65-3385-44a9-a06e-a6f83611ca01",
   "metadata": {},
   "outputs": [],
   "source": [
    "Score: 0.76..\n",
    "output.to_csv(\"../output/my_submission_31_03_GSSVM_review_kaggle.csv\", index=False)"
   ]
  },
  {
   "cell_type": "markdown",
   "id": "719ab019-3fbd-41e5-947a-cc60bb6ee56f",
   "metadata": {},
   "source": [
    "## XGBoost"
   ]
  },
  {
   "cell_type": "code",
   "execution_count": 91,
   "id": "c541fca3-b306-4aa0-9b21-246f0b11801d",
   "metadata": {},
   "outputs": [
    {
     "name": "stderr",
     "output_type": "stream",
     "text": [
      "/Users/ivastival/opt/anaconda3/envs/boost/lib/python3.8/site-packages/xgboost/data.py:262: FutureWarning: pandas.Int64Index is deprecated and will be removed from pandas in a future version. Use pandas.Index with the appropriate dtype instead.\n",
      "  elif isinstance(data.columns, (pd.Int64Index, pd.RangeIndex)):\n"
     ]
    }
   ],
   "source": [
    "model = XGBClassifier(use_label_encoder=False, eval_metric='rmse')\n",
    "model.fit(x_train, y_train)\n",
    "pred=model.predict(x_test)\n",
    "output=pd.DataFrame({'PassengerId':passenge_id,'Survived':pred})"
   ]
  },
  {
   "cell_type": "code",
   "execution_count": 59,
   "id": "bae45454-2c06-4d09-b94b-201e382460e5",
   "metadata": {},
   "outputs": [],
   "source": [
    "# Score: 0.76315\n",
    "output.to_csv(\"../output/my_submission_31_03_XGBoostClassifier_review_kaggle.csv\", index=False)"
   ]
  },
  {
   "cell_type": "code",
   "execution_count": null,
   "id": "caabb1a9-2452-4daa-92c0-be33b00c9482",
   "metadata": {},
   "outputs": [],
   "source": []
  }
 ],
 "metadata": {
  "kernelspec": {
   "display_name": "Python 3 (ipykernel)",
   "language": "python",
   "name": "python3"
  },
  "language_info": {
   "codemirror_mode": {
    "name": "ipython",
    "version": 3
   },
   "file_extension": ".py",
   "mimetype": "text/x-python",
   "name": "python",
   "nbconvert_exporter": "python",
   "pygments_lexer": "ipython3",
   "version": "3.8.8"
  }
 },
 "nbformat": 4,
 "nbformat_minor": 5
}
