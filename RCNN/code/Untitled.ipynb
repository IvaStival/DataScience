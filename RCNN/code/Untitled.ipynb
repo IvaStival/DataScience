{
 "cells": [
  {
   "cell_type": "code",
   "execution_count": 10,
   "id": "7cdd93c2-4b05-4b2b-9c4b-a89f3b5795c8",
   "metadata": {},
   "outputs": [],
   "source": [
    "import tensorflow as tf\n",
    "import numpy as np"
   ]
  },
  {
   "cell_type": "code",
   "execution_count": 18,
   "id": "20187cef-8a48-4fe6-b18d-7a9bb7337a5e",
   "metadata": {},
   "outputs": [],
   "source": [
    "rand_array = np.random.randint(1,100,size=(10,2))"
   ]
  },
  {
   "cell_type": "code",
   "execution_count": 24,
   "id": "3dd8be43-68ed-4f51-9f0a-98c3d9ce5c36",
   "metadata": {},
   "outputs": [
    {
     "data": {
      "text/plain": [
       "[<tf.Tensor: shape=(1, 10, 2), dtype=int64, numpy=\n",
       " array([[[36, 40],\n",
       "         [57, 14],\n",
       "         [19, 70],\n",
       "         [44, 61],\n",
       "         [63, 71],\n",
       "         [17, 40],\n",
       "         [32, 10],\n",
       "         [97, 96],\n",
       "         [60, 35],\n",
       "         [31, 76]]])>]"
      ]
     },
     "execution_count": 24,
     "metadata": {},
     "output_type": "execute_result"
    }
   ],
   "source": [
    "tensor = tf.constant(rand_array)\n",
    "t = tf.data.Dataset.from_tensors(tensor).batch(3)\n",
    "[x for x in t]"
   ]
  },
  {
   "cell_type": "code",
   "execution_count": 26,
   "id": "1223b4d2-38b8-4b52-869e-df3f05179755",
   "metadata": {},
   "outputs": [
    {
     "data": {
      "text/plain": [
       "[<tf.Tensor: shape=(4, 2), dtype=int64, numpy=\n",
       " array([[17, 40],\n",
       "        [60, 35],\n",
       "        [63, 71],\n",
       "        [36, 40]])>,\n",
       " <tf.Tensor: shape=(4, 2), dtype=int64, numpy=\n",
       " array([[31, 76],\n",
       "        [44, 61],\n",
       "        [97, 96],\n",
       "        [32, 10]])>,\n",
       " <tf.Tensor: shape=(2, 2), dtype=int64, numpy=\n",
       " array([[57, 14],\n",
       "        [19, 70]])>]"
      ]
     },
     "execution_count": 26,
     "metadata": {},
     "output_type": "execute_result"
    }
   ],
   "source": [
    "tensor = tf.constant(rand_array)\n",
    "t = tf.data.Dataset.from_tensor_slices(tensor).shuffle(1000).batch(4)\n",
    "[x for x in t]"
   ]
  },
  {
   "cell_type": "code",
   "execution_count": null,
   "id": "4ca7ddf9-93cb-4e2d-83ab-ee162ceedcb8",
   "metadata": {},
   "outputs": [],
   "source": []
  },
  {
   "cell_type": "code",
   "execution_count": null,
   "id": "fe5302b1-c4bf-43f7-b984-c8c1f31dd2eb",
   "metadata": {},
   "outputs": [],
   "source": []
  }
 ],
 "metadata": {
  "kernelspec": {
   "display_name": "Python 3",
   "language": "python",
   "name": "python3"
  },
  "language_info": {
   "codemirror_mode": {
    "name": "ipython",
    "version": 3
   },
   "file_extension": ".py",
   "mimetype": "text/x-python",
   "name": "python",
   "nbconvert_exporter": "python",
   "pygments_lexer": "ipython3",
   "version": "3.7.1"
  }
 },
 "nbformat": 4,
 "nbformat_minor": 5
}
